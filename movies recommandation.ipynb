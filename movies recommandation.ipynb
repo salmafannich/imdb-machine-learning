{
 "cells": [
  {
   "cell_type": "code",
   "execution_count": 4,
   "id": "9d1d131c-582a-49c1-b9b1-f6e07d289af0",
   "metadata": {},
   "outputs": [],
   "source": [
    "import numpy as np\n",
    "import pandas as pd "
   ]
  },
  {
   "cell_type": "code",
   "execution_count": 5,
   "id": "2e79fa38-dfd8-4738-a4b9-48f0ce144d44",
   "metadata": {},
   "outputs": [],
   "source": [
    "\n",
    "movies = pd.read_csv('tmdb_5000_movies.csv')\n",
    "credits = pd.read_csv('tmdb_5000_credits.csv')"
   ]
  },
  {
   "cell_type": "code",
   "execution_count": 6,
   "id": "6b9220ea-10ec-44ad-a557-e7f2d9d05793",
   "metadata": {},
   "outputs": [
    {
     "data": {
      "text/html": [
       "<div>\n",
       "<style scoped>\n",
       "    .dataframe tbody tr th:only-of-type {\n",
       "        vertical-align: middle;\n",
       "    }\n",
       "\n",
       "    .dataframe tbody tr th {\n",
       "        vertical-align: top;\n",
       "    }\n",
       "\n",
       "    .dataframe thead th {\n",
       "        text-align: right;\n",
       "    }\n",
       "</style>\n",
       "<table border=\"1\" class=\"dataframe\">\n",
       "  <thead>\n",
       "    <tr style=\"text-align: right;\">\n",
       "      <th></th>\n",
       "      <th>budget</th>\n",
       "      <th>genres</th>\n",
       "      <th>homepage</th>\n",
       "      <th>id</th>\n",
       "      <th>keywords</th>\n",
       "      <th>original_language</th>\n",
       "      <th>original_title</th>\n",
       "      <th>overview</th>\n",
       "      <th>popularity</th>\n",
       "      <th>production_companies</th>\n",
       "      <th>production_countries</th>\n",
       "      <th>release_date</th>\n",
       "      <th>revenue</th>\n",
       "      <th>runtime</th>\n",
       "      <th>spoken_languages</th>\n",
       "      <th>status</th>\n",
       "      <th>tagline</th>\n",
       "      <th>title</th>\n",
       "      <th>vote_average</th>\n",
       "      <th>vote_count</th>\n",
       "    </tr>\n",
       "  </thead>\n",
       "  <tbody>\n",
       "    <tr>\n",
       "      <th>0</th>\n",
       "      <td>237000000</td>\n",
       "      <td>[{\"id\": 28, \"name\": \"Action\"}, {\"id\": 12, \"nam...</td>\n",
       "      <td>http://www.avatarmovie.com/</td>\n",
       "      <td>19995</td>\n",
       "      <td>[{\"id\": 1463, \"name\": \"culture clash\"}, {\"id\":...</td>\n",
       "      <td>en</td>\n",
       "      <td>Avatar</td>\n",
       "      <td>In the 22nd century, a paraplegic Marine is di...</td>\n",
       "      <td>150.437577</td>\n",
       "      <td>[{\"name\": \"Ingenious Film Partners\", \"id\": 289...</td>\n",
       "      <td>[{\"iso_3166_1\": \"US\", \"name\": \"United States o...</td>\n",
       "      <td>2009-12-10</td>\n",
       "      <td>2787965087</td>\n",
       "      <td>162.0</td>\n",
       "      <td>[{\"iso_639_1\": \"en\", \"name\": \"English\"}, {\"iso...</td>\n",
       "      <td>Released</td>\n",
       "      <td>Enter the World of Pandora.</td>\n",
       "      <td>Avatar</td>\n",
       "      <td>7.2</td>\n",
       "      <td>11800</td>\n",
       "    </tr>\n",
       "    <tr>\n",
       "      <th>1</th>\n",
       "      <td>300000000</td>\n",
       "      <td>[{\"id\": 12, \"name\": \"Adventure\"}, {\"id\": 14, \"...</td>\n",
       "      <td>http://disney.go.com/disneypictures/pirates/</td>\n",
       "      <td>285</td>\n",
       "      <td>[{\"id\": 270, \"name\": \"ocean\"}, {\"id\": 726, \"na...</td>\n",
       "      <td>en</td>\n",
       "      <td>Pirates of the Caribbean: At World's End</td>\n",
       "      <td>Captain Barbossa, long believed to be dead, ha...</td>\n",
       "      <td>139.082615</td>\n",
       "      <td>[{\"name\": \"Walt Disney Pictures\", \"id\": 2}, {\"...</td>\n",
       "      <td>[{\"iso_3166_1\": \"US\", \"name\": \"United States o...</td>\n",
       "      <td>2007-05-19</td>\n",
       "      <td>961000000</td>\n",
       "      <td>169.0</td>\n",
       "      <td>[{\"iso_639_1\": \"en\", \"name\": \"English\"}]</td>\n",
       "      <td>Released</td>\n",
       "      <td>At the end of the world, the adventure begins.</td>\n",
       "      <td>Pirates of the Caribbean: At World's End</td>\n",
       "      <td>6.9</td>\n",
       "      <td>4500</td>\n",
       "    </tr>\n",
       "    <tr>\n",
       "      <th>2</th>\n",
       "      <td>245000000</td>\n",
       "      <td>[{\"id\": 28, \"name\": \"Action\"}, {\"id\": 12, \"nam...</td>\n",
       "      <td>http://www.sonypictures.com/movies/spectre/</td>\n",
       "      <td>206647</td>\n",
       "      <td>[{\"id\": 470, \"name\": \"spy\"}, {\"id\": 818, \"name...</td>\n",
       "      <td>en</td>\n",
       "      <td>Spectre</td>\n",
       "      <td>A cryptic message from Bond’s past sends him o...</td>\n",
       "      <td>107.376788</td>\n",
       "      <td>[{\"name\": \"Columbia Pictures\", \"id\": 5}, {\"nam...</td>\n",
       "      <td>[{\"iso_3166_1\": \"GB\", \"name\": \"United Kingdom\"...</td>\n",
       "      <td>2015-10-26</td>\n",
       "      <td>880674609</td>\n",
       "      <td>148.0</td>\n",
       "      <td>[{\"iso_639_1\": \"fr\", \"name\": \"Fran\\u00e7ais\"},...</td>\n",
       "      <td>Released</td>\n",
       "      <td>A Plan No One Escapes</td>\n",
       "      <td>Spectre</td>\n",
       "      <td>6.3</td>\n",
       "      <td>4466</td>\n",
       "    </tr>\n",
       "    <tr>\n",
       "      <th>3</th>\n",
       "      <td>250000000</td>\n",
       "      <td>[{\"id\": 28, \"name\": \"Action\"}, {\"id\": 80, \"nam...</td>\n",
       "      <td>http://www.thedarkknightrises.com/</td>\n",
       "      <td>49026</td>\n",
       "      <td>[{\"id\": 849, \"name\": \"dc comics\"}, {\"id\": 853,...</td>\n",
       "      <td>en</td>\n",
       "      <td>The Dark Knight Rises</td>\n",
       "      <td>Following the death of District Attorney Harve...</td>\n",
       "      <td>112.312950</td>\n",
       "      <td>[{\"name\": \"Legendary Pictures\", \"id\": 923}, {\"...</td>\n",
       "      <td>[{\"iso_3166_1\": \"US\", \"name\": \"United States o...</td>\n",
       "      <td>2012-07-16</td>\n",
       "      <td>1084939099</td>\n",
       "      <td>165.0</td>\n",
       "      <td>[{\"iso_639_1\": \"en\", \"name\": \"English\"}]</td>\n",
       "      <td>Released</td>\n",
       "      <td>The Legend Ends</td>\n",
       "      <td>The Dark Knight Rises</td>\n",
       "      <td>7.6</td>\n",
       "      <td>9106</td>\n",
       "    </tr>\n",
       "    <tr>\n",
       "      <th>4</th>\n",
       "      <td>260000000</td>\n",
       "      <td>[{\"id\": 28, \"name\": \"Action\"}, {\"id\": 12, \"nam...</td>\n",
       "      <td>http://movies.disney.com/john-carter</td>\n",
       "      <td>49529</td>\n",
       "      <td>[{\"id\": 818, \"name\": \"based on novel\"}, {\"id\":...</td>\n",
       "      <td>en</td>\n",
       "      <td>John Carter</td>\n",
       "      <td>John Carter is a war-weary, former military ca...</td>\n",
       "      <td>43.926995</td>\n",
       "      <td>[{\"name\": \"Walt Disney Pictures\", \"id\": 2}]</td>\n",
       "      <td>[{\"iso_3166_1\": \"US\", \"name\": \"United States o...</td>\n",
       "      <td>2012-03-07</td>\n",
       "      <td>284139100</td>\n",
       "      <td>132.0</td>\n",
       "      <td>[{\"iso_639_1\": \"en\", \"name\": \"English\"}]</td>\n",
       "      <td>Released</td>\n",
       "      <td>Lost in our world, found in another.</td>\n",
       "      <td>John Carter</td>\n",
       "      <td>6.1</td>\n",
       "      <td>2124</td>\n",
       "    </tr>\n",
       "  </tbody>\n",
       "</table>\n",
       "</div>"
      ],
      "text/plain": [
       "      budget                                             genres  \\\n",
       "0  237000000  [{\"id\": 28, \"name\": \"Action\"}, {\"id\": 12, \"nam...   \n",
       "1  300000000  [{\"id\": 12, \"name\": \"Adventure\"}, {\"id\": 14, \"...   \n",
       "2  245000000  [{\"id\": 28, \"name\": \"Action\"}, {\"id\": 12, \"nam...   \n",
       "3  250000000  [{\"id\": 28, \"name\": \"Action\"}, {\"id\": 80, \"nam...   \n",
       "4  260000000  [{\"id\": 28, \"name\": \"Action\"}, {\"id\": 12, \"nam...   \n",
       "\n",
       "                                       homepage      id  \\\n",
       "0                   http://www.avatarmovie.com/   19995   \n",
       "1  http://disney.go.com/disneypictures/pirates/     285   \n",
       "2   http://www.sonypictures.com/movies/spectre/  206647   \n",
       "3            http://www.thedarkknightrises.com/   49026   \n",
       "4          http://movies.disney.com/john-carter   49529   \n",
       "\n",
       "                                            keywords original_language  \\\n",
       "0  [{\"id\": 1463, \"name\": \"culture clash\"}, {\"id\":...                en   \n",
       "1  [{\"id\": 270, \"name\": \"ocean\"}, {\"id\": 726, \"na...                en   \n",
       "2  [{\"id\": 470, \"name\": \"spy\"}, {\"id\": 818, \"name...                en   \n",
       "3  [{\"id\": 849, \"name\": \"dc comics\"}, {\"id\": 853,...                en   \n",
       "4  [{\"id\": 818, \"name\": \"based on novel\"}, {\"id\":...                en   \n",
       "\n",
       "                             original_title  \\\n",
       "0                                    Avatar   \n",
       "1  Pirates of the Caribbean: At World's End   \n",
       "2                                   Spectre   \n",
       "3                     The Dark Knight Rises   \n",
       "4                               John Carter   \n",
       "\n",
       "                                            overview  popularity  \\\n",
       "0  In the 22nd century, a paraplegic Marine is di...  150.437577   \n",
       "1  Captain Barbossa, long believed to be dead, ha...  139.082615   \n",
       "2  A cryptic message from Bond’s past sends him o...  107.376788   \n",
       "3  Following the death of District Attorney Harve...  112.312950   \n",
       "4  John Carter is a war-weary, former military ca...   43.926995   \n",
       "\n",
       "                                production_companies  \\\n",
       "0  [{\"name\": \"Ingenious Film Partners\", \"id\": 289...   \n",
       "1  [{\"name\": \"Walt Disney Pictures\", \"id\": 2}, {\"...   \n",
       "2  [{\"name\": \"Columbia Pictures\", \"id\": 5}, {\"nam...   \n",
       "3  [{\"name\": \"Legendary Pictures\", \"id\": 923}, {\"...   \n",
       "4        [{\"name\": \"Walt Disney Pictures\", \"id\": 2}]   \n",
       "\n",
       "                                production_countries release_date     revenue  \\\n",
       "0  [{\"iso_3166_1\": \"US\", \"name\": \"United States o...   2009-12-10  2787965087   \n",
       "1  [{\"iso_3166_1\": \"US\", \"name\": \"United States o...   2007-05-19   961000000   \n",
       "2  [{\"iso_3166_1\": \"GB\", \"name\": \"United Kingdom\"...   2015-10-26   880674609   \n",
       "3  [{\"iso_3166_1\": \"US\", \"name\": \"United States o...   2012-07-16  1084939099   \n",
       "4  [{\"iso_3166_1\": \"US\", \"name\": \"United States o...   2012-03-07   284139100   \n",
       "\n",
       "   runtime                                   spoken_languages    status  \\\n",
       "0    162.0  [{\"iso_639_1\": \"en\", \"name\": \"English\"}, {\"iso...  Released   \n",
       "1    169.0           [{\"iso_639_1\": \"en\", \"name\": \"English\"}]  Released   \n",
       "2    148.0  [{\"iso_639_1\": \"fr\", \"name\": \"Fran\\u00e7ais\"},...  Released   \n",
       "3    165.0           [{\"iso_639_1\": \"en\", \"name\": \"English\"}]  Released   \n",
       "4    132.0           [{\"iso_639_1\": \"en\", \"name\": \"English\"}]  Released   \n",
       "\n",
       "                                          tagline  \\\n",
       "0                     Enter the World of Pandora.   \n",
       "1  At the end of the world, the adventure begins.   \n",
       "2                           A Plan No One Escapes   \n",
       "3                                 The Legend Ends   \n",
       "4            Lost in our world, found in another.   \n",
       "\n",
       "                                      title  vote_average  vote_count  \n",
       "0                                    Avatar           7.2       11800  \n",
       "1  Pirates of the Caribbean: At World's End           6.9        4500  \n",
       "2                                   Spectre           6.3        4466  \n",
       "3                     The Dark Knight Rises           7.6        9106  \n",
       "4                               John Carter           6.1        2124  "
      ]
     },
     "execution_count": 6,
     "metadata": {},
     "output_type": "execute_result"
    }
   ],
   "source": [
    "movies.head()"
   ]
  },
  {
   "cell_type": "code",
   "execution_count": 7,
   "id": "03cd0cd1-f8f2-4d6d-ba8c-ce710f5f7ffe",
   "metadata": {},
   "outputs": [
    {
     "data": {
      "text/html": [
       "<div>\n",
       "<style scoped>\n",
       "    .dataframe tbody tr th:only-of-type {\n",
       "        vertical-align: middle;\n",
       "    }\n",
       "\n",
       "    .dataframe tbody tr th {\n",
       "        vertical-align: top;\n",
       "    }\n",
       "\n",
       "    .dataframe thead th {\n",
       "        text-align: right;\n",
       "    }\n",
       "</style>\n",
       "<table border=\"1\" class=\"dataframe\">\n",
       "  <thead>\n",
       "    <tr style=\"text-align: right;\">\n",
       "      <th></th>\n",
       "      <th>movie_id</th>\n",
       "      <th>title</th>\n",
       "      <th>cast</th>\n",
       "      <th>crew</th>\n",
       "    </tr>\n",
       "  </thead>\n",
       "  <tbody>\n",
       "    <tr>\n",
       "      <th>0</th>\n",
       "      <td>19995</td>\n",
       "      <td>Avatar</td>\n",
       "      <td>[{\"cast_id\": 242, \"character\": \"Jake Sully\", \"...</td>\n",
       "      <td>[{\"credit_id\": \"52fe48009251416c750aca23\", \"de...</td>\n",
       "    </tr>\n",
       "  </tbody>\n",
       "</table>\n",
       "</div>"
      ],
      "text/plain": [
       "   movie_id   title                                               cast  \\\n",
       "0     19995  Avatar  [{\"cast_id\": 242, \"character\": \"Jake Sully\", \"...   \n",
       "\n",
       "                                                crew  \n",
       "0  [{\"credit_id\": \"52fe48009251416c750aca23\", \"de...  "
      ]
     },
     "execution_count": 7,
     "metadata": {},
     "output_type": "execute_result"
    }
   ],
   "source": [
    "credits.head(1)"
   ]
  },
  {
   "cell_type": "code",
   "execution_count": 8,
   "id": "0ef9b3cc-2db3-4274-bd8d-3a57a47204a4",
   "metadata": {},
   "outputs": [
    {
     "data": {
      "text/plain": [
       "(4803, 20)"
      ]
     },
     "execution_count": 8,
     "metadata": {},
     "output_type": "execute_result"
    }
   ],
   "source": [
    "movies.shape"
   ]
  },
  {
   "cell_type": "code",
   "execution_count": 9,
   "id": "99726c5c-9720-425b-bb6a-efeab1e60077",
   "metadata": {},
   "outputs": [
    {
     "data": {
      "text/plain": [
       "(4803, 4)"
      ]
     },
     "execution_count": 9,
     "metadata": {},
     "output_type": "execute_result"
    }
   ],
   "source": [
    "credits.shape"
   ]
  },
  {
   "cell_type": "code",
   "execution_count": 10,
   "id": "5883c667-9f3f-4507-8d40-de30c02953b4",
   "metadata": {},
   "outputs": [],
   "source": [
    "movies = movies.merge(credits,on='title')"
   ]
  },
  {
   "cell_type": "code",
   "execution_count": 11,
   "id": "f4d776e9-1788-44d6-887a-44f790cd9a88",
   "metadata": {},
   "outputs": [
    {
     "data": {
      "text/html": [
       "<div>\n",
       "<style scoped>\n",
       "    .dataframe tbody tr th:only-of-type {\n",
       "        vertical-align: middle;\n",
       "    }\n",
       "\n",
       "    .dataframe tbody tr th {\n",
       "        vertical-align: top;\n",
       "    }\n",
       "\n",
       "    .dataframe thead th {\n",
       "        text-align: right;\n",
       "    }\n",
       "</style>\n",
       "<table border=\"1\" class=\"dataframe\">\n",
       "  <thead>\n",
       "    <tr style=\"text-align: right;\">\n",
       "      <th></th>\n",
       "      <th>budget</th>\n",
       "      <th>genres</th>\n",
       "      <th>homepage</th>\n",
       "      <th>id</th>\n",
       "      <th>keywords</th>\n",
       "      <th>original_language</th>\n",
       "      <th>original_title</th>\n",
       "      <th>overview</th>\n",
       "      <th>popularity</th>\n",
       "      <th>production_companies</th>\n",
       "      <th>...</th>\n",
       "      <th>runtime</th>\n",
       "      <th>spoken_languages</th>\n",
       "      <th>status</th>\n",
       "      <th>tagline</th>\n",
       "      <th>title</th>\n",
       "      <th>vote_average</th>\n",
       "      <th>vote_count</th>\n",
       "      <th>movie_id</th>\n",
       "      <th>cast</th>\n",
       "      <th>crew</th>\n",
       "    </tr>\n",
       "  </thead>\n",
       "  <tbody>\n",
       "    <tr>\n",
       "      <th>0</th>\n",
       "      <td>237000000</td>\n",
       "      <td>[{\"id\": 28, \"name\": \"Action\"}, {\"id\": 12, \"nam...</td>\n",
       "      <td>http://www.avatarmovie.com/</td>\n",
       "      <td>19995</td>\n",
       "      <td>[{\"id\": 1463, \"name\": \"culture clash\"}, {\"id\":...</td>\n",
       "      <td>en</td>\n",
       "      <td>Avatar</td>\n",
       "      <td>In the 22nd century, a paraplegic Marine is di...</td>\n",
       "      <td>150.437577</td>\n",
       "      <td>[{\"name\": \"Ingenious Film Partners\", \"id\": 289...</td>\n",
       "      <td>...</td>\n",
       "      <td>162.0</td>\n",
       "      <td>[{\"iso_639_1\": \"en\", \"name\": \"English\"}, {\"iso...</td>\n",
       "      <td>Released</td>\n",
       "      <td>Enter the World of Pandora.</td>\n",
       "      <td>Avatar</td>\n",
       "      <td>7.2</td>\n",
       "      <td>11800</td>\n",
       "      <td>19995</td>\n",
       "      <td>[{\"cast_id\": 242, \"character\": \"Jake Sully\", \"...</td>\n",
       "      <td>[{\"credit_id\": \"52fe48009251416c750aca23\", \"de...</td>\n",
       "    </tr>\n",
       "  </tbody>\n",
       "</table>\n",
       "<p>1 rows × 23 columns</p>\n",
       "</div>"
      ],
      "text/plain": [
       "      budget                                             genres  \\\n",
       "0  237000000  [{\"id\": 28, \"name\": \"Action\"}, {\"id\": 12, \"nam...   \n",
       "\n",
       "                      homepage     id  \\\n",
       "0  http://www.avatarmovie.com/  19995   \n",
       "\n",
       "                                            keywords original_language  \\\n",
       "0  [{\"id\": 1463, \"name\": \"culture clash\"}, {\"id\":...                en   \n",
       "\n",
       "  original_title                                           overview  \\\n",
       "0         Avatar  In the 22nd century, a paraplegic Marine is di...   \n",
       "\n",
       "   popularity                               production_companies  ... runtime  \\\n",
       "0  150.437577  [{\"name\": \"Ingenious Film Partners\", \"id\": 289...  ...   162.0   \n",
       "\n",
       "                                    spoken_languages    status  \\\n",
       "0  [{\"iso_639_1\": \"en\", \"name\": \"English\"}, {\"iso...  Released   \n",
       "\n",
       "                       tagline   title vote_average vote_count movie_id  \\\n",
       "0  Enter the World of Pandora.  Avatar          7.2      11800    19995   \n",
       "\n",
       "                                                cast  \\\n",
       "0  [{\"cast_id\": 242, \"character\": \"Jake Sully\", \"...   \n",
       "\n",
       "                                                crew  \n",
       "0  [{\"credit_id\": \"52fe48009251416c750aca23\", \"de...  \n",
       "\n",
       "[1 rows x 23 columns]"
      ]
     },
     "execution_count": 11,
     "metadata": {},
     "output_type": "execute_result"
    }
   ],
   "source": [
    "movies.head(1)"
   ]
  },
  {
   "cell_type": "code",
   "execution_count": 12,
   "id": "8b9125f9-0705-4728-b509-ee5005fefd8b",
   "metadata": {},
   "outputs": [],
   "source": [
    "# genres\n",
    "# id\n",
    "# keywords\n",
    "# overview\n",
    "# cast \n",
    "# crew \n",
    "movies = movies[['movie_id','title','overview','genres','keywords','cast','crew']]"
   ]
  },
  {
   "cell_type": "code",
   "execution_count": 13,
   "id": "342e723e-e772-4002-9bf4-fc48e4fb8dbe",
   "metadata": {},
   "outputs": [
    {
     "name": "stdout",
     "output_type": "stream",
     "text": [
      "<class 'pandas.core.frame.DataFrame'>\n",
      "RangeIndex: 4809 entries, 0 to 4808\n",
      "Data columns (total 7 columns):\n",
      " #   Column    Non-Null Count  Dtype \n",
      "---  ------    --------------  ----- \n",
      " 0   movie_id  4809 non-null   int64 \n",
      " 1   title     4809 non-null   object\n",
      " 2   overview  4806 non-null   object\n",
      " 3   genres    4809 non-null   object\n",
      " 4   keywords  4809 non-null   object\n",
      " 5   cast      4809 non-null   object\n",
      " 6   crew      4809 non-null   object\n",
      "dtypes: int64(1), object(6)\n",
      "memory usage: 263.1+ KB\n"
     ]
    }
   ],
   "source": [
    "movies.info()"
   ]
  },
  {
   "cell_type": "code",
   "execution_count": 14,
   "id": "867421b1-3770-468e-985a-c1e56b7aef49",
   "metadata": {},
   "outputs": [
    {
     "data": {
      "text/plain": [
       "movie_id    0\n",
       "title       0\n",
       "overview    3\n",
       "genres      0\n",
       "keywords    0\n",
       "cast        0\n",
       "crew        0\n",
       "dtype: int64"
      ]
     },
     "execution_count": 14,
     "metadata": {},
     "output_type": "execute_result"
    }
   ],
   "source": [
    "movies.isnull().sum()"
   ]
  },
  {
   "cell_type": "code",
   "execution_count": 15,
   "id": "81af3ece-a7d5-4106-8f24-190fe5ee3a36",
   "metadata": {},
   "outputs": [],
   "source": [
    "movies.dropna(inplace=True)"
   ]
  },
  {
   "cell_type": "code",
   "execution_count": 16,
   "id": "66bddbff-63e9-4bd5-86c9-a6afc913e158",
   "metadata": {},
   "outputs": [
    {
     "data": {
      "text/plain": [
       "0"
      ]
     },
     "execution_count": 16,
     "metadata": {},
     "output_type": "execute_result"
    }
   ],
   "source": [
    "movies.duplicated().sum()"
   ]
  },
  {
   "cell_type": "code",
   "execution_count": 17,
   "id": "5981cfc4-9980-4be5-bdaa-b8bc72a5289a",
   "metadata": {},
   "outputs": [
    {
     "data": {
      "text/plain": [
       "'[{\"id\": 28, \"name\": \"Action\"}, {\"id\": 12, \"name\": \"Adventure\"}, {\"id\": 14, \"name\": \"Fantasy\"}, {\"id\": 878, \"name\": \"Science Fiction\"}]'"
      ]
     },
     "execution_count": 17,
     "metadata": {},
     "output_type": "execute_result"
    }
   ],
   "source": [
    "movies.iloc[0].genres"
   ]
  },
  {
   "cell_type": "code",
   "execution_count": 18,
   "id": "d8b6c1ee-94b3-4853-bbb9-e7ebea49c652",
   "metadata": {},
   "outputs": [],
   "source": [
    "def convert(obj):\n",
    "    L= []\n",
    "    for i in ast.literal_eval(obj):\n",
    "        L.append(i['name'])\n",
    "    return L"
   ]
  },
  {
   "cell_type": "code",
   "execution_count": 19,
   "id": "09656ef0-f6c9-41ad-8d2a-8d77fb395f46",
   "metadata": {},
   "outputs": [
    {
     "ename": "NameError",
     "evalue": "name 'ast' is not defined",
     "output_type": "error",
     "traceback": [
      "\u001b[1;31m---------------------------------------------------------------------------\u001b[0m",
      "\u001b[1;31mNameError\u001b[0m                                 Traceback (most recent call last)",
      "Cell \u001b[1;32mIn[19], line 1\u001b[0m\n\u001b[1;32m----> 1\u001b[0m movies[\u001b[38;5;124m'\u001b[39m\u001b[38;5;124mgenres\u001b[39m\u001b[38;5;124m'\u001b[39m] \u001b[38;5;241m=\u001b[39m \u001b[43mmovies\u001b[49m\u001b[43m[\u001b[49m\u001b[38;5;124;43m'\u001b[39;49m\u001b[38;5;124;43mgenres\u001b[39;49m\u001b[38;5;124;43m'\u001b[39;49m\u001b[43m]\u001b[49m\u001b[38;5;241;43m.\u001b[39;49m\u001b[43mapply\u001b[49m\u001b[43m(\u001b[49m\u001b[43mconvert\u001b[49m\u001b[43m)\u001b[49m\n",
      "File \u001b[1;32m~\\AppData\\Local\\Programs\\Python\\Python312\\Lib\\site-packages\\pandas\\core\\series.py:4760\u001b[0m, in \u001b[0;36mSeries.apply\u001b[1;34m(self, func, convert_dtype, args, by_row, **kwargs)\u001b[0m\n\u001b[0;32m   4625\u001b[0m \u001b[38;5;28;01mdef\u001b[39;00m \u001b[38;5;21mapply\u001b[39m(\n\u001b[0;32m   4626\u001b[0m     \u001b[38;5;28mself\u001b[39m,\n\u001b[0;32m   4627\u001b[0m     func: AggFuncType,\n\u001b[1;32m   (...)\u001b[0m\n\u001b[0;32m   4632\u001b[0m     \u001b[38;5;241m*\u001b[39m\u001b[38;5;241m*\u001b[39mkwargs,\n\u001b[0;32m   4633\u001b[0m ) \u001b[38;5;241m-\u001b[39m\u001b[38;5;241m>\u001b[39m DataFrame \u001b[38;5;241m|\u001b[39m Series:\n\u001b[0;32m   4634\u001b[0m \u001b[38;5;250m    \u001b[39m\u001b[38;5;124;03m\"\"\"\u001b[39;00m\n\u001b[0;32m   4635\u001b[0m \u001b[38;5;124;03m    Invoke function on values of Series.\u001b[39;00m\n\u001b[0;32m   4636\u001b[0m \n\u001b[1;32m   (...)\u001b[0m\n\u001b[0;32m   4751\u001b[0m \u001b[38;5;124;03m    dtype: float64\u001b[39;00m\n\u001b[0;32m   4752\u001b[0m \u001b[38;5;124;03m    \"\"\"\u001b[39;00m\n\u001b[0;32m   4753\u001b[0m     \u001b[38;5;28;01mreturn\u001b[39;00m \u001b[43mSeriesApply\u001b[49m\u001b[43m(\u001b[49m\n\u001b[0;32m   4754\u001b[0m \u001b[43m        \u001b[49m\u001b[38;5;28;43mself\u001b[39;49m\u001b[43m,\u001b[49m\n\u001b[0;32m   4755\u001b[0m \u001b[43m        \u001b[49m\u001b[43mfunc\u001b[49m\u001b[43m,\u001b[49m\n\u001b[0;32m   4756\u001b[0m \u001b[43m        \u001b[49m\u001b[43mconvert_dtype\u001b[49m\u001b[38;5;241;43m=\u001b[39;49m\u001b[43mconvert_dtype\u001b[49m\u001b[43m,\u001b[49m\n\u001b[0;32m   4757\u001b[0m \u001b[43m        \u001b[49m\u001b[43mby_row\u001b[49m\u001b[38;5;241;43m=\u001b[39;49m\u001b[43mby_row\u001b[49m\u001b[43m,\u001b[49m\n\u001b[0;32m   4758\u001b[0m \u001b[43m        \u001b[49m\u001b[43margs\u001b[49m\u001b[38;5;241;43m=\u001b[39;49m\u001b[43margs\u001b[49m\u001b[43m,\u001b[49m\n\u001b[0;32m   4759\u001b[0m \u001b[43m        \u001b[49m\u001b[43mkwargs\u001b[49m\u001b[38;5;241;43m=\u001b[39;49m\u001b[43mkwargs\u001b[49m\u001b[43m,\u001b[49m\n\u001b[1;32m-> 4760\u001b[0m \u001b[43m    \u001b[49m\u001b[43m)\u001b[49m\u001b[38;5;241;43m.\u001b[39;49m\u001b[43mapply\u001b[49m\u001b[43m(\u001b[49m\u001b[43m)\u001b[49m\n",
      "File \u001b[1;32m~\\AppData\\Local\\Programs\\Python\\Python312\\Lib\\site-packages\\pandas\\core\\apply.py:1207\u001b[0m, in \u001b[0;36mSeriesApply.apply\u001b[1;34m(self)\u001b[0m\n\u001b[0;32m   1204\u001b[0m     \u001b[38;5;28;01mreturn\u001b[39;00m \u001b[38;5;28mself\u001b[39m\u001b[38;5;241m.\u001b[39mapply_compat()\n\u001b[0;32m   1206\u001b[0m \u001b[38;5;66;03m# self.func is Callable\u001b[39;00m\n\u001b[1;32m-> 1207\u001b[0m \u001b[38;5;28;01mreturn\u001b[39;00m \u001b[38;5;28;43mself\u001b[39;49m\u001b[38;5;241;43m.\u001b[39;49m\u001b[43mapply_standard\u001b[49m\u001b[43m(\u001b[49m\u001b[43m)\u001b[49m\n",
      "File \u001b[1;32m~\\AppData\\Local\\Programs\\Python\\Python312\\Lib\\site-packages\\pandas\\core\\apply.py:1287\u001b[0m, in \u001b[0;36mSeriesApply.apply_standard\u001b[1;34m(self)\u001b[0m\n\u001b[0;32m   1281\u001b[0m \u001b[38;5;66;03m# row-wise access\u001b[39;00m\n\u001b[0;32m   1282\u001b[0m \u001b[38;5;66;03m# apply doesn't have a `na_action` keyword and for backward compat reasons\u001b[39;00m\n\u001b[0;32m   1283\u001b[0m \u001b[38;5;66;03m# we need to give `na_action=\"ignore\"` for categorical data.\u001b[39;00m\n\u001b[0;32m   1284\u001b[0m \u001b[38;5;66;03m# TODO: remove the `na_action=\"ignore\"` when that default has been changed in\u001b[39;00m\n\u001b[0;32m   1285\u001b[0m \u001b[38;5;66;03m#  Categorical (GH51645).\u001b[39;00m\n\u001b[0;32m   1286\u001b[0m action \u001b[38;5;241m=\u001b[39m \u001b[38;5;124m\"\u001b[39m\u001b[38;5;124mignore\u001b[39m\u001b[38;5;124m\"\u001b[39m \u001b[38;5;28;01mif\u001b[39;00m \u001b[38;5;28misinstance\u001b[39m(obj\u001b[38;5;241m.\u001b[39mdtype, CategoricalDtype) \u001b[38;5;28;01melse\u001b[39;00m \u001b[38;5;28;01mNone\u001b[39;00m\n\u001b[1;32m-> 1287\u001b[0m mapped \u001b[38;5;241m=\u001b[39m \u001b[43mobj\u001b[49m\u001b[38;5;241;43m.\u001b[39;49m\u001b[43m_map_values\u001b[49m\u001b[43m(\u001b[49m\n\u001b[0;32m   1288\u001b[0m \u001b[43m    \u001b[49m\u001b[43mmapper\u001b[49m\u001b[38;5;241;43m=\u001b[39;49m\u001b[43mcurried\u001b[49m\u001b[43m,\u001b[49m\u001b[43m \u001b[49m\u001b[43mna_action\u001b[49m\u001b[38;5;241;43m=\u001b[39;49m\u001b[43maction\u001b[49m\u001b[43m,\u001b[49m\u001b[43m \u001b[49m\u001b[43mconvert\u001b[49m\u001b[38;5;241;43m=\u001b[39;49m\u001b[38;5;28;43mself\u001b[39;49m\u001b[38;5;241;43m.\u001b[39;49m\u001b[43mconvert_dtype\u001b[49m\n\u001b[0;32m   1289\u001b[0m \u001b[43m\u001b[49m\u001b[43m)\u001b[49m\n\u001b[0;32m   1291\u001b[0m \u001b[38;5;28;01mif\u001b[39;00m \u001b[38;5;28mlen\u001b[39m(mapped) \u001b[38;5;129;01mand\u001b[39;00m \u001b[38;5;28misinstance\u001b[39m(mapped[\u001b[38;5;241m0\u001b[39m], ABCSeries):\n\u001b[0;32m   1292\u001b[0m     \u001b[38;5;66;03m# GH#43986 Need to do list(mapped) in order to get treated as nested\u001b[39;00m\n\u001b[0;32m   1293\u001b[0m     \u001b[38;5;66;03m#  See also GH#25959 regarding EA support\u001b[39;00m\n\u001b[0;32m   1294\u001b[0m     \u001b[38;5;28;01mreturn\u001b[39;00m obj\u001b[38;5;241m.\u001b[39m_constructor_expanddim(\u001b[38;5;28mlist\u001b[39m(mapped), index\u001b[38;5;241m=\u001b[39mobj\u001b[38;5;241m.\u001b[39mindex)\n",
      "File \u001b[1;32m~\\AppData\\Local\\Programs\\Python\\Python312\\Lib\\site-packages\\pandas\\core\\base.py:921\u001b[0m, in \u001b[0;36mIndexOpsMixin._map_values\u001b[1;34m(self, mapper, na_action, convert)\u001b[0m\n\u001b[0;32m    918\u001b[0m \u001b[38;5;28;01mif\u001b[39;00m \u001b[38;5;28misinstance\u001b[39m(arr, ExtensionArray):\n\u001b[0;32m    919\u001b[0m     \u001b[38;5;28;01mreturn\u001b[39;00m arr\u001b[38;5;241m.\u001b[39mmap(mapper, na_action\u001b[38;5;241m=\u001b[39mna_action)\n\u001b[1;32m--> 921\u001b[0m \u001b[38;5;28;01mreturn\u001b[39;00m \u001b[43malgorithms\u001b[49m\u001b[38;5;241;43m.\u001b[39;49m\u001b[43mmap_array\u001b[49m\u001b[43m(\u001b[49m\u001b[43marr\u001b[49m\u001b[43m,\u001b[49m\u001b[43m \u001b[49m\u001b[43mmapper\u001b[49m\u001b[43m,\u001b[49m\u001b[43m \u001b[49m\u001b[43mna_action\u001b[49m\u001b[38;5;241;43m=\u001b[39;49m\u001b[43mna_action\u001b[49m\u001b[43m,\u001b[49m\u001b[43m \u001b[49m\u001b[43mconvert\u001b[49m\u001b[38;5;241;43m=\u001b[39;49m\u001b[43mconvert\u001b[49m\u001b[43m)\u001b[49m\n",
      "File \u001b[1;32m~\\AppData\\Local\\Programs\\Python\\Python312\\Lib\\site-packages\\pandas\\core\\algorithms.py:1814\u001b[0m, in \u001b[0;36mmap_array\u001b[1;34m(arr, mapper, na_action, convert)\u001b[0m\n\u001b[0;32m   1812\u001b[0m values \u001b[38;5;241m=\u001b[39m arr\u001b[38;5;241m.\u001b[39mastype(\u001b[38;5;28mobject\u001b[39m, copy\u001b[38;5;241m=\u001b[39m\u001b[38;5;28;01mFalse\u001b[39;00m)\n\u001b[0;32m   1813\u001b[0m \u001b[38;5;28;01mif\u001b[39;00m na_action \u001b[38;5;129;01mis\u001b[39;00m \u001b[38;5;28;01mNone\u001b[39;00m:\n\u001b[1;32m-> 1814\u001b[0m     \u001b[38;5;28;01mreturn\u001b[39;00m \u001b[43mlib\u001b[49m\u001b[38;5;241;43m.\u001b[39;49m\u001b[43mmap_infer\u001b[49m\u001b[43m(\u001b[49m\u001b[43mvalues\u001b[49m\u001b[43m,\u001b[49m\u001b[43m \u001b[49m\u001b[43mmapper\u001b[49m\u001b[43m,\u001b[49m\u001b[43m \u001b[49m\u001b[43mconvert\u001b[49m\u001b[38;5;241;43m=\u001b[39;49m\u001b[43mconvert\u001b[49m\u001b[43m)\u001b[49m\n\u001b[0;32m   1815\u001b[0m \u001b[38;5;28;01melse\u001b[39;00m:\n\u001b[0;32m   1816\u001b[0m     \u001b[38;5;28;01mreturn\u001b[39;00m lib\u001b[38;5;241m.\u001b[39mmap_infer_mask(\n\u001b[0;32m   1817\u001b[0m         values, mapper, mask\u001b[38;5;241m=\u001b[39misna(values)\u001b[38;5;241m.\u001b[39mview(np\u001b[38;5;241m.\u001b[39muint8), convert\u001b[38;5;241m=\u001b[39mconvert\n\u001b[0;32m   1818\u001b[0m     )\n",
      "File \u001b[1;32mlib.pyx:2917\u001b[0m, in \u001b[0;36mpandas._libs.lib.map_infer\u001b[1;34m()\u001b[0m\n",
      "Cell \u001b[1;32mIn[18], line 3\u001b[0m, in \u001b[0;36mconvert\u001b[1;34m(obj)\u001b[0m\n\u001b[0;32m      1\u001b[0m \u001b[38;5;28;01mdef\u001b[39;00m \u001b[38;5;21mconvert\u001b[39m(obj):\n\u001b[0;32m      2\u001b[0m     L\u001b[38;5;241m=\u001b[39m []\n\u001b[1;32m----> 3\u001b[0m     \u001b[38;5;28;01mfor\u001b[39;00m i \u001b[38;5;129;01min\u001b[39;00m \u001b[43mast\u001b[49m\u001b[38;5;241m.\u001b[39mliteral_eval(obj):\n\u001b[0;32m      4\u001b[0m         L\u001b[38;5;241m.\u001b[39mappend(i[\u001b[38;5;124m'\u001b[39m\u001b[38;5;124mname\u001b[39m\u001b[38;5;124m'\u001b[39m])\n\u001b[0;32m      5\u001b[0m     \u001b[38;5;28;01mreturn\u001b[39;00m L\n",
      "\u001b[1;31mNameError\u001b[0m: name 'ast' is not defined"
     ]
    }
   ],
   "source": [
    "movies['genres'] = movies['genres'].apply(convert)"
   ]
  },
  {
   "cell_type": "code",
   "execution_count": null,
   "id": "ef4b0301-00c7-44c5-a9bf-aaedca3591e9",
   "metadata": {},
   "outputs": [],
   "source": [
    "movies['keywords'] = movies['keywords'].apply(convert)"
   ]
  },
  {
   "cell_type": "code",
   "execution_count": null,
   "id": "4aced93b-e9e6-408d-a6ce-db16e06c009b",
   "metadata": {},
   "outputs": [],
   "source": [
    "def convert3(obj):\n",
    "    L= []\n",
    "    counter = 0\n",
    "    for i in ast.literal_eval(obj):\n",
    "        if counter != 3:\n",
    "          L.append(i['name'])\n",
    "          counter+=1\n",
    "        else :\n",
    "           break \n",
    "    return L"
   ]
  },
  {
   "cell_type": "code",
   "execution_count": 22,
   "id": "b0c28b75-5b6a-4193-ae5d-2efa9c957a71",
   "metadata": {
    "scrolled": true
   },
   "outputs": [
    {
     "ename": "NameError",
     "evalue": "name 'convert3' is not defined",
     "output_type": "error",
     "traceback": [
      "\u001b[1;31m---------------------------------------------------------------------------\u001b[0m",
      "\u001b[1;31mNameError\u001b[0m                                 Traceback (most recent call last)",
      "Cell \u001b[1;32mIn[22], line 1\u001b[0m\n\u001b[1;32m----> 1\u001b[0m movies[\u001b[38;5;124m'\u001b[39m\u001b[38;5;124mcast\u001b[39m\u001b[38;5;124m'\u001b[39m] \u001b[38;5;241m=\u001b[39m movies[\u001b[38;5;124m'\u001b[39m\u001b[38;5;124mcast\u001b[39m\u001b[38;5;124m'\u001b[39m]\u001b[38;5;241m.\u001b[39mapply(\u001b[43mconvert3\u001b[49m)\n",
      "\u001b[1;31mNameError\u001b[0m: name 'convert3' is not defined"
     ]
    }
   ],
   "source": [
    "movies['cast'] = movies['cast'].apply(convert3)"
   ]
  },
  {
   "cell_type": "code",
   "execution_count": 23,
   "id": "88252c65-7ee0-48d1-8eb3-b56ac3e560d4",
   "metadata": {
    "scrolled": true
   },
   "outputs": [
    {
     "data": {
      "text/html": [
       "<div>\n",
       "<style scoped>\n",
       "    .dataframe tbody tr th:only-of-type {\n",
       "        vertical-align: middle;\n",
       "    }\n",
       "\n",
       "    .dataframe tbody tr th {\n",
       "        vertical-align: top;\n",
       "    }\n",
       "\n",
       "    .dataframe thead th {\n",
       "        text-align: right;\n",
       "    }\n",
       "</style>\n",
       "<table border=\"1\" class=\"dataframe\">\n",
       "  <thead>\n",
       "    <tr style=\"text-align: right;\">\n",
       "      <th></th>\n",
       "      <th>movie_id</th>\n",
       "      <th>title</th>\n",
       "      <th>overview</th>\n",
       "      <th>genres</th>\n",
       "      <th>keywords</th>\n",
       "      <th>cast</th>\n",
       "      <th>crew</th>\n",
       "    </tr>\n",
       "  </thead>\n",
       "  <tbody>\n",
       "    <tr>\n",
       "      <th>0</th>\n",
       "      <td>19995</td>\n",
       "      <td>Avatar</td>\n",
       "      <td>In the 22nd century, a paraplegic Marine is di...</td>\n",
       "      <td>[{\"id\": 28, \"name\": \"Action\"}, {\"id\": 12, \"nam...</td>\n",
       "      <td>[{\"id\": 1463, \"name\": \"culture clash\"}, {\"id\":...</td>\n",
       "      <td>[{\"cast_id\": 242, \"character\": \"Jake Sully\", \"...</td>\n",
       "      <td>[{\"credit_id\": \"52fe48009251416c750aca23\", \"de...</td>\n",
       "    </tr>\n",
       "    <tr>\n",
       "      <th>1</th>\n",
       "      <td>285</td>\n",
       "      <td>Pirates of the Caribbean: At World's End</td>\n",
       "      <td>Captain Barbossa, long believed to be dead, ha...</td>\n",
       "      <td>[{\"id\": 12, \"name\": \"Adventure\"}, {\"id\": 14, \"...</td>\n",
       "      <td>[{\"id\": 270, \"name\": \"ocean\"}, {\"id\": 726, \"na...</td>\n",
       "      <td>[{\"cast_id\": 4, \"character\": \"Captain Jack Spa...</td>\n",
       "      <td>[{\"credit_id\": \"52fe4232c3a36847f800b579\", \"de...</td>\n",
       "    </tr>\n",
       "    <tr>\n",
       "      <th>2</th>\n",
       "      <td>206647</td>\n",
       "      <td>Spectre</td>\n",
       "      <td>A cryptic message from Bond’s past sends him o...</td>\n",
       "      <td>[{\"id\": 28, \"name\": \"Action\"}, {\"id\": 12, \"nam...</td>\n",
       "      <td>[{\"id\": 470, \"name\": \"spy\"}, {\"id\": 818, \"name...</td>\n",
       "      <td>[{\"cast_id\": 1, \"character\": \"James Bond\", \"cr...</td>\n",
       "      <td>[{\"credit_id\": \"54805967c3a36829b5002c41\", \"de...</td>\n",
       "    </tr>\n",
       "    <tr>\n",
       "      <th>3</th>\n",
       "      <td>49026</td>\n",
       "      <td>The Dark Knight Rises</td>\n",
       "      <td>Following the death of District Attorney Harve...</td>\n",
       "      <td>[{\"id\": 28, \"name\": \"Action\"}, {\"id\": 80, \"nam...</td>\n",
       "      <td>[{\"id\": 849, \"name\": \"dc comics\"}, {\"id\": 853,...</td>\n",
       "      <td>[{\"cast_id\": 2, \"character\": \"Bruce Wayne / Ba...</td>\n",
       "      <td>[{\"credit_id\": \"52fe4781c3a36847f81398c3\", \"de...</td>\n",
       "    </tr>\n",
       "    <tr>\n",
       "      <th>4</th>\n",
       "      <td>49529</td>\n",
       "      <td>John Carter</td>\n",
       "      <td>John Carter is a war-weary, former military ca...</td>\n",
       "      <td>[{\"id\": 28, \"name\": \"Action\"}, {\"id\": 12, \"nam...</td>\n",
       "      <td>[{\"id\": 818, \"name\": \"based on novel\"}, {\"id\":...</td>\n",
       "      <td>[{\"cast_id\": 5, \"character\": \"John Carter\", \"c...</td>\n",
       "      <td>[{\"credit_id\": \"52fe479ac3a36847f813eaa3\", \"de...</td>\n",
       "    </tr>\n",
       "  </tbody>\n",
       "</table>\n",
       "</div>"
      ],
      "text/plain": [
       "   movie_id                                     title  \\\n",
       "0     19995                                    Avatar   \n",
       "1       285  Pirates of the Caribbean: At World's End   \n",
       "2    206647                                   Spectre   \n",
       "3     49026                     The Dark Knight Rises   \n",
       "4     49529                               John Carter   \n",
       "\n",
       "                                            overview  \\\n",
       "0  In the 22nd century, a paraplegic Marine is di...   \n",
       "1  Captain Barbossa, long believed to be dead, ha...   \n",
       "2  A cryptic message from Bond’s past sends him o...   \n",
       "3  Following the death of District Attorney Harve...   \n",
       "4  John Carter is a war-weary, former military ca...   \n",
       "\n",
       "                                              genres  \\\n",
       "0  [{\"id\": 28, \"name\": \"Action\"}, {\"id\": 12, \"nam...   \n",
       "1  [{\"id\": 12, \"name\": \"Adventure\"}, {\"id\": 14, \"...   \n",
       "2  [{\"id\": 28, \"name\": \"Action\"}, {\"id\": 12, \"nam...   \n",
       "3  [{\"id\": 28, \"name\": \"Action\"}, {\"id\": 80, \"nam...   \n",
       "4  [{\"id\": 28, \"name\": \"Action\"}, {\"id\": 12, \"nam...   \n",
       "\n",
       "                                            keywords  \\\n",
       "0  [{\"id\": 1463, \"name\": \"culture clash\"}, {\"id\":...   \n",
       "1  [{\"id\": 270, \"name\": \"ocean\"}, {\"id\": 726, \"na...   \n",
       "2  [{\"id\": 470, \"name\": \"spy\"}, {\"id\": 818, \"name...   \n",
       "3  [{\"id\": 849, \"name\": \"dc comics\"}, {\"id\": 853,...   \n",
       "4  [{\"id\": 818, \"name\": \"based on novel\"}, {\"id\":...   \n",
       "\n",
       "                                                cast  \\\n",
       "0  [{\"cast_id\": 242, \"character\": \"Jake Sully\", \"...   \n",
       "1  [{\"cast_id\": 4, \"character\": \"Captain Jack Spa...   \n",
       "2  [{\"cast_id\": 1, \"character\": \"James Bond\", \"cr...   \n",
       "3  [{\"cast_id\": 2, \"character\": \"Bruce Wayne / Ba...   \n",
       "4  [{\"cast_id\": 5, \"character\": \"John Carter\", \"c...   \n",
       "\n",
       "                                                crew  \n",
       "0  [{\"credit_id\": \"52fe48009251416c750aca23\", \"de...  \n",
       "1  [{\"credit_id\": \"52fe4232c3a36847f800b579\", \"de...  \n",
       "2  [{\"credit_id\": \"54805967c3a36829b5002c41\", \"de...  \n",
       "3  [{\"credit_id\": \"52fe4781c3a36847f81398c3\", \"de...  \n",
       "4  [{\"credit_id\": \"52fe479ac3a36847f813eaa3\", \"de...  "
      ]
     },
     "execution_count": 23,
     "metadata": {},
     "output_type": "execute_result"
    }
   ],
   "source": [
    "movies.head()"
   ]
  },
  {
   "cell_type": "code",
   "execution_count": 24,
   "id": "b78adfbf-68b3-4927-95cb-4de84f9e72cc",
   "metadata": {},
   "outputs": [
    {
     "data": {
      "text/plain": [
       "'[{\"credit_id\": \"52fe48009251416c750aca23\", \"department\": \"Editing\", \"gender\": 0, \"id\": 1721, \"job\": \"Editor\", \"name\": \"Stephen E. Rivkin\"}, {\"credit_id\": \"539c47ecc3a36810e3001f87\", \"department\": \"Art\", \"gender\": 2, \"id\": 496, \"job\": \"Production Design\", \"name\": \"Rick Carter\"}, {\"credit_id\": \"54491c89c3a3680fb4001cf7\", \"department\": \"Sound\", \"gender\": 0, \"id\": 900, \"job\": \"Sound Designer\", \"name\": \"Christopher Boyes\"}, {\"credit_id\": \"54491cb70e0a267480001bd0\", \"department\": \"Sound\", \"gender\": 0, \"id\": 900, \"job\": \"Supervising Sound Editor\", \"name\": \"Christopher Boyes\"}, {\"credit_id\": \"539c4a4cc3a36810c9002101\", \"department\": \"Production\", \"gender\": 1, \"id\": 1262, \"job\": \"Casting\", \"name\": \"Mali Finn\"}, {\"credit_id\": \"5544ee3b925141499f0008fc\", \"department\": \"Sound\", \"gender\": 2, \"id\": 1729, \"job\": \"Original Music Composer\", \"name\": \"James Horner\"}, {\"credit_id\": \"52fe48009251416c750ac9c3\", \"department\": \"Directing\", \"gender\": 2, \"id\": 2710, \"job\": \"Director\", \"name\": \"James Cameron\"}, {\"credit_id\": \"52fe48009251416c750ac9d9\", \"department\": \"Writing\", \"gender\": 2, \"id\": 2710, \"job\": \"Writer\", \"name\": \"James Cameron\"}, {\"credit_id\": \"52fe48009251416c750aca17\", \"department\": \"Editing\", \"gender\": 2, \"id\": 2710, \"job\": \"Editor\", \"name\": \"James Cameron\"}, {\"credit_id\": \"52fe48009251416c750aca29\", \"department\": \"Production\", \"gender\": 2, \"id\": 2710, \"job\": \"Producer\", \"name\": \"James Cameron\"}, {\"credit_id\": \"52fe48009251416c750aca3f\", \"department\": \"Writing\", \"gender\": 2, \"id\": 2710, \"job\": \"Screenplay\", \"name\": \"James Cameron\"}, {\"credit_id\": \"539c4987c3a36810ba0021a4\", \"department\": \"Art\", \"gender\": 2, \"id\": 7236, \"job\": \"Art Direction\", \"name\": \"Andrew Menzies\"}, {\"credit_id\": \"549598c3c3a3686ae9004383\", \"department\": \"Visual Effects\", \"gender\": 0, \"id\": 6690, \"job\": \"Visual Effects Producer\", \"name\": \"Jill Brooks\"}, {\"credit_id\": \"52fe48009251416c750aca4b\", \"department\": \"Production\", \"gender\": 1, \"id\": 6347, \"job\": \"Casting\", \"name\": \"Margery Simkin\"}, {\"credit_id\": \"570b6f419251417da70032fe\", \"department\": \"Art\", \"gender\": 2, \"id\": 6878, \"job\": \"Supervising Art Director\", \"name\": \"Kevin Ishioka\"}, {\"credit_id\": \"5495a0fac3a3686ae9004468\", \"department\": \"Sound\", \"gender\": 0, \"id\": 6883, \"job\": \"Music Editor\", \"name\": \"Dick Bernstein\"}, {\"credit_id\": \"54959706c3a3686af3003e81\", \"department\": \"Sound\", \"gender\": 0, \"id\": 8159, \"job\": \"Sound Effects Editor\", \"name\": \"Shannon Mills\"}, {\"credit_id\": \"54491d58c3a3680fb1001ccb\", \"department\": \"Sound\", \"gender\": 0, \"id\": 8160, \"job\": \"Foley\", \"name\": \"Dennie Thorpe\"}, {\"credit_id\": \"54491d6cc3a3680fa5001b2c\", \"department\": \"Sound\", \"gender\": 0, \"id\": 8163, \"job\": \"Foley\", \"name\": \"Jana Vance\"}, {\"credit_id\": \"52fe48009251416c750aca57\", \"department\": \"Costume & Make-Up\", \"gender\": 1, \"id\": 8527, \"job\": \"Costume Design\", \"name\": \"Deborah Lynn Scott\"}, {\"credit_id\": \"52fe48009251416c750aca2f\", \"department\": \"Production\", \"gender\": 2, \"id\": 8529, \"job\": \"Producer\", \"name\": \"Jon Landau\"}, {\"credit_id\": \"539c4937c3a36810ba002194\", \"department\": \"Art\", \"gender\": 0, \"id\": 9618, \"job\": \"Art Direction\", \"name\": \"Sean Haworth\"}, {\"credit_id\": \"539c49b6c3a36810c10020e6\", \"department\": \"Art\", \"gender\": 1, \"id\": 12653, \"job\": \"Set Decoration\", \"name\": \"Kim Sinclair\"}, {\"credit_id\": \"570b6f2f9251413a0e00020d\", \"department\": \"Art\", \"gender\": 1, \"id\": 12653, \"job\": \"Supervising Art Director\", \"name\": \"Kim Sinclair\"}, {\"credit_id\": \"54491a6c0e0a26748c001b19\", \"department\": \"Art\", \"gender\": 2, \"id\": 14350, \"job\": \"Set Designer\", \"name\": \"Richard F. Mays\"}, {\"credit_id\": \"56928cf4c3a3684cff0025c4\", \"department\": \"Production\", \"gender\": 1, \"id\": 20294, \"job\": \"Executive Producer\", \"name\": \"Laeta Kalogridis\"}, {\"credit_id\": \"52fe48009251416c750aca51\", \"department\": \"Costume & Make-Up\", \"gender\": 0, \"id\": 17675, \"job\": \"Costume Design\", \"name\": \"Mayes C. Rubeo\"}, {\"credit_id\": \"52fe48009251416c750aca11\", \"department\": \"Camera\", \"gender\": 2, \"id\": 18265, \"job\": \"Director of Photography\", \"name\": \"Mauro Fiore\"}, {\"credit_id\": \"5449194d0e0a26748f001b39\", \"department\": \"Art\", \"gender\": 0, \"id\": 42281, \"job\": \"Set Designer\", \"name\": \"Scott Herbertson\"}, {\"credit_id\": \"52fe48009251416c750aca05\", \"department\": \"Crew\", \"gender\": 0, \"id\": 42288, \"job\": \"Stunts\", \"name\": \"Woody Schultz\"}, {\"credit_id\": \"5592aefb92514152de0010f5\", \"department\": \"Costume & Make-Up\", \"gender\": 0, \"id\": 29067, \"job\": \"Makeup Artist\", \"name\": \"Linda DeVetta\"}, {\"credit_id\": \"5592afa492514152de00112c\", \"department\": \"Costume & Make-Up\", \"gender\": 0, \"id\": 29067, \"job\": \"Hairstylist\", \"name\": \"Linda DeVetta\"}, {\"credit_id\": \"54959ed592514130fc002e5d\", \"department\": \"Camera\", \"gender\": 2, \"id\": 33302, \"job\": \"Camera Operator\", \"name\": \"Richard Bluck\"}, {\"credit_id\": \"539c4891c3a36810ba002147\", \"department\": \"Art\", \"gender\": 2, \"id\": 33303, \"job\": \"Art Direction\", \"name\": \"Simon Bright\"}, {\"credit_id\": \"54959c069251417a81001f3a\", \"department\": \"Visual Effects\", \"gender\": 0, \"id\": 113145, \"job\": \"Visual Effects Supervisor\", \"name\": \"Richard Martin\"}, {\"credit_id\": \"54959a0dc3a3680ff5002c8d\", \"department\": \"Crew\", \"gender\": 2, \"id\": 58188, \"job\": \"Visual Effects Editor\", \"name\": \"Steve R. Moore\"}, {\"credit_id\": \"52fe48009251416c750aca1d\", \"department\": \"Editing\", \"gender\": 2, \"id\": 58871, \"job\": \"Editor\", \"name\": \"John Refoua\"}, {\"credit_id\": \"54491a4dc3a3680fc30018ca\", \"department\": \"Art\", \"gender\": 0, \"id\": 92359, \"job\": \"Set Designer\", \"name\": \"Karl J. Martin\"}, {\"credit_id\": \"52fe48009251416c750aca35\", \"department\": \"Camera\", \"gender\": 1, \"id\": 72201, \"job\": \"Director of Photography\", \"name\": \"Chiling Lin\"}, {\"credit_id\": \"52fe48009251416c750ac9ff\", \"department\": \"Crew\", \"gender\": 0, \"id\": 89714, \"job\": \"Stunts\", \"name\": \"Ilram Choi\"}, {\"credit_id\": \"54959c529251416e2b004394\", \"department\": \"Visual Effects\", \"gender\": 2, \"id\": 93214, \"job\": \"Visual Effects Supervisor\", \"name\": \"Steven Quale\"}, {\"credit_id\": \"54491edf0e0a267489001c37\", \"department\": \"Crew\", \"gender\": 1, \"id\": 122607, \"job\": \"Dialect Coach\", \"name\": \"Carla Meyer\"}, {\"credit_id\": \"539c485bc3a368653d001a3a\", \"department\": \"Art\", \"gender\": 2, \"id\": 132585, \"job\": \"Art Direction\", \"name\": \"Nick Bassett\"}, {\"credit_id\": \"539c4903c3a368653d001a74\", \"department\": \"Art\", \"gender\": 0, \"id\": 132596, \"job\": \"Art Direction\", \"name\": \"Jill Cormack\"}, {\"credit_id\": \"539c4967c3a368653d001a94\", \"department\": \"Art\", \"gender\": 0, \"id\": 132604, \"job\": \"Art Direction\", \"name\": \"Andy McLaren\"}, {\"credit_id\": \"52fe48009251416c750aca45\", \"department\": \"Crew\", \"gender\": 0, \"id\": 236696, \"job\": \"Motion Capture Artist\", \"name\": \"Terry Notary\"}, {\"credit_id\": \"54959e02c3a3680fc60027d2\", \"department\": \"Crew\", \"gender\": 2, \"id\": 956198, \"job\": \"Stunt Coordinator\", \"name\": \"Garrett Warren\"}, {\"credit_id\": \"54959ca3c3a3686ae300438c\", \"department\": \"Visual Effects\", \"gender\": 2, \"id\": 957874, \"job\": \"Visual Effects Supervisor\", \"name\": \"Jonathan Rothbart\"}, {\"credit_id\": \"570b6f519251412c74001b2f\", \"department\": \"Art\", \"gender\": 0, \"id\": 957889, \"job\": \"Supervising Art Director\", \"name\": \"Stefan Dechant\"}, {\"credit_id\": \"570b6f62c3a3680b77007460\", \"department\": \"Art\", \"gender\": 2, \"id\": 959555, \"job\": \"Supervising Art Director\", \"name\": \"Todd Cherniawsky\"}, {\"credit_id\": \"539c4a3ac3a36810da0021cc\", \"department\": \"Production\", \"gender\": 0, \"id\": 1016177, \"job\": \"Casting\", \"name\": \"Miranda Rivers\"}, {\"credit_id\": \"539c482cc3a36810c1002062\", \"department\": \"Art\", \"gender\": 0, \"id\": 1032536, \"job\": \"Production Design\", \"name\": \"Robert Stromberg\"}, {\"credit_id\": \"539c4b65c3a36810c9002125\", \"department\": \"Costume & Make-Up\", \"gender\": 2, \"id\": 1071680, \"job\": \"Costume Design\", \"name\": \"John Harding\"}, {\"credit_id\": \"54959e6692514130fc002e4e\", \"department\": \"Camera\", \"gender\": 0, \"id\": 1177364, \"job\": \"Steadicam Operator\", \"name\": \"Roberto De Angelis\"}, {\"credit_id\": \"539c49f1c3a368653d001aac\", \"department\": \"Costume & Make-Up\", \"gender\": 2, \"id\": 1202850, \"job\": \"Makeup Department Head\", \"name\": \"Mike Smithson\"}, {\"credit_id\": \"5495999ec3a3686ae100460c\", \"department\": \"Visual Effects\", \"gender\": 0, \"id\": 1204668, \"job\": \"Visual Effects Producer\", \"name\": \"Alain Lalanne\"}, {\"credit_id\": \"54959cdfc3a3681153002729\", \"department\": \"Visual Effects\", \"gender\": 0, \"id\": 1206410, \"job\": \"Visual Effects Supervisor\", \"name\": \"Lucas Salton\"}, {\"credit_id\": \"549596239251417a81001eae\", \"department\": \"Crew\", \"gender\": 0, \"id\": 1234266, \"job\": \"Post Production Supervisor\", \"name\": \"Janace Tashjian\"}, {\"credit_id\": \"54959c859251416e1e003efe\", \"department\": \"Visual Effects\", \"gender\": 0, \"id\": 1271932, \"job\": \"Visual Effects Supervisor\", \"name\": \"Stephen Rosenbaum\"}, {\"credit_id\": \"5592af28c3a368775a00105f\", \"department\": \"Costume & Make-Up\", \"gender\": 0, \"id\": 1310064, \"job\": \"Makeup Artist\", \"name\": \"Frankie Karena\"}, {\"credit_id\": \"539c4adfc3a36810e300203b\", \"department\": \"Costume & Make-Up\", \"gender\": 1, \"id\": 1319844, \"job\": \"Costume Supervisor\", \"name\": \"Lisa Lovaas\"}, {\"credit_id\": \"54959b579251416e2b004371\", \"department\": \"Visual Effects\", \"gender\": 0, \"id\": 1327028, \"job\": \"Visual Effects Supervisor\", \"name\": \"Jonathan Fawkner\"}, {\"credit_id\": \"539c48a7c3a36810b5001fa7\", \"department\": \"Art\", \"gender\": 0, \"id\": 1330561, \"job\": \"Art Direction\", \"name\": \"Robert Bavin\"}, {\"credit_id\": \"539c4a71c3a36810da0021e0\", \"department\": \"Costume & Make-Up\", \"gender\": 0, \"id\": 1330567, \"job\": \"Costume Supervisor\", \"name\": \"Anthony Almaraz\"}, {\"credit_id\": \"539c4a8ac3a36810ba0021e4\", \"department\": \"Costume & Make-Up\", \"gender\": 0, \"id\": 1330570, \"job\": \"Costume Supervisor\", \"name\": \"Carolyn M. Fenton\"}, {\"credit_id\": \"539c4ab6c3a36810da0021f0\", \"department\": \"Costume & Make-Up\", \"gender\": 0, \"id\": 1330574, \"job\": \"Costume Supervisor\", \"name\": \"Beth Koenigsberg\"}, {\"credit_id\": \"54491ab70e0a267480001ba2\", \"department\": \"Art\", \"gender\": 0, \"id\": 1336191, \"job\": \"Set Designer\", \"name\": \"Sam Page\"}, {\"credit_id\": \"544919d9c3a3680fc30018bd\", \"department\": \"Art\", \"gender\": 0, \"id\": 1339441, \"job\": \"Set Designer\", \"name\": \"Tex Kadonaga\"}, {\"credit_id\": \"54491cf50e0a267483001b0c\", \"department\": \"Editing\", \"gender\": 0, \"id\": 1352422, \"job\": \"Dialogue Editor\", \"name\": \"Kim Foscato\"}, {\"credit_id\": \"544919f40e0a26748c001b09\", \"department\": \"Art\", \"gender\": 0, \"id\": 1352962, \"job\": \"Set Designer\", \"name\": \"Tammy S. Lee\"}, {\"credit_id\": \"5495a115c3a3680ff5002d71\", \"department\": \"Crew\", \"gender\": 0, \"id\": 1357070, \"job\": \"Transportation Coordinator\", \"name\": \"Denny Caira\"}, {\"credit_id\": \"5495a12f92514130fc002e94\", \"department\": \"Crew\", \"gender\": 0, \"id\": 1357071, \"job\": \"Transportation Coordinator\", \"name\": \"James Waitkus\"}, {\"credit_id\": \"5495976fc3a36811530026b0\", \"department\": \"Sound\", \"gender\": 0, \"id\": 1360103, \"job\": \"Supervising Sound Editor\", \"name\": \"Addison Teague\"}, {\"credit_id\": \"54491837c3a3680fb1001c5a\", \"department\": \"Art\", \"gender\": 2, \"id\": 1376887, \"job\": \"Set Designer\", \"name\": \"C. Scott Baker\"}, {\"credit_id\": \"54491878c3a3680fb4001c9d\", \"department\": \"Art\", \"gender\": 0, \"id\": 1376888, \"job\": \"Set Designer\", \"name\": \"Luke Caska\"}, {\"credit_id\": \"544918dac3a3680fa5001ae0\", \"department\": \"Art\", \"gender\": 0, \"id\": 1376889, \"job\": \"Set Designer\", \"name\": \"David Chow\"}, {\"credit_id\": \"544919110e0a267486001b68\", \"department\": \"Art\", \"gender\": 0, \"id\": 1376890, \"job\": \"Set Designer\", \"name\": \"Jonathan Dyer\"}, {\"credit_id\": \"54491967c3a3680faa001b5e\", \"department\": \"Art\", \"gender\": 0, \"id\": 1376891, \"job\": \"Set Designer\", \"name\": \"Joseph Hiura\"}, {\"credit_id\": \"54491997c3a3680fb1001c8a\", \"department\": \"Art\", \"gender\": 0, \"id\": 1376892, \"job\": \"Art Department Coordinator\", \"name\": \"Rebecca Jellie\"}, {\"credit_id\": \"544919ba0e0a26748f001b42\", \"department\": \"Art\", \"gender\": 0, \"id\": 1376893, \"job\": \"Set Designer\", \"name\": \"Robert Andrew Johnson\"}, {\"credit_id\": \"54491b1dc3a3680faa001b8c\", \"department\": \"Art\", \"gender\": 0, \"id\": 1376895, \"job\": \"Assistant Art Director\", \"name\": \"Mike Stassi\"}, {\"credit_id\": \"54491b79c3a3680fbb001826\", \"department\": \"Art\", \"gender\": 0, \"id\": 1376897, \"job\": \"Construction Coordinator\", \"name\": \"John Villarino\"}, {\"credit_id\": \"54491baec3a3680fb4001ce6\", \"department\": \"Art\", \"gender\": 2, \"id\": 1376898, \"job\": \"Assistant Art Director\", \"name\": \"Jeffrey Wisniewski\"}, {\"credit_id\": \"54491d2fc3a3680fb4001d07\", \"department\": \"Editing\", \"gender\": 0, \"id\": 1376899, \"job\": \"Dialogue Editor\", \"name\": \"Cheryl Nardi\"}, {\"credit_id\": \"54491d86c3a3680fa5001b2f\", \"department\": \"Editing\", \"gender\": 0, \"id\": 1376901, \"job\": \"Dialogue Editor\", \"name\": \"Marshall Winn\"}, {\"credit_id\": \"54491d9dc3a3680faa001bb0\", \"department\": \"Sound\", \"gender\": 0, \"id\": 1376902, \"job\": \"Supervising Sound Editor\", \"name\": \"Gwendolyn Yates Whittle\"}, {\"credit_id\": \"54491dc10e0a267486001bce\", \"department\": \"Sound\", \"gender\": 0, \"id\": 1376903, \"job\": \"Sound Re-Recording Mixer\", \"name\": \"William Stein\"}, {\"credit_id\": \"54491f500e0a26747c001c07\", \"department\": \"Crew\", \"gender\": 0, \"id\": 1376909, \"job\": \"Choreographer\", \"name\": \"Lula Washington\"}, {\"credit_id\": \"549599239251412c4e002a2e\", \"department\": \"Visual Effects\", \"gender\": 0, \"id\": 1391692, \"job\": \"Visual Effects Producer\", \"name\": \"Chris Del Conte\"}, {\"credit_id\": \"54959d54c3a36831b8001d9a\", \"department\": \"Visual Effects\", \"gender\": 2, \"id\": 1391695, \"job\": \"Visual Effects Supervisor\", \"name\": \"R. Christopher White\"}, {\"credit_id\": \"54959bdf9251412c4e002a66\", \"department\": \"Visual Effects\", \"gender\": 0, \"id\": 1394070, \"job\": \"Visual Effects Supervisor\", \"name\": \"Dan Lemmon\"}, {\"credit_id\": \"5495971d92514132ed002922\", \"department\": \"Sound\", \"gender\": 0, \"id\": 1394129, \"job\": \"Sound Effects Editor\", \"name\": \"Tim Nielsen\"}, {\"credit_id\": \"5592b25792514152cc0011aa\", \"department\": \"Crew\", \"gender\": 0, \"id\": 1394286, \"job\": \"CG Supervisor\", \"name\": \"Michael Mulholland\"}, {\"credit_id\": \"54959a329251416e2b004355\", \"department\": \"Crew\", \"gender\": 0, \"id\": 1394750, \"job\": \"Visual Effects Editor\", \"name\": \"Thomas Nittmann\"}, {\"credit_id\": \"54959d6dc3a3686ae9004401\", \"department\": \"Visual Effects\", \"gender\": 0, \"id\": 1394755, \"job\": \"Visual Effects Supervisor\", \"name\": \"Edson Williams\"}, {\"credit_id\": \"5495a08fc3a3686ae300441c\", \"department\": \"Editing\", \"gender\": 0, \"id\": 1394953, \"job\": \"Digital Intermediate\", \"name\": \"Christine Carr\"}, {\"credit_id\": \"55402d659251413d6d000249\", \"department\": \"Visual Effects\", \"gender\": 0, \"id\": 1395269, \"job\": \"Visual Effects Supervisor\", \"name\": \"John Bruno\"}, {\"credit_id\": \"54959e7b9251416e1e003f3e\", \"department\": \"Camera\", \"gender\": 0, \"id\": 1398970, \"job\": \"Steadicam Operator\", \"name\": \"David Emmerichs\"}, {\"credit_id\": \"54959734c3a3686ae10045e0\", \"department\": \"Sound\", \"gender\": 0, \"id\": 1400906, \"job\": \"Sound Effects Editor\", \"name\": \"Christopher Scarabosio\"}, {\"credit_id\": \"549595dd92514130fc002d79\", \"department\": \"Production\", \"gender\": 0, \"id\": 1401784, \"job\": \"Production Supervisor\", \"name\": \"Jennifer Teves\"}, {\"credit_id\": \"549596009251413af70028cc\", \"department\": \"Production\", \"gender\": 0, \"id\": 1401785, \"job\": \"Production Manager\", \"name\": \"Brigitte Yorke\"}, {\"credit_id\": \"549596e892514130fc002d99\", \"department\": \"Sound\", \"gender\": 0, \"id\": 1401786, \"job\": \"Sound Effects Editor\", \"name\": \"Ken Fischer\"}, {\"credit_id\": \"549598229251412c4e002a1c\", \"department\": \"Crew\", \"gender\": 0, \"id\": 1401787, \"job\": \"Special Effects Coordinator\", \"name\": \"Iain Hutton\"}, {\"credit_id\": \"549598349251416e2b00432b\", \"department\": \"Crew\", \"gender\": 0, \"id\": 1401788, \"job\": \"Special Effects Coordinator\", \"name\": \"Steve Ingram\"}, {\"credit_id\": \"54959905c3a3686ae3004324\", \"department\": \"Visual Effects\", \"gender\": 0, \"id\": 1401789, \"job\": \"Visual Effects Producer\", \"name\": \"Joyce Cox\"}, {\"credit_id\": \"5495994b92514132ed002951\", \"department\": \"Visual Effects\", \"gender\": 0, \"id\": 1401790, \"job\": \"Visual Effects Producer\", \"name\": \"Jenny Foster\"}, {\"credit_id\": \"549599cbc3a3686ae1004613\", \"department\": \"Crew\", \"gender\": 0, \"id\": 1401791, \"job\": \"Visual Effects Editor\", \"name\": \"Christopher Marino\"}, {\"credit_id\": \"549599f2c3a3686ae100461e\", \"department\": \"Crew\", \"gender\": 0, \"id\": 1401792, \"job\": \"Visual Effects Editor\", \"name\": \"Jim Milton\"}, {\"credit_id\": \"54959a51c3a3686af3003eb5\", \"department\": \"Visual Effects\", \"gender\": 0, \"id\": 1401793, \"job\": \"Visual Effects Producer\", \"name\": \"Cyndi Ochs\"}, {\"credit_id\": \"54959a7cc3a36811530026f4\", \"department\": \"Crew\", \"gender\": 0, \"id\": 1401794, \"job\": \"Visual Effects Editor\", \"name\": \"Lucas Putnam\"}, {\"credit_id\": \"54959b91c3a3680ff5002cb4\", \"department\": \"Visual Effects\", \"gender\": 0, \"id\": 1401795, \"job\": \"Visual Effects Supervisor\", \"name\": \"Anthony \\'Max\\' Ivins\"}, {\"credit_id\": \"54959bb69251412c4e002a5f\", \"department\": \"Visual Effects\", \"gender\": 0, \"id\": 1401796, \"job\": \"Visual Effects Supervisor\", \"name\": \"John Knoll\"}, {\"credit_id\": \"54959cbbc3a3686ae3004391\", \"department\": \"Visual Effects\", \"gender\": 2, \"id\": 1401799, \"job\": \"Visual Effects Supervisor\", \"name\": \"Eric Saindon\"}, {\"credit_id\": \"54959d06c3a3686ae90043f6\", \"department\": \"Visual Effects\", \"gender\": 0, \"id\": 1401800, \"job\": \"Visual Effects Supervisor\", \"name\": \"Wayne Stables\"}, {\"credit_id\": \"54959d259251416e1e003f11\", \"department\": \"Visual Effects\", \"gender\": 0, \"id\": 1401801, \"job\": \"Visual Effects Supervisor\", \"name\": \"David Stinnett\"}, {\"credit_id\": \"54959db49251413af7002975\", \"department\": \"Visual Effects\", \"gender\": 0, \"id\": 1401803, \"job\": \"Visual Effects Supervisor\", \"name\": \"Guy Williams\"}, {\"credit_id\": \"54959de4c3a3681153002750\", \"department\": \"Crew\", \"gender\": 0, \"id\": 1401804, \"job\": \"Stunt Coordinator\", \"name\": \"Stuart Thorp\"}, {\"credit_id\": \"54959ef2c3a3680fc60027f2\", \"department\": \"Lighting\", \"gender\": 0, \"id\": 1401805, \"job\": \"Best Boy Electric\", \"name\": \"Giles Coburn\"}, {\"credit_id\": \"54959f07c3a3680fc60027f9\", \"department\": \"Camera\", \"gender\": 2, \"id\": 1401806, \"job\": \"Still Photographer\", \"name\": \"Mark Fellman\"}, {\"credit_id\": \"54959f47c3a3681153002774\", \"department\": \"Lighting\", \"gender\": 0, \"id\": 1401807, \"job\": \"Lighting Technician\", \"name\": \"Scott Sprague\"}, {\"credit_id\": \"54959f8cc3a36831b8001df2\", \"department\": \"Visual Effects\", \"gender\": 0, \"id\": 1401808, \"job\": \"Animation Director\", \"name\": \"Jeremy Hollobon\"}, {\"credit_id\": \"54959fa0c3a36831b8001dfb\", \"department\": \"Visual Effects\", \"gender\": 0, \"id\": 1401809, \"job\": \"Animation Director\", \"name\": \"Orlando Meunier\"}, {\"credit_id\": \"54959fb6c3a3686af3003f54\", \"department\": \"Visual Effects\", \"gender\": 0, \"id\": 1401810, \"job\": \"Animation Director\", \"name\": \"Taisuke Tanimura\"}, {\"credit_id\": \"54959fd2c3a36831b8001e02\", \"department\": \"Costume & Make-Up\", \"gender\": 0, \"id\": 1401812, \"job\": \"Set Costumer\", \"name\": \"Lilia Mishel Acevedo\"}, {\"credit_id\": \"54959ff9c3a3686ae300440c\", \"department\": \"Costume & Make-Up\", \"gender\": 0, \"id\": 1401814, \"job\": \"Set Costumer\", \"name\": \"Alejandro M. Hernandez\"}, {\"credit_id\": \"5495a0ddc3a3686ae10046fe\", \"department\": \"Editing\", \"gender\": 0, \"id\": 1401815, \"job\": \"Digital Intermediate\", \"name\": \"Marvin Hall\"}, {\"credit_id\": \"5495a1f7c3a3686ae3004443\", \"department\": \"Production\", \"gender\": 0, \"id\": 1401816, \"job\": \"Publicist\", \"name\": \"Judy Alley\"}, {\"credit_id\": \"5592b29fc3a36869d100002f\", \"department\": \"Crew\", \"gender\": 0, \"id\": 1418381, \"job\": \"CG Supervisor\", \"name\": \"Mike Perry\"}, {\"credit_id\": \"5592b23a9251415df8001081\", \"department\": \"Crew\", \"gender\": 0, \"id\": 1426854, \"job\": \"CG Supervisor\", \"name\": \"Andrew Morley\"}, {\"credit_id\": \"55491e1192514104c40002d8\", \"department\": \"Art\", \"gender\": 0, \"id\": 1438901, \"job\": \"Conceptual Design\", \"name\": \"Seth Engstrom\"}, {\"credit_id\": \"5525d5809251417276002b06\", \"department\": \"Crew\", \"gender\": 0, \"id\": 1447362, \"job\": \"Visual Effects Art Director\", \"name\": \"Eric Oliver\"}, {\"credit_id\": \"554427ca925141586500312a\", \"department\": \"Visual Effects\", \"gender\": 0, \"id\": 1447503, \"job\": \"Modeling\", \"name\": \"Matsune Suzuki\"}, {\"credit_id\": \"551906889251415aab001c88\", \"department\": \"Art\", \"gender\": 0, \"id\": 1447524, \"job\": \"Art Department Manager\", \"name\": \"Paul Tobin\"}, {\"credit_id\": \"5592af8492514152cc0010de\", \"department\": \"Costume & Make-Up\", \"gender\": 0, \"id\": 1452643, \"job\": \"Hairstylist\", \"name\": \"Roxane Griffin\"}, {\"credit_id\": \"553d3c109251415852001318\", \"department\": \"Lighting\", \"gender\": 0, \"id\": 1453938, \"job\": \"Lighting Artist\", \"name\": \"Arun Ram-Mohan\"}, {\"credit_id\": \"5592af4692514152d5001355\", \"department\": \"Costume & Make-Up\", \"gender\": 0, \"id\": 1457305, \"job\": \"Makeup Artist\", \"name\": \"Georgia Lockhart-Adams\"}, {\"credit_id\": \"5592b2eac3a36877470012a5\", \"department\": \"Crew\", \"gender\": 0, \"id\": 1466035, \"job\": \"CG Supervisor\", \"name\": \"Thrain Shadbolt\"}, {\"credit_id\": \"5592b032c3a36877450015f1\", \"department\": \"Crew\", \"gender\": 0, \"id\": 1483220, \"job\": \"CG Supervisor\", \"name\": \"Brad Alexander\"}, {\"credit_id\": \"5592b05592514152d80012f6\", \"department\": \"Crew\", \"gender\": 0, \"id\": 1483221, \"job\": \"CG Supervisor\", \"name\": \"Shadi Almassizadeh\"}, {\"credit_id\": \"5592b090c3a36877570010b5\", \"department\": \"Crew\", \"gender\": 0, \"id\": 1483222, \"job\": \"CG Supervisor\", \"name\": \"Simon Clutterbuck\"}, {\"credit_id\": \"5592b0dbc3a368774b00112c\", \"department\": \"Crew\", \"gender\": 0, \"id\": 1483223, \"job\": \"CG Supervisor\", \"name\": \"Graeme Demmocks\"}, {\"credit_id\": \"5592b0fe92514152db0010c1\", \"department\": \"Crew\", \"gender\": 0, \"id\": 1483224, \"job\": \"CG Supervisor\", \"name\": \"Adrian Fernandes\"}, {\"credit_id\": \"5592b11f9251415df8001059\", \"department\": \"Crew\", \"gender\": 0, \"id\": 1483225, \"job\": \"CG Supervisor\", \"name\": \"Mitch Gates\"}, {\"credit_id\": \"5592b15dc3a3687745001645\", \"department\": \"Crew\", \"gender\": 0, \"id\": 1483226, \"job\": \"CG Supervisor\", \"name\": \"Jerry Kung\"}, {\"credit_id\": \"5592b18e925141645a0004ae\", \"department\": \"Crew\", \"gender\": 0, \"id\": 1483227, \"job\": \"CG Supervisor\", \"name\": \"Andy Lomas\"}, {\"credit_id\": \"5592b1bfc3a368775d0010e7\", \"department\": \"Crew\", \"gender\": 0, \"id\": 1483228, \"job\": \"CG Supervisor\", \"name\": \"Sebastian Marino\"}, {\"credit_id\": \"5592b2049251415df8001078\", \"department\": \"Crew\", \"gender\": 0, \"id\": 1483229, \"job\": \"CG Supervisor\", \"name\": \"Matthias Menz\"}, {\"credit_id\": \"5592b27b92514152d800136a\", \"department\": \"Crew\", \"gender\": 0, \"id\": 1483230, \"job\": \"CG Supervisor\", \"name\": \"Sergei Nevshupov\"}, {\"credit_id\": \"5592b2c3c3a36869e800003c\", \"department\": \"Crew\", \"gender\": 0, \"id\": 1483231, \"job\": \"CG Supervisor\", \"name\": \"Philippe Rebours\"}, {\"credit_id\": \"5592b317c3a36877470012af\", \"department\": \"Crew\", \"gender\": 0, \"id\": 1483232, \"job\": \"CG Supervisor\", \"name\": \"Michael Takarangi\"}, {\"credit_id\": \"5592b345c3a36877470012bb\", \"department\": \"Crew\", \"gender\": 0, \"id\": 1483233, \"job\": \"CG Supervisor\", \"name\": \"David Weitzberg\"}, {\"credit_id\": \"5592b37cc3a368775100113b\", \"department\": \"Crew\", \"gender\": 0, \"id\": 1483234, \"job\": \"CG Supervisor\", \"name\": \"Ben White\"}, {\"credit_id\": \"573c8e2f9251413f5d000094\", \"department\": \"Crew\", \"gender\": 1, \"id\": 1621932, \"job\": \"Stunts\", \"name\": \"Min Windle\"}]'"
      ]
     },
     "execution_count": 24,
     "metadata": {},
     "output_type": "execute_result"
    }
   ],
   "source": [
    "movies['crew'][0]"
   ]
  },
  {
   "cell_type": "code",
   "execution_count": 25,
   "id": "53652619-b9af-4af4-83fa-c02b8b282f76",
   "metadata": {},
   "outputs": [],
   "source": [
    "def fetch_director(obj):\n",
    "    L= []\n",
    "    for i in ast.literal_eval(obj):\n",
    "        if i in ast.literal_eval(obj):\n",
    "             L.append(i['name'])\n",
    "             break\n",
    "    return L"
   ]
  },
  {
   "cell_type": "code",
   "execution_count": 26,
   "id": "9d54eb61-1745-47d5-933d-8733fde28f60",
   "metadata": {},
   "outputs": [
    {
     "ename": "NameError",
     "evalue": "name 'ast' is not defined",
     "output_type": "error",
     "traceback": [
      "\u001b[1;31m---------------------------------------------------------------------------\u001b[0m",
      "\u001b[1;31mNameError\u001b[0m                                 Traceback (most recent call last)",
      "Cell \u001b[1;32mIn[26], line 1\u001b[0m\n\u001b[1;32m----> 1\u001b[0m movies[\u001b[38;5;124m'\u001b[39m\u001b[38;5;124mcrew\u001b[39m\u001b[38;5;124m'\u001b[39m] \u001b[38;5;241m=\u001b[39m \u001b[43mmovies\u001b[49m\u001b[43m[\u001b[49m\u001b[38;5;124;43m'\u001b[39;49m\u001b[38;5;124;43mcrew\u001b[39;49m\u001b[38;5;124;43m'\u001b[39;49m\u001b[43m]\u001b[49m\u001b[38;5;241;43m.\u001b[39;49m\u001b[43mapply\u001b[49m\u001b[43m(\u001b[49m\u001b[43mfetch_director\u001b[49m\u001b[43m)\u001b[49m\n",
      "File \u001b[1;32m~\\AppData\\Local\\Programs\\Python\\Python312\\Lib\\site-packages\\pandas\\core\\series.py:4760\u001b[0m, in \u001b[0;36mSeries.apply\u001b[1;34m(self, func, convert_dtype, args, by_row, **kwargs)\u001b[0m\n\u001b[0;32m   4625\u001b[0m \u001b[38;5;28;01mdef\u001b[39;00m \u001b[38;5;21mapply\u001b[39m(\n\u001b[0;32m   4626\u001b[0m     \u001b[38;5;28mself\u001b[39m,\n\u001b[0;32m   4627\u001b[0m     func: AggFuncType,\n\u001b[1;32m   (...)\u001b[0m\n\u001b[0;32m   4632\u001b[0m     \u001b[38;5;241m*\u001b[39m\u001b[38;5;241m*\u001b[39mkwargs,\n\u001b[0;32m   4633\u001b[0m ) \u001b[38;5;241m-\u001b[39m\u001b[38;5;241m>\u001b[39m DataFrame \u001b[38;5;241m|\u001b[39m Series:\n\u001b[0;32m   4634\u001b[0m \u001b[38;5;250m    \u001b[39m\u001b[38;5;124;03m\"\"\"\u001b[39;00m\n\u001b[0;32m   4635\u001b[0m \u001b[38;5;124;03m    Invoke function on values of Series.\u001b[39;00m\n\u001b[0;32m   4636\u001b[0m \n\u001b[1;32m   (...)\u001b[0m\n\u001b[0;32m   4751\u001b[0m \u001b[38;5;124;03m    dtype: float64\u001b[39;00m\n\u001b[0;32m   4752\u001b[0m \u001b[38;5;124;03m    \"\"\"\u001b[39;00m\n\u001b[0;32m   4753\u001b[0m     \u001b[38;5;28;01mreturn\u001b[39;00m \u001b[43mSeriesApply\u001b[49m\u001b[43m(\u001b[49m\n\u001b[0;32m   4754\u001b[0m \u001b[43m        \u001b[49m\u001b[38;5;28;43mself\u001b[39;49m\u001b[43m,\u001b[49m\n\u001b[0;32m   4755\u001b[0m \u001b[43m        \u001b[49m\u001b[43mfunc\u001b[49m\u001b[43m,\u001b[49m\n\u001b[0;32m   4756\u001b[0m \u001b[43m        \u001b[49m\u001b[43mconvert_dtype\u001b[49m\u001b[38;5;241;43m=\u001b[39;49m\u001b[43mconvert_dtype\u001b[49m\u001b[43m,\u001b[49m\n\u001b[0;32m   4757\u001b[0m \u001b[43m        \u001b[49m\u001b[43mby_row\u001b[49m\u001b[38;5;241;43m=\u001b[39;49m\u001b[43mby_row\u001b[49m\u001b[43m,\u001b[49m\n\u001b[0;32m   4758\u001b[0m \u001b[43m        \u001b[49m\u001b[43margs\u001b[49m\u001b[38;5;241;43m=\u001b[39;49m\u001b[43margs\u001b[49m\u001b[43m,\u001b[49m\n\u001b[0;32m   4759\u001b[0m \u001b[43m        \u001b[49m\u001b[43mkwargs\u001b[49m\u001b[38;5;241;43m=\u001b[39;49m\u001b[43mkwargs\u001b[49m\u001b[43m,\u001b[49m\n\u001b[1;32m-> 4760\u001b[0m \u001b[43m    \u001b[49m\u001b[43m)\u001b[49m\u001b[38;5;241;43m.\u001b[39;49m\u001b[43mapply\u001b[49m\u001b[43m(\u001b[49m\u001b[43m)\u001b[49m\n",
      "File \u001b[1;32m~\\AppData\\Local\\Programs\\Python\\Python312\\Lib\\site-packages\\pandas\\core\\apply.py:1207\u001b[0m, in \u001b[0;36mSeriesApply.apply\u001b[1;34m(self)\u001b[0m\n\u001b[0;32m   1204\u001b[0m     \u001b[38;5;28;01mreturn\u001b[39;00m \u001b[38;5;28mself\u001b[39m\u001b[38;5;241m.\u001b[39mapply_compat()\n\u001b[0;32m   1206\u001b[0m \u001b[38;5;66;03m# self.func is Callable\u001b[39;00m\n\u001b[1;32m-> 1207\u001b[0m \u001b[38;5;28;01mreturn\u001b[39;00m \u001b[38;5;28;43mself\u001b[39;49m\u001b[38;5;241;43m.\u001b[39;49m\u001b[43mapply_standard\u001b[49m\u001b[43m(\u001b[49m\u001b[43m)\u001b[49m\n",
      "File \u001b[1;32m~\\AppData\\Local\\Programs\\Python\\Python312\\Lib\\site-packages\\pandas\\core\\apply.py:1287\u001b[0m, in \u001b[0;36mSeriesApply.apply_standard\u001b[1;34m(self)\u001b[0m\n\u001b[0;32m   1281\u001b[0m \u001b[38;5;66;03m# row-wise access\u001b[39;00m\n\u001b[0;32m   1282\u001b[0m \u001b[38;5;66;03m# apply doesn't have a `na_action` keyword and for backward compat reasons\u001b[39;00m\n\u001b[0;32m   1283\u001b[0m \u001b[38;5;66;03m# we need to give `na_action=\"ignore\"` for categorical data.\u001b[39;00m\n\u001b[0;32m   1284\u001b[0m \u001b[38;5;66;03m# TODO: remove the `na_action=\"ignore\"` when that default has been changed in\u001b[39;00m\n\u001b[0;32m   1285\u001b[0m \u001b[38;5;66;03m#  Categorical (GH51645).\u001b[39;00m\n\u001b[0;32m   1286\u001b[0m action \u001b[38;5;241m=\u001b[39m \u001b[38;5;124m\"\u001b[39m\u001b[38;5;124mignore\u001b[39m\u001b[38;5;124m\"\u001b[39m \u001b[38;5;28;01mif\u001b[39;00m \u001b[38;5;28misinstance\u001b[39m(obj\u001b[38;5;241m.\u001b[39mdtype, CategoricalDtype) \u001b[38;5;28;01melse\u001b[39;00m \u001b[38;5;28;01mNone\u001b[39;00m\n\u001b[1;32m-> 1287\u001b[0m mapped \u001b[38;5;241m=\u001b[39m \u001b[43mobj\u001b[49m\u001b[38;5;241;43m.\u001b[39;49m\u001b[43m_map_values\u001b[49m\u001b[43m(\u001b[49m\n\u001b[0;32m   1288\u001b[0m \u001b[43m    \u001b[49m\u001b[43mmapper\u001b[49m\u001b[38;5;241;43m=\u001b[39;49m\u001b[43mcurried\u001b[49m\u001b[43m,\u001b[49m\u001b[43m \u001b[49m\u001b[43mna_action\u001b[49m\u001b[38;5;241;43m=\u001b[39;49m\u001b[43maction\u001b[49m\u001b[43m,\u001b[49m\u001b[43m \u001b[49m\u001b[43mconvert\u001b[49m\u001b[38;5;241;43m=\u001b[39;49m\u001b[38;5;28;43mself\u001b[39;49m\u001b[38;5;241;43m.\u001b[39;49m\u001b[43mconvert_dtype\u001b[49m\n\u001b[0;32m   1289\u001b[0m \u001b[43m\u001b[49m\u001b[43m)\u001b[49m\n\u001b[0;32m   1291\u001b[0m \u001b[38;5;28;01mif\u001b[39;00m \u001b[38;5;28mlen\u001b[39m(mapped) \u001b[38;5;129;01mand\u001b[39;00m \u001b[38;5;28misinstance\u001b[39m(mapped[\u001b[38;5;241m0\u001b[39m], ABCSeries):\n\u001b[0;32m   1292\u001b[0m     \u001b[38;5;66;03m# GH#43986 Need to do list(mapped) in order to get treated as nested\u001b[39;00m\n\u001b[0;32m   1293\u001b[0m     \u001b[38;5;66;03m#  See also GH#25959 regarding EA support\u001b[39;00m\n\u001b[0;32m   1294\u001b[0m     \u001b[38;5;28;01mreturn\u001b[39;00m obj\u001b[38;5;241m.\u001b[39m_constructor_expanddim(\u001b[38;5;28mlist\u001b[39m(mapped), index\u001b[38;5;241m=\u001b[39mobj\u001b[38;5;241m.\u001b[39mindex)\n",
      "File \u001b[1;32m~\\AppData\\Local\\Programs\\Python\\Python312\\Lib\\site-packages\\pandas\\core\\base.py:921\u001b[0m, in \u001b[0;36mIndexOpsMixin._map_values\u001b[1;34m(self, mapper, na_action, convert)\u001b[0m\n\u001b[0;32m    918\u001b[0m \u001b[38;5;28;01mif\u001b[39;00m \u001b[38;5;28misinstance\u001b[39m(arr, ExtensionArray):\n\u001b[0;32m    919\u001b[0m     \u001b[38;5;28;01mreturn\u001b[39;00m arr\u001b[38;5;241m.\u001b[39mmap(mapper, na_action\u001b[38;5;241m=\u001b[39mna_action)\n\u001b[1;32m--> 921\u001b[0m \u001b[38;5;28;01mreturn\u001b[39;00m \u001b[43malgorithms\u001b[49m\u001b[38;5;241;43m.\u001b[39;49m\u001b[43mmap_array\u001b[49m\u001b[43m(\u001b[49m\u001b[43marr\u001b[49m\u001b[43m,\u001b[49m\u001b[43m \u001b[49m\u001b[43mmapper\u001b[49m\u001b[43m,\u001b[49m\u001b[43m \u001b[49m\u001b[43mna_action\u001b[49m\u001b[38;5;241;43m=\u001b[39;49m\u001b[43mna_action\u001b[49m\u001b[43m,\u001b[49m\u001b[43m \u001b[49m\u001b[43mconvert\u001b[49m\u001b[38;5;241;43m=\u001b[39;49m\u001b[43mconvert\u001b[49m\u001b[43m)\u001b[49m\n",
      "File \u001b[1;32m~\\AppData\\Local\\Programs\\Python\\Python312\\Lib\\site-packages\\pandas\\core\\algorithms.py:1814\u001b[0m, in \u001b[0;36mmap_array\u001b[1;34m(arr, mapper, na_action, convert)\u001b[0m\n\u001b[0;32m   1812\u001b[0m values \u001b[38;5;241m=\u001b[39m arr\u001b[38;5;241m.\u001b[39mastype(\u001b[38;5;28mobject\u001b[39m, copy\u001b[38;5;241m=\u001b[39m\u001b[38;5;28;01mFalse\u001b[39;00m)\n\u001b[0;32m   1813\u001b[0m \u001b[38;5;28;01mif\u001b[39;00m na_action \u001b[38;5;129;01mis\u001b[39;00m \u001b[38;5;28;01mNone\u001b[39;00m:\n\u001b[1;32m-> 1814\u001b[0m     \u001b[38;5;28;01mreturn\u001b[39;00m \u001b[43mlib\u001b[49m\u001b[38;5;241;43m.\u001b[39;49m\u001b[43mmap_infer\u001b[49m\u001b[43m(\u001b[49m\u001b[43mvalues\u001b[49m\u001b[43m,\u001b[49m\u001b[43m \u001b[49m\u001b[43mmapper\u001b[49m\u001b[43m,\u001b[49m\u001b[43m \u001b[49m\u001b[43mconvert\u001b[49m\u001b[38;5;241;43m=\u001b[39;49m\u001b[43mconvert\u001b[49m\u001b[43m)\u001b[49m\n\u001b[0;32m   1815\u001b[0m \u001b[38;5;28;01melse\u001b[39;00m:\n\u001b[0;32m   1816\u001b[0m     \u001b[38;5;28;01mreturn\u001b[39;00m lib\u001b[38;5;241m.\u001b[39mmap_infer_mask(\n\u001b[0;32m   1817\u001b[0m         values, mapper, mask\u001b[38;5;241m=\u001b[39misna(values)\u001b[38;5;241m.\u001b[39mview(np\u001b[38;5;241m.\u001b[39muint8), convert\u001b[38;5;241m=\u001b[39mconvert\n\u001b[0;32m   1818\u001b[0m     )\n",
      "File \u001b[1;32mlib.pyx:2917\u001b[0m, in \u001b[0;36mpandas._libs.lib.map_infer\u001b[1;34m()\u001b[0m\n",
      "Cell \u001b[1;32mIn[25], line 3\u001b[0m, in \u001b[0;36mfetch_director\u001b[1;34m(obj)\u001b[0m\n\u001b[0;32m      1\u001b[0m \u001b[38;5;28;01mdef\u001b[39;00m \u001b[38;5;21mfetch_director\u001b[39m(obj):\n\u001b[0;32m      2\u001b[0m     L\u001b[38;5;241m=\u001b[39m []\n\u001b[1;32m----> 3\u001b[0m     \u001b[38;5;28;01mfor\u001b[39;00m i \u001b[38;5;129;01min\u001b[39;00m \u001b[43mast\u001b[49m\u001b[38;5;241m.\u001b[39mliteral_eval(obj):\n\u001b[0;32m      4\u001b[0m         \u001b[38;5;28;01mif\u001b[39;00m i \u001b[38;5;129;01min\u001b[39;00m ast\u001b[38;5;241m.\u001b[39mliteral_eval(obj):\n\u001b[0;32m      5\u001b[0m              L\u001b[38;5;241m.\u001b[39mappend(i[\u001b[38;5;124m'\u001b[39m\u001b[38;5;124mname\u001b[39m\u001b[38;5;124m'\u001b[39m])\n",
      "\u001b[1;31mNameError\u001b[0m: name 'ast' is not defined"
     ]
    }
   ],
   "source": [
    "movies['crew'] = movies['crew'].apply(fetch_director)"
   ]
  },
  {
   "cell_type": "code",
   "execution_count": 27,
   "id": "3c67f8d2-4fef-4fba-a0e3-65f0c7722f11",
   "metadata": {},
   "outputs": [
    {
     "data": {
      "text/html": [
       "<div>\n",
       "<style scoped>\n",
       "    .dataframe tbody tr th:only-of-type {\n",
       "        vertical-align: middle;\n",
       "    }\n",
       "\n",
       "    .dataframe tbody tr th {\n",
       "        vertical-align: top;\n",
       "    }\n",
       "\n",
       "    .dataframe thead th {\n",
       "        text-align: right;\n",
       "    }\n",
       "</style>\n",
       "<table border=\"1\" class=\"dataframe\">\n",
       "  <thead>\n",
       "    <tr style=\"text-align: right;\">\n",
       "      <th></th>\n",
       "      <th>movie_id</th>\n",
       "      <th>title</th>\n",
       "      <th>overview</th>\n",
       "      <th>genres</th>\n",
       "      <th>keywords</th>\n",
       "      <th>cast</th>\n",
       "      <th>crew</th>\n",
       "    </tr>\n",
       "  </thead>\n",
       "  <tbody>\n",
       "    <tr>\n",
       "      <th>0</th>\n",
       "      <td>19995</td>\n",
       "      <td>Avatar</td>\n",
       "      <td>In the 22nd century, a paraplegic Marine is di...</td>\n",
       "      <td>[{\"id\": 28, \"name\": \"Action\"}, {\"id\": 12, \"nam...</td>\n",
       "      <td>[{\"id\": 1463, \"name\": \"culture clash\"}, {\"id\":...</td>\n",
       "      <td>[{\"cast_id\": 242, \"character\": \"Jake Sully\", \"...</td>\n",
       "      <td>[{\"credit_id\": \"52fe48009251416c750aca23\", \"de...</td>\n",
       "    </tr>\n",
       "    <tr>\n",
       "      <th>1</th>\n",
       "      <td>285</td>\n",
       "      <td>Pirates of the Caribbean: At World's End</td>\n",
       "      <td>Captain Barbossa, long believed to be dead, ha...</td>\n",
       "      <td>[{\"id\": 12, \"name\": \"Adventure\"}, {\"id\": 14, \"...</td>\n",
       "      <td>[{\"id\": 270, \"name\": \"ocean\"}, {\"id\": 726, \"na...</td>\n",
       "      <td>[{\"cast_id\": 4, \"character\": \"Captain Jack Spa...</td>\n",
       "      <td>[{\"credit_id\": \"52fe4232c3a36847f800b579\", \"de...</td>\n",
       "    </tr>\n",
       "    <tr>\n",
       "      <th>2</th>\n",
       "      <td>206647</td>\n",
       "      <td>Spectre</td>\n",
       "      <td>A cryptic message from Bond’s past sends him o...</td>\n",
       "      <td>[{\"id\": 28, \"name\": \"Action\"}, {\"id\": 12, \"nam...</td>\n",
       "      <td>[{\"id\": 470, \"name\": \"spy\"}, {\"id\": 818, \"name...</td>\n",
       "      <td>[{\"cast_id\": 1, \"character\": \"James Bond\", \"cr...</td>\n",
       "      <td>[{\"credit_id\": \"54805967c3a36829b5002c41\", \"de...</td>\n",
       "    </tr>\n",
       "    <tr>\n",
       "      <th>3</th>\n",
       "      <td>49026</td>\n",
       "      <td>The Dark Knight Rises</td>\n",
       "      <td>Following the death of District Attorney Harve...</td>\n",
       "      <td>[{\"id\": 28, \"name\": \"Action\"}, {\"id\": 80, \"nam...</td>\n",
       "      <td>[{\"id\": 849, \"name\": \"dc comics\"}, {\"id\": 853,...</td>\n",
       "      <td>[{\"cast_id\": 2, \"character\": \"Bruce Wayne / Ba...</td>\n",
       "      <td>[{\"credit_id\": \"52fe4781c3a36847f81398c3\", \"de...</td>\n",
       "    </tr>\n",
       "    <tr>\n",
       "      <th>4</th>\n",
       "      <td>49529</td>\n",
       "      <td>John Carter</td>\n",
       "      <td>John Carter is a war-weary, former military ca...</td>\n",
       "      <td>[{\"id\": 28, \"name\": \"Action\"}, {\"id\": 12, \"nam...</td>\n",
       "      <td>[{\"id\": 818, \"name\": \"based on novel\"}, {\"id\":...</td>\n",
       "      <td>[{\"cast_id\": 5, \"character\": \"John Carter\", \"c...</td>\n",
       "      <td>[{\"credit_id\": \"52fe479ac3a36847f813eaa3\", \"de...</td>\n",
       "    </tr>\n",
       "  </tbody>\n",
       "</table>\n",
       "</div>"
      ],
      "text/plain": [
       "   movie_id                                     title  \\\n",
       "0     19995                                    Avatar   \n",
       "1       285  Pirates of the Caribbean: At World's End   \n",
       "2    206647                                   Spectre   \n",
       "3     49026                     The Dark Knight Rises   \n",
       "4     49529                               John Carter   \n",
       "\n",
       "                                            overview  \\\n",
       "0  In the 22nd century, a paraplegic Marine is di...   \n",
       "1  Captain Barbossa, long believed to be dead, ha...   \n",
       "2  A cryptic message from Bond’s past sends him o...   \n",
       "3  Following the death of District Attorney Harve...   \n",
       "4  John Carter is a war-weary, former military ca...   \n",
       "\n",
       "                                              genres  \\\n",
       "0  [{\"id\": 28, \"name\": \"Action\"}, {\"id\": 12, \"nam...   \n",
       "1  [{\"id\": 12, \"name\": \"Adventure\"}, {\"id\": 14, \"...   \n",
       "2  [{\"id\": 28, \"name\": \"Action\"}, {\"id\": 12, \"nam...   \n",
       "3  [{\"id\": 28, \"name\": \"Action\"}, {\"id\": 80, \"nam...   \n",
       "4  [{\"id\": 28, \"name\": \"Action\"}, {\"id\": 12, \"nam...   \n",
       "\n",
       "                                            keywords  \\\n",
       "0  [{\"id\": 1463, \"name\": \"culture clash\"}, {\"id\":...   \n",
       "1  [{\"id\": 270, \"name\": \"ocean\"}, {\"id\": 726, \"na...   \n",
       "2  [{\"id\": 470, \"name\": \"spy\"}, {\"id\": 818, \"name...   \n",
       "3  [{\"id\": 849, \"name\": \"dc comics\"}, {\"id\": 853,...   \n",
       "4  [{\"id\": 818, \"name\": \"based on novel\"}, {\"id\":...   \n",
       "\n",
       "                                                cast  \\\n",
       "0  [{\"cast_id\": 242, \"character\": \"Jake Sully\", \"...   \n",
       "1  [{\"cast_id\": 4, \"character\": \"Captain Jack Spa...   \n",
       "2  [{\"cast_id\": 1, \"character\": \"James Bond\", \"cr...   \n",
       "3  [{\"cast_id\": 2, \"character\": \"Bruce Wayne / Ba...   \n",
       "4  [{\"cast_id\": 5, \"character\": \"John Carter\", \"c...   \n",
       "\n",
       "                                                crew  \n",
       "0  [{\"credit_id\": \"52fe48009251416c750aca23\", \"de...  \n",
       "1  [{\"credit_id\": \"52fe4232c3a36847f800b579\", \"de...  \n",
       "2  [{\"credit_id\": \"54805967c3a36829b5002c41\", \"de...  \n",
       "3  [{\"credit_id\": \"52fe4781c3a36847f81398c3\", \"de...  \n",
       "4  [{\"credit_id\": \"52fe479ac3a36847f813eaa3\", \"de...  "
      ]
     },
     "execution_count": 27,
     "metadata": {},
     "output_type": "execute_result"
    }
   ],
   "source": [
    "movies.head()"
   ]
  },
  {
   "cell_type": "code",
   "execution_count": 28,
   "id": "80a65827-ebbb-494a-8491-8b67b8d00d58",
   "metadata": {},
   "outputs": [
    {
     "data": {
      "text/plain": [
       "'In the 22nd century, a paraplegic Marine is dispatched to the moon Pandora on a unique mission, but becomes torn between following orders and protecting an alien civilization.'"
      ]
     },
     "execution_count": 28,
     "metadata": {},
     "output_type": "execute_result"
    }
   ],
   "source": [
    "movies['overview'][0]"
   ]
  },
  {
   "cell_type": "code",
   "execution_count": 29,
   "id": "3e24bdfa-e162-4622-9f3b-2be83ce96a4b",
   "metadata": {},
   "outputs": [],
   "source": [
    "movies['overview'] = movies['overview'].apply(lambda x:x.split())"
   ]
  },
  {
   "cell_type": "code",
   "execution_count": 30,
   "id": "029014d6-1e09-4ffb-9f2b-47943d0d30cd",
   "metadata": {},
   "outputs": [
    {
     "data": {
      "text/html": [
       "<div>\n",
       "<style scoped>\n",
       "    .dataframe tbody tr th:only-of-type {\n",
       "        vertical-align: middle;\n",
       "    }\n",
       "\n",
       "    .dataframe tbody tr th {\n",
       "        vertical-align: top;\n",
       "    }\n",
       "\n",
       "    .dataframe thead th {\n",
       "        text-align: right;\n",
       "    }\n",
       "</style>\n",
       "<table border=\"1\" class=\"dataframe\">\n",
       "  <thead>\n",
       "    <tr style=\"text-align: right;\">\n",
       "      <th></th>\n",
       "      <th>movie_id</th>\n",
       "      <th>title</th>\n",
       "      <th>overview</th>\n",
       "      <th>genres</th>\n",
       "      <th>keywords</th>\n",
       "      <th>cast</th>\n",
       "      <th>crew</th>\n",
       "    </tr>\n",
       "  </thead>\n",
       "  <tbody>\n",
       "    <tr>\n",
       "      <th>0</th>\n",
       "      <td>19995</td>\n",
       "      <td>Avatar</td>\n",
       "      <td>[In, the, 22nd, century,, a, paraplegic, Marin...</td>\n",
       "      <td>[{\"id\": 28, \"name\": \"Action\"}, {\"id\": 12, \"nam...</td>\n",
       "      <td>[{\"id\": 1463, \"name\": \"culture clash\"}, {\"id\":...</td>\n",
       "      <td>[{\"cast_id\": 242, \"character\": \"Jake Sully\", \"...</td>\n",
       "      <td>[{\"credit_id\": \"52fe48009251416c750aca23\", \"de...</td>\n",
       "    </tr>\n",
       "    <tr>\n",
       "      <th>1</th>\n",
       "      <td>285</td>\n",
       "      <td>Pirates of the Caribbean: At World's End</td>\n",
       "      <td>[Captain, Barbossa,, long, believed, to, be, d...</td>\n",
       "      <td>[{\"id\": 12, \"name\": \"Adventure\"}, {\"id\": 14, \"...</td>\n",
       "      <td>[{\"id\": 270, \"name\": \"ocean\"}, {\"id\": 726, \"na...</td>\n",
       "      <td>[{\"cast_id\": 4, \"character\": \"Captain Jack Spa...</td>\n",
       "      <td>[{\"credit_id\": \"52fe4232c3a36847f800b579\", \"de...</td>\n",
       "    </tr>\n",
       "    <tr>\n",
       "      <th>2</th>\n",
       "      <td>206647</td>\n",
       "      <td>Spectre</td>\n",
       "      <td>[A, cryptic, message, from, Bond’s, past, send...</td>\n",
       "      <td>[{\"id\": 28, \"name\": \"Action\"}, {\"id\": 12, \"nam...</td>\n",
       "      <td>[{\"id\": 470, \"name\": \"spy\"}, {\"id\": 818, \"name...</td>\n",
       "      <td>[{\"cast_id\": 1, \"character\": \"James Bond\", \"cr...</td>\n",
       "      <td>[{\"credit_id\": \"54805967c3a36829b5002c41\", \"de...</td>\n",
       "    </tr>\n",
       "    <tr>\n",
       "      <th>3</th>\n",
       "      <td>49026</td>\n",
       "      <td>The Dark Knight Rises</td>\n",
       "      <td>[Following, the, death, of, District, Attorney...</td>\n",
       "      <td>[{\"id\": 28, \"name\": \"Action\"}, {\"id\": 80, \"nam...</td>\n",
       "      <td>[{\"id\": 849, \"name\": \"dc comics\"}, {\"id\": 853,...</td>\n",
       "      <td>[{\"cast_id\": 2, \"character\": \"Bruce Wayne / Ba...</td>\n",
       "      <td>[{\"credit_id\": \"52fe4781c3a36847f81398c3\", \"de...</td>\n",
       "    </tr>\n",
       "    <tr>\n",
       "      <th>4</th>\n",
       "      <td>49529</td>\n",
       "      <td>John Carter</td>\n",
       "      <td>[John, Carter, is, a, war-weary,, former, mili...</td>\n",
       "      <td>[{\"id\": 28, \"name\": \"Action\"}, {\"id\": 12, \"nam...</td>\n",
       "      <td>[{\"id\": 818, \"name\": \"based on novel\"}, {\"id\":...</td>\n",
       "      <td>[{\"cast_id\": 5, \"character\": \"John Carter\", \"c...</td>\n",
       "      <td>[{\"credit_id\": \"52fe479ac3a36847f813eaa3\", \"de...</td>\n",
       "    </tr>\n",
       "  </tbody>\n",
       "</table>\n",
       "</div>"
      ],
      "text/plain": [
       "   movie_id                                     title  \\\n",
       "0     19995                                    Avatar   \n",
       "1       285  Pirates of the Caribbean: At World's End   \n",
       "2    206647                                   Spectre   \n",
       "3     49026                     The Dark Knight Rises   \n",
       "4     49529                               John Carter   \n",
       "\n",
       "                                            overview  \\\n",
       "0  [In, the, 22nd, century,, a, paraplegic, Marin...   \n",
       "1  [Captain, Barbossa,, long, believed, to, be, d...   \n",
       "2  [A, cryptic, message, from, Bond’s, past, send...   \n",
       "3  [Following, the, death, of, District, Attorney...   \n",
       "4  [John, Carter, is, a, war-weary,, former, mili...   \n",
       "\n",
       "                                              genres  \\\n",
       "0  [{\"id\": 28, \"name\": \"Action\"}, {\"id\": 12, \"nam...   \n",
       "1  [{\"id\": 12, \"name\": \"Adventure\"}, {\"id\": 14, \"...   \n",
       "2  [{\"id\": 28, \"name\": \"Action\"}, {\"id\": 12, \"nam...   \n",
       "3  [{\"id\": 28, \"name\": \"Action\"}, {\"id\": 80, \"nam...   \n",
       "4  [{\"id\": 28, \"name\": \"Action\"}, {\"id\": 12, \"nam...   \n",
       "\n",
       "                                            keywords  \\\n",
       "0  [{\"id\": 1463, \"name\": \"culture clash\"}, {\"id\":...   \n",
       "1  [{\"id\": 270, \"name\": \"ocean\"}, {\"id\": 726, \"na...   \n",
       "2  [{\"id\": 470, \"name\": \"spy\"}, {\"id\": 818, \"name...   \n",
       "3  [{\"id\": 849, \"name\": \"dc comics\"}, {\"id\": 853,...   \n",
       "4  [{\"id\": 818, \"name\": \"based on novel\"}, {\"id\":...   \n",
       "\n",
       "                                                cast  \\\n",
       "0  [{\"cast_id\": 242, \"character\": \"Jake Sully\", \"...   \n",
       "1  [{\"cast_id\": 4, \"character\": \"Captain Jack Spa...   \n",
       "2  [{\"cast_id\": 1, \"character\": \"James Bond\", \"cr...   \n",
       "3  [{\"cast_id\": 2, \"character\": \"Bruce Wayne / Ba...   \n",
       "4  [{\"cast_id\": 5, \"character\": \"John Carter\", \"c...   \n",
       "\n",
       "                                                crew  \n",
       "0  [{\"credit_id\": \"52fe48009251416c750aca23\", \"de...  \n",
       "1  [{\"credit_id\": \"52fe4232c3a36847f800b579\", \"de...  \n",
       "2  [{\"credit_id\": \"54805967c3a36829b5002c41\", \"de...  \n",
       "3  [{\"credit_id\": \"52fe4781c3a36847f81398c3\", \"de...  \n",
       "4  [{\"credit_id\": \"52fe479ac3a36847f813eaa3\", \"de...  "
      ]
     },
     "execution_count": 30,
     "metadata": {},
     "output_type": "execute_result"
    }
   ],
   "source": [
    "movies.head()"
   ]
  },
  {
   "cell_type": "code",
   "execution_count": 31,
   "id": "28b62b7f-2078-49e0-8b1b-e917cf37ee54",
   "metadata": {},
   "outputs": [],
   "source": [
    "movies['genres'] = movies['genres'].apply(lambda x:[i.replace(\" \",\"\") for i in x])\n",
    "movies['keywords'] = movies['keywords'].apply(lambda x:[i.replace(\" \",\"\") for i in x])\n",
    "movies['cast'] = movies['cast'].apply(lambda x:[i.replace(\" \",\"\") for i in x])\n",
    "movies['crew'] = movies['crew'].apply(lambda x:[i.replace(\" \",\"\") for i in x])"
   ]
  },
  {
   "cell_type": "code",
   "execution_count": 32,
   "id": "5538207e-d2e6-4bc0-b6c8-aec86240e388",
   "metadata": {},
   "outputs": [
    {
     "data": {
      "text/html": [
       "<div>\n",
       "<style scoped>\n",
       "    .dataframe tbody tr th:only-of-type {\n",
       "        vertical-align: middle;\n",
       "    }\n",
       "\n",
       "    .dataframe tbody tr th {\n",
       "        vertical-align: top;\n",
       "    }\n",
       "\n",
       "    .dataframe thead th {\n",
       "        text-align: right;\n",
       "    }\n",
       "</style>\n",
       "<table border=\"1\" class=\"dataframe\">\n",
       "  <thead>\n",
       "    <tr style=\"text-align: right;\">\n",
       "      <th></th>\n",
       "      <th>movie_id</th>\n",
       "      <th>title</th>\n",
       "      <th>overview</th>\n",
       "      <th>genres</th>\n",
       "      <th>keywords</th>\n",
       "      <th>cast</th>\n",
       "      <th>crew</th>\n",
       "    </tr>\n",
       "  </thead>\n",
       "  <tbody>\n",
       "    <tr>\n",
       "      <th>0</th>\n",
       "      <td>19995</td>\n",
       "      <td>Avatar</td>\n",
       "      <td>[In, the, 22nd, century,, a, paraplegic, Marin...</td>\n",
       "      <td>[[, {, \", i, d, \", :, , 2, 8, ,, , \", n, a, m,...</td>\n",
       "      <td>[[, {, \", i, d, \", :, , 1, 4, 6, 3, ,, , \", n,...</td>\n",
       "      <td>[[, {, \", c, a, s, t, _, i, d, \", :, , 2, 4, 2...</td>\n",
       "      <td>[[, {, \", c, r, e, d, i, t, _, i, d, \", :, , \"...</td>\n",
       "    </tr>\n",
       "    <tr>\n",
       "      <th>1</th>\n",
       "      <td>285</td>\n",
       "      <td>Pirates of the Caribbean: At World's End</td>\n",
       "      <td>[Captain, Barbossa,, long, believed, to, be, d...</td>\n",
       "      <td>[[, {, \", i, d, \", :, , 1, 2, ,, , \", n, a, m,...</td>\n",
       "      <td>[[, {, \", i, d, \", :, , 2, 7, 0, ,, , \", n, a,...</td>\n",
       "      <td>[[, {, \", c, a, s, t, _, i, d, \", :, , 4, ,, ,...</td>\n",
       "      <td>[[, {, \", c, r, e, d, i, t, _, i, d, \", :, , \"...</td>\n",
       "    </tr>\n",
       "    <tr>\n",
       "      <th>2</th>\n",
       "      <td>206647</td>\n",
       "      <td>Spectre</td>\n",
       "      <td>[A, cryptic, message, from, Bond’s, past, send...</td>\n",
       "      <td>[[, {, \", i, d, \", :, , 2, 8, ,, , \", n, a, m,...</td>\n",
       "      <td>[[, {, \", i, d, \", :, , 4, 7, 0, ,, , \", n, a,...</td>\n",
       "      <td>[[, {, \", c, a, s, t, _, i, d, \", :, , 1, ,, ,...</td>\n",
       "      <td>[[, {, \", c, r, e, d, i, t, _, i, d, \", :, , \"...</td>\n",
       "    </tr>\n",
       "    <tr>\n",
       "      <th>3</th>\n",
       "      <td>49026</td>\n",
       "      <td>The Dark Knight Rises</td>\n",
       "      <td>[Following, the, death, of, District, Attorney...</td>\n",
       "      <td>[[, {, \", i, d, \", :, , 2, 8, ,, , \", n, a, m,...</td>\n",
       "      <td>[[, {, \", i, d, \", :, , 8, 4, 9, ,, , \", n, a,...</td>\n",
       "      <td>[[, {, \", c, a, s, t, _, i, d, \", :, , 2, ,, ,...</td>\n",
       "      <td>[[, {, \", c, r, e, d, i, t, _, i, d, \", :, , \"...</td>\n",
       "    </tr>\n",
       "    <tr>\n",
       "      <th>4</th>\n",
       "      <td>49529</td>\n",
       "      <td>John Carter</td>\n",
       "      <td>[John, Carter, is, a, war-weary,, former, mili...</td>\n",
       "      <td>[[, {, \", i, d, \", :, , 2, 8, ,, , \", n, a, m,...</td>\n",
       "      <td>[[, {, \", i, d, \", :, , 8, 1, 8, ,, , \", n, a,...</td>\n",
       "      <td>[[, {, \", c, a, s, t, _, i, d, \", :, , 5, ,, ,...</td>\n",
       "      <td>[[, {, \", c, r, e, d, i, t, _, i, d, \", :, , \"...</td>\n",
       "    </tr>\n",
       "  </tbody>\n",
       "</table>\n",
       "</div>"
      ],
      "text/plain": [
       "   movie_id                                     title  \\\n",
       "0     19995                                    Avatar   \n",
       "1       285  Pirates of the Caribbean: At World's End   \n",
       "2    206647                                   Spectre   \n",
       "3     49026                     The Dark Knight Rises   \n",
       "4     49529                               John Carter   \n",
       "\n",
       "                                            overview  \\\n",
       "0  [In, the, 22nd, century,, a, paraplegic, Marin...   \n",
       "1  [Captain, Barbossa,, long, believed, to, be, d...   \n",
       "2  [A, cryptic, message, from, Bond’s, past, send...   \n",
       "3  [Following, the, death, of, District, Attorney...   \n",
       "4  [John, Carter, is, a, war-weary,, former, mili...   \n",
       "\n",
       "                                              genres  \\\n",
       "0  [[, {, \", i, d, \", :, , 2, 8, ,, , \", n, a, m,...   \n",
       "1  [[, {, \", i, d, \", :, , 1, 2, ,, , \", n, a, m,...   \n",
       "2  [[, {, \", i, d, \", :, , 2, 8, ,, , \", n, a, m,...   \n",
       "3  [[, {, \", i, d, \", :, , 2, 8, ,, , \", n, a, m,...   \n",
       "4  [[, {, \", i, d, \", :, , 2, 8, ,, , \", n, a, m,...   \n",
       "\n",
       "                                            keywords  \\\n",
       "0  [[, {, \", i, d, \", :, , 1, 4, 6, 3, ,, , \", n,...   \n",
       "1  [[, {, \", i, d, \", :, , 2, 7, 0, ,, , \", n, a,...   \n",
       "2  [[, {, \", i, d, \", :, , 4, 7, 0, ,, , \", n, a,...   \n",
       "3  [[, {, \", i, d, \", :, , 8, 4, 9, ,, , \", n, a,...   \n",
       "4  [[, {, \", i, d, \", :, , 8, 1, 8, ,, , \", n, a,...   \n",
       "\n",
       "                                                cast  \\\n",
       "0  [[, {, \", c, a, s, t, _, i, d, \", :, , 2, 4, 2...   \n",
       "1  [[, {, \", c, a, s, t, _, i, d, \", :, , 4, ,, ,...   \n",
       "2  [[, {, \", c, a, s, t, _, i, d, \", :, , 1, ,, ,...   \n",
       "3  [[, {, \", c, a, s, t, _, i, d, \", :, , 2, ,, ,...   \n",
       "4  [[, {, \", c, a, s, t, _, i, d, \", :, , 5, ,, ,...   \n",
       "\n",
       "                                                crew  \n",
       "0  [[, {, \", c, r, e, d, i, t, _, i, d, \", :, , \"...  \n",
       "1  [[, {, \", c, r, e, d, i, t, _, i, d, \", :, , \"...  \n",
       "2  [[, {, \", c, r, e, d, i, t, _, i, d, \", :, , \"...  \n",
       "3  [[, {, \", c, r, e, d, i, t, _, i, d, \", :, , \"...  \n",
       "4  [[, {, \", c, r, e, d, i, t, _, i, d, \", :, , \"...  "
      ]
     },
     "execution_count": 32,
     "metadata": {},
     "output_type": "execute_result"
    }
   ],
   "source": [
    "movies.head()"
   ]
  },
  {
   "cell_type": "code",
   "execution_count": 33,
   "id": "88bcd13d-72b4-4e24-9352-51fa3dec6f23",
   "metadata": {},
   "outputs": [],
   "source": [
    "movies['tags'] = movies['overview'] + movies['genres'] + movies['cast'] + movies ['crew']"
   ]
  },
  {
   "cell_type": "code",
   "execution_count": 34,
   "id": "58a606f2-4899-4915-80c7-86ce5734d062",
   "metadata": {},
   "outputs": [
    {
     "data": {
      "text/html": [
       "<div>\n",
       "<style scoped>\n",
       "    .dataframe tbody tr th:only-of-type {\n",
       "        vertical-align: middle;\n",
       "    }\n",
       "\n",
       "    .dataframe tbody tr th {\n",
       "        vertical-align: top;\n",
       "    }\n",
       "\n",
       "    .dataframe thead th {\n",
       "        text-align: right;\n",
       "    }\n",
       "</style>\n",
       "<table border=\"1\" class=\"dataframe\">\n",
       "  <thead>\n",
       "    <tr style=\"text-align: right;\">\n",
       "      <th></th>\n",
       "      <th>movie_id</th>\n",
       "      <th>title</th>\n",
       "      <th>overview</th>\n",
       "      <th>genres</th>\n",
       "      <th>keywords</th>\n",
       "      <th>cast</th>\n",
       "      <th>crew</th>\n",
       "      <th>tags</th>\n",
       "    </tr>\n",
       "  </thead>\n",
       "  <tbody>\n",
       "    <tr>\n",
       "      <th>0</th>\n",
       "      <td>19995</td>\n",
       "      <td>Avatar</td>\n",
       "      <td>[In, the, 22nd, century,, a, paraplegic, Marin...</td>\n",
       "      <td>[[, {, \", i, d, \", :, , 2, 8, ,, , \", n, a, m,...</td>\n",
       "      <td>[[, {, \", i, d, \", :, , 1, 4, 6, 3, ,, , \", n,...</td>\n",
       "      <td>[[, {, \", c, a, s, t, _, i, d, \", :, , 2, 4, 2...</td>\n",
       "      <td>[[, {, \", c, r, e, d, i, t, _, i, d, \", :, , \"...</td>\n",
       "      <td>[In, the, 22nd, century,, a, paraplegic, Marin...</td>\n",
       "    </tr>\n",
       "    <tr>\n",
       "      <th>1</th>\n",
       "      <td>285</td>\n",
       "      <td>Pirates of the Caribbean: At World's End</td>\n",
       "      <td>[Captain, Barbossa,, long, believed, to, be, d...</td>\n",
       "      <td>[[, {, \", i, d, \", :, , 1, 2, ,, , \", n, a, m,...</td>\n",
       "      <td>[[, {, \", i, d, \", :, , 2, 7, 0, ,, , \", n, a,...</td>\n",
       "      <td>[[, {, \", c, a, s, t, _, i, d, \", :, , 4, ,, ,...</td>\n",
       "      <td>[[, {, \", c, r, e, d, i, t, _, i, d, \", :, , \"...</td>\n",
       "      <td>[Captain, Barbossa,, long, believed, to, be, d...</td>\n",
       "    </tr>\n",
       "    <tr>\n",
       "      <th>2</th>\n",
       "      <td>206647</td>\n",
       "      <td>Spectre</td>\n",
       "      <td>[A, cryptic, message, from, Bond’s, past, send...</td>\n",
       "      <td>[[, {, \", i, d, \", :, , 2, 8, ,, , \", n, a, m,...</td>\n",
       "      <td>[[, {, \", i, d, \", :, , 4, 7, 0, ,, , \", n, a,...</td>\n",
       "      <td>[[, {, \", c, a, s, t, _, i, d, \", :, , 1, ,, ,...</td>\n",
       "      <td>[[, {, \", c, r, e, d, i, t, _, i, d, \", :, , \"...</td>\n",
       "      <td>[A, cryptic, message, from, Bond’s, past, send...</td>\n",
       "    </tr>\n",
       "    <tr>\n",
       "      <th>3</th>\n",
       "      <td>49026</td>\n",
       "      <td>The Dark Knight Rises</td>\n",
       "      <td>[Following, the, death, of, District, Attorney...</td>\n",
       "      <td>[[, {, \", i, d, \", :, , 2, 8, ,, , \", n, a, m,...</td>\n",
       "      <td>[[, {, \", i, d, \", :, , 8, 4, 9, ,, , \", n, a,...</td>\n",
       "      <td>[[, {, \", c, a, s, t, _, i, d, \", :, , 2, ,, ,...</td>\n",
       "      <td>[[, {, \", c, r, e, d, i, t, _, i, d, \", :, , \"...</td>\n",
       "      <td>[Following, the, death, of, District, Attorney...</td>\n",
       "    </tr>\n",
       "    <tr>\n",
       "      <th>4</th>\n",
       "      <td>49529</td>\n",
       "      <td>John Carter</td>\n",
       "      <td>[John, Carter, is, a, war-weary,, former, mili...</td>\n",
       "      <td>[[, {, \", i, d, \", :, , 2, 8, ,, , \", n, a, m,...</td>\n",
       "      <td>[[, {, \", i, d, \", :, , 8, 1, 8, ,, , \", n, a,...</td>\n",
       "      <td>[[, {, \", c, a, s, t, _, i, d, \", :, , 5, ,, ,...</td>\n",
       "      <td>[[, {, \", c, r, e, d, i, t, _, i, d, \", :, , \"...</td>\n",
       "      <td>[John, Carter, is, a, war-weary,, former, mili...</td>\n",
       "    </tr>\n",
       "  </tbody>\n",
       "</table>\n",
       "</div>"
      ],
      "text/plain": [
       "   movie_id                                     title  \\\n",
       "0     19995                                    Avatar   \n",
       "1       285  Pirates of the Caribbean: At World's End   \n",
       "2    206647                                   Spectre   \n",
       "3     49026                     The Dark Knight Rises   \n",
       "4     49529                               John Carter   \n",
       "\n",
       "                                            overview  \\\n",
       "0  [In, the, 22nd, century,, a, paraplegic, Marin...   \n",
       "1  [Captain, Barbossa,, long, believed, to, be, d...   \n",
       "2  [A, cryptic, message, from, Bond’s, past, send...   \n",
       "3  [Following, the, death, of, District, Attorney...   \n",
       "4  [John, Carter, is, a, war-weary,, former, mili...   \n",
       "\n",
       "                                              genres  \\\n",
       "0  [[, {, \", i, d, \", :, , 2, 8, ,, , \", n, a, m,...   \n",
       "1  [[, {, \", i, d, \", :, , 1, 2, ,, , \", n, a, m,...   \n",
       "2  [[, {, \", i, d, \", :, , 2, 8, ,, , \", n, a, m,...   \n",
       "3  [[, {, \", i, d, \", :, , 2, 8, ,, , \", n, a, m,...   \n",
       "4  [[, {, \", i, d, \", :, , 2, 8, ,, , \", n, a, m,...   \n",
       "\n",
       "                                            keywords  \\\n",
       "0  [[, {, \", i, d, \", :, , 1, 4, 6, 3, ,, , \", n,...   \n",
       "1  [[, {, \", i, d, \", :, , 2, 7, 0, ,, , \", n, a,...   \n",
       "2  [[, {, \", i, d, \", :, , 4, 7, 0, ,, , \", n, a,...   \n",
       "3  [[, {, \", i, d, \", :, , 8, 4, 9, ,, , \", n, a,...   \n",
       "4  [[, {, \", i, d, \", :, , 8, 1, 8, ,, , \", n, a,...   \n",
       "\n",
       "                                                cast  \\\n",
       "0  [[, {, \", c, a, s, t, _, i, d, \", :, , 2, 4, 2...   \n",
       "1  [[, {, \", c, a, s, t, _, i, d, \", :, , 4, ,, ,...   \n",
       "2  [[, {, \", c, a, s, t, _, i, d, \", :, , 1, ,, ,...   \n",
       "3  [[, {, \", c, a, s, t, _, i, d, \", :, , 2, ,, ,...   \n",
       "4  [[, {, \", c, a, s, t, _, i, d, \", :, , 5, ,, ,...   \n",
       "\n",
       "                                                crew  \\\n",
       "0  [[, {, \", c, r, e, d, i, t, _, i, d, \", :, , \"...   \n",
       "1  [[, {, \", c, r, e, d, i, t, _, i, d, \", :, , \"...   \n",
       "2  [[, {, \", c, r, e, d, i, t, _, i, d, \", :, , \"...   \n",
       "3  [[, {, \", c, r, e, d, i, t, _, i, d, \", :, , \"...   \n",
       "4  [[, {, \", c, r, e, d, i, t, _, i, d, \", :, , \"...   \n",
       "\n",
       "                                                tags  \n",
       "0  [In, the, 22nd, century,, a, paraplegic, Marin...  \n",
       "1  [Captain, Barbossa,, long, believed, to, be, d...  \n",
       "2  [A, cryptic, message, from, Bond’s, past, send...  \n",
       "3  [Following, the, death, of, District, Attorney...  \n",
       "4  [John, Carter, is, a, war-weary,, former, mili...  "
      ]
     },
     "execution_count": 34,
     "metadata": {},
     "output_type": "execute_result"
    }
   ],
   "source": [
    "movies.head()"
   ]
  },
  {
   "cell_type": "code",
   "execution_count": 35,
   "id": "c9b1473b-138f-4120-a18d-8500e7e12855",
   "metadata": {},
   "outputs": [],
   "source": [
    "new_df = movies[['movie_id','title' ,'tags']]"
   ]
  },
  {
   "cell_type": "code",
   "execution_count": 36,
   "id": "bde12263-6a3c-47b2-822e-80d7ca9a5f89",
   "metadata": {},
   "outputs": [
    {
     "name": "stderr",
     "output_type": "stream",
     "text": [
      "C:\\Users\\Salma Fannich\\AppData\\Local\\Temp\\ipykernel_11164\\3089450492.py:1: SettingWithCopyWarning: \n",
      "A value is trying to be set on a copy of a slice from a DataFrame.\n",
      "Try using .loc[row_indexer,col_indexer] = value instead\n",
      "\n",
      "See the caveats in the documentation: https://pandas.pydata.org/pandas-docs/stable/user_guide/indexing.html#returning-a-view-versus-a-copy\n",
      "  new_df['tags'] = new_df['tags'].apply(lambda x:\" \".join(x))\n"
     ]
    }
   ],
   "source": [
    "new_df['tags'] = new_df['tags'].apply(lambda x:\" \".join(x))"
   ]
  },
  {
   "cell_type": "code",
   "execution_count": 37,
   "id": "44f8b2ab-fa8d-416b-b676-1ea15339741e",
   "metadata": {},
   "outputs": [
    {
     "data": {
      "text/html": [
       "<div>\n",
       "<style scoped>\n",
       "    .dataframe tbody tr th:only-of-type {\n",
       "        vertical-align: middle;\n",
       "    }\n",
       "\n",
       "    .dataframe tbody tr th {\n",
       "        vertical-align: top;\n",
       "    }\n",
       "\n",
       "    .dataframe thead th {\n",
       "        text-align: right;\n",
       "    }\n",
       "</style>\n",
       "<table border=\"1\" class=\"dataframe\">\n",
       "  <thead>\n",
       "    <tr style=\"text-align: right;\">\n",
       "      <th></th>\n",
       "      <th>movie_id</th>\n",
       "      <th>title</th>\n",
       "      <th>tags</th>\n",
       "    </tr>\n",
       "  </thead>\n",
       "  <tbody>\n",
       "    <tr>\n",
       "      <th>0</th>\n",
       "      <td>19995</td>\n",
       "      <td>Avatar</td>\n",
       "      <td>In the 22nd century, a paraplegic Marine is di...</td>\n",
       "    </tr>\n",
       "    <tr>\n",
       "      <th>1</th>\n",
       "      <td>285</td>\n",
       "      <td>Pirates of the Caribbean: At World's End</td>\n",
       "      <td>Captain Barbossa, long believed to be dead, ha...</td>\n",
       "    </tr>\n",
       "    <tr>\n",
       "      <th>2</th>\n",
       "      <td>206647</td>\n",
       "      <td>Spectre</td>\n",
       "      <td>A cryptic message from Bond’s past sends him o...</td>\n",
       "    </tr>\n",
       "    <tr>\n",
       "      <th>3</th>\n",
       "      <td>49026</td>\n",
       "      <td>The Dark Knight Rises</td>\n",
       "      <td>Following the death of District Attorney Harve...</td>\n",
       "    </tr>\n",
       "    <tr>\n",
       "      <th>4</th>\n",
       "      <td>49529</td>\n",
       "      <td>John Carter</td>\n",
       "      <td>John Carter is a war-weary, former military ca...</td>\n",
       "    </tr>\n",
       "  </tbody>\n",
       "</table>\n",
       "</div>"
      ],
      "text/plain": [
       "   movie_id                                     title  \\\n",
       "0     19995                                    Avatar   \n",
       "1       285  Pirates of the Caribbean: At World's End   \n",
       "2    206647                                   Spectre   \n",
       "3     49026                     The Dark Knight Rises   \n",
       "4     49529                               John Carter   \n",
       "\n",
       "                                                tags  \n",
       "0  In the 22nd century, a paraplegic Marine is di...  \n",
       "1  Captain Barbossa, long believed to be dead, ha...  \n",
       "2  A cryptic message from Bond’s past sends him o...  \n",
       "3  Following the death of District Attorney Harve...  \n",
       "4  John Carter is a war-weary, former military ca...  "
      ]
     },
     "execution_count": 37,
     "metadata": {},
     "output_type": "execute_result"
    }
   ],
   "source": [
    "new_df.head()"
   ]
  },
  {
   "cell_type": "code",
   "execution_count": 38,
   "id": "454ee2a3-40cc-44b4-a141-4f81c633389a",
   "metadata": {},
   "outputs": [],
   "source": [
    "import nltk"
   ]
  },
  {
   "cell_type": "code",
   "execution_count": 39,
   "id": "49b8d7cb-dc2d-4ecf-b2cd-acd67f3e3e69",
   "metadata": {},
   "outputs": [],
   "source": [
    "from nltk.stem.porter import PorterStemmer\n",
    "ps = PorterStemmer()"
   ]
  },
  {
   "cell_type": "code",
   "execution_count": 45,
   "id": "08b221ba-4ccf-4372-93dd-afb5084daad3",
   "metadata": {},
   "outputs": [],
   "source": [
    "def stem(text):\n",
    "    y = []\n",
    "\n",
    "    for i in text.split():\n",
    "        y.append(ps.stem(i))\n",
    "    return \" \".join(y)"
   ]
  },
  {
   "cell_type": "code",
   "execution_count": 46,
   "id": "daf927a2-adb0-477f-a8f2-4b165f7d3e5d",
   "metadata": {},
   "outputs": [
    {
     "data": {
      "text/plain": [
       "'in the 22nd century, a parapleg marin is dispatch to the moon pandora on a uniqu mission, but becom torn between follow order and protect an alien civilization. [ { \" i d \" : 2 8 , \" n a m e \" : \" a c t i o n \" } , { \" i d \" : 1 2 , \" n a m e \" : \" a d v e n t u r e \" } , { \" i d \" : 1 4 , \" n a m e \" : \" f a n t a s y \" } , { \" i d \" : 8 7 8 , \" n a m e \" : \" s c i e n c e f i c t i o n \" } ] [ { \" c a s t _ i d \" : 2 4 2 , \" c h a r a c t e r \" : \" j a k e s u l l y \" , \" c r e d i t _ i d \" : \" 5 6 0 2 a 8 a 7 c 3 a 3 6 8 5 5 3 2 0 0 1 c 9 a \" , \" g e n d e r \" : 2 , \" i d \" : 6 5 7 3 1 , \" n a m e \" : \" s a m w o r t h i n g t o n \" , \" o r d e r \" : 0 } , { \" c a s t _ i d \" : 3 , \" c h a r a c t e r \" : \" n e y t i r i \" , \" c r e d i t _ i d \" : \" 5 2 f e 4 8 0 0 9 2 5 1 4 1 6 c 7 5 0 a c 9 c b \" , \" g e n d e r \" : 1 , \" i d \" : 8 6 9 1 , \" n a m e \" : \" z o e s a l d a n a \" , \" o r d e r \" : 1 } , { \" c a s t _ i d \" : 2 5 , \" c h a r a c t e r \" : \" d r . g r a c e a u g u s t i n e \" , \" c r e d i t _ i d \" : \" 5 2 f e 4 8 0 0 9 2 5 1 4 1 6 c 7 5 0 a c a 3 9 \" , \" g e n d e r \" : 1 , \" i d \" : 1 0 2 0 5 , \" n a m e \" : \" s i g o u r n e y w e a v e r \" , \" o r d e r \" : 2 } , { \" c a s t _ i d \" : 4 , \" c h a r a c t e r \" : \" c o l . q u a r i t c h \" , \" c r e d i t _ i d \" : \" 5 2 f e 4 8 0 0 9 2 5 1 4 1 6 c 7 5 0 a c 9 c f \" , \" g e n d e r \" : 2 , \" i d \" : 3 2 7 4 7 , \" n a m e \" : \" s t e p h e n l a n g \" , \" o r d e r \" : 3 } , { \" c a s t _ i d \" : 5 , \" c h a r a c t e r \" : \" t r u d y c h a c o n \" , \" c r e d i t _ i d \" : \" 5 2 f e 4 8 0 0 9 2 5 1 4 1 6 c 7 5 0 a c 9 d 3 \" , \" g e n d e r \" : 1 , \" i d \" : 1 7 6 4 7 , \" n a m e \" : \" m i c h e l l e r o d r i g u e z \" , \" o r d e r \" : 4 } , { \" c a s t _ i d \" : 8 , \" c h a r a c t e r \" : \" s e l f r i d g e \" , \" c r e d i t _ i d \" : \" 5 2 f e 4 8 0 0 9 2 5 1 4 1 6 c 7 5 0 a c 9 e 1 \" , \" g e n d e r \" : 2 , \" i d \" : 1 7 7 1 , \" n a m e \" : \" g i o v a n n i r i b i s i \" , \" o r d e r \" : 5 } , { \" c a s t _ i d \" : 7 , \" c h a r a c t e r \" : \" n o r m s p e l l m a n \" , \" c r e d i t _ i d \" : \" 5 2 f e 4 8 0 0 9 2 5 1 4 1 6 c 7 5 0 a c 9 d d \" , \" g e n d e r \" : 2 , \" i d \" : 5 9 2 3 1 , \" n a m e \" : \" j o e l d a v i d m o o r e \" , \" o r d e r \" : 6 } , { \" c a s t _ i d \" : 9 , \" c h a r a c t e r \" : \" m o a t \" , \" c r e d i t _ i d \" : \" 5 2 f e 4 8 0 0 9 2 5 1 4 1 6 c 7 5 0 a c 9 e 5 \" , \" g e n d e r \" : 1 , \" i d \" : 3 0 4 8 5 , \" n a m e \" : \" c c h p o u n d e r \" , \" o r d e r \" : 7 } , { \" c a s t _ i d \" : 1 1 , \" c h a r a c t e r \" : \" e y t u k a n \" , \" c r e d i t _ i d \" : \" 5 2 f e 4 8 0 0 9 2 5 1 4 1 6 c 7 5 0 a c 9 e d \" , \" g e n d e r \" : 2 , \" i d \" : 1 5 8 5 3 , \" n a m e \" : \" w e s s t u d i \" , \" o r d e r \" : 8 } , { \" c a s t _ i d \" : 1 0 , \" c h a r a c t e r \" : \" t s u \\' t e y \" , \" c r e d i t _ i d \" : \" 5 2 f e 4 8 0 0 9 2 5 1 4 1 6 c 7 5 0 a c 9 e 9 \" , \" g e n d e r \" : 2 , \" i d \" : 1 0 9 6 4 , \" n a m e \" : \" l a z a l o n s o \" , \" o r d e r \" : 9 } , { \" c a s t _ i d \" : 1 2 , \" c h a r a c t e r \" : \" d r . m a x p a t e l \" , \" c r e d i t _ i d \" : \" 5 2 f e 4 8 0 0 9 2 5 1 4 1 6 c 7 5 0 a c 9 f 1 \" , \" g e n d e r \" : 2 , \" i d \" : 9 5 6 9 7 , \" n a m e \" : \" d i l e e p r a o \" , \" o r d e r \" : 1 0 } , { \" c a s t _ i d \" : 1 3 , \" c h a r a c t e r \" : \" l y l e w a i n f l e e t \" , \" c r e d i t _ i d \" : \" 5 2 f e 4 8 0 0 9 2 5 1 4 1 6 c 7 5 0 a c 9 f 5 \" , \" g e n d e r \" : 2 , \" i d \" : 9 8 2 1 5 , \" n a m e \" : \" m a t t g e r a l d \" , \" o r d e r \" : 1 1 } , { \" c a s t _ i d \" : 3 2 , \" c h a r a c t e r \" : \" p r i v a t e f i k e \" , \" c r e d i t _ i d \" : \" 5 2 f e 4 8 0 0 9 2 5 1 4 1 6 c 7 5 0 a c a 5 b \" , \" g e n d e r \" : 2 , \" i d \" : 1 5 4 1 5 3 , \" n a m e \" : \" s e a n a n t h o n y m o r a n \" , \" o r d e r \" : 1 2 } , { \" c a s t _ i d \" : 3 3 , \" c h a r a c t e r \" : \" c r y o v a u l t m e d t e c h \" , \" c r e d i t _ i d \" : \" 5 2 f e 4 8 0 0 9 2 5 1 4 1 6 c 7 5 0 a c a 5 f \" , \" g e n d e r \" : 2 , \" i d \" : 3 9 7 3 1 2 , \" n a m e \" : \" j a s o n w h y t e \" , \" o r d e r \" : 1 3 } , { \" c a s t _ i d \" : 3 4 , \" c h a r a c t e r \" : \" v e n t u r e s t a r c r e w c h i e f \" , \" c r e d i t _ i d \" : \" 5 2 f e 4 8 0 0 9 2 5 1 4 1 6 c 7 5 0 a c a 6 3 \" , \" g e n d e r \" : 2 , \" i d \" : 4 2 3 1 7 , \" n a m e \" : \" s c o t t l a w r e n c e \" , \" o r d e r \" : 1 4 } , { \" c a s t _ i d \" : 3 5 , \" c h a r a c t e r \" : \" l o c k u p t r o o p e r \" , \" c r e d i t _ i d \" : \" 5 2 f e 4 8 0 0 9 2 5 1 4 1 6 c 7 5 0 a c a 6 7 \" , \" g e n d e r \" : 2 , \" i d \" : 9 8 6 7 3 4 , \" n a m e \" : \" k e l l y k i l g o u r \" , \" o r d e r \" : 1 5 } , { \" c a s t _ i d \" : 3 6 , \" c h a r a c t e r \" : \" s h u t t l e p i l o t \" , \" c r e d i t _ i d \" : \" 5 2 f e 4 8 0 0 9 2 5 1 4 1 6 c 7 5 0 a c a 6 b \" , \" g e n d e r \" : 0 , \" i d \" : 1 2 0 7 2 2 7 , \" n a m e \" : \" j a m e s p a t r i c k p i t t \" , \" o r d e r \" : 1 6 } , { \" c a s t _ i d \" : 3 7 , \" c h a r a c t e r \" : \" s h u t t l e c o - p i l o t \" , \" c r e d i t _ i d \" : \" 5 2 f e 4 8 0 0 9 2 5 1 4 1 6 c 7 5 0 a c a 6 f \" , \" g e n d e r \" : 0 , \" i d \" : 1 1 8 0 9 3 6 , \" n a m e \" : \" s e a n p a t r i c k m u r p h y \" , \" o r d e r \" : 1 7 } , { \" c a s t _ i d \" : 3 8 , \" c h a r a c t e r \" : \" s h u t t l e c r e w c h i e f \" , \" c r e d i t _ i d \" : \" 5 2 f e 4 8 0 0 9 2 5 1 4 1 6 c 7 5 0 a c a 7 3 \" , \" g e n d e r \" : 2 , \" i d \" : 1 0 1 9 5 7 8 , \" n a m e \" : \" p e t e r d i l l o n \" , \" o r d e r \" : 1 8 } , { \" c a s t _ i d \" : 3 9 , \" c h a r a c t e r \" : \" t r a c t o r o p e r a t o r / t r o u p e \" , \" c r e d i t _ i d \" : \" 5 2 f e 4 8 0 0 9 2 5 1 4 1 6 c 7 5 0 a c a 7 7 \" , \" g e n d e r \" : 0 , \" i d \" : 9 1 4 4 3 , \" n a m e \" : \" k e v i n d o r m a n \" , \" o r d e r \" : 1 9 } , { \" c a s t _ i d \" : 4 0 , \" c h a r a c t e r \" : \" d r a g o n g u n s h i p p i l o t \" , \" c r e d i t _ i d \" : \" 5 2 f e 4 8 0 0 9 2 5 1 4 1 6 c 7 5 0 a c a 7 b \" , \" g e n d e r \" : 2 , \" i d \" : 1 7 3 3 9 1 , \" n a m e \" : \" k e l s o n h e n d e r s o n \" , \" o r d e r \" : 2 0 } , { \" c a s t _ i d \" : 4 1 , \" c h a r a c t e r \" : \" d r a g o n g u n s h i p g u n n e r \" , \" c r e d i t _ i d \" : \" 5 2 f e 4 8 0 0 9 2 5 1 4 1 6 c 7 5 0 a c a 7 f \" , \" g e n d e r \" : 0 , \" i d \" : 1 2 0 7 2 3 6 , \" n a m e \" : \" d a v i d v a n h o r n \" , \" o r d e r \" : 2 1 } , { \" c a s t _ i d \" : 4 2 , \" c h a r a c t e r \" : \" d r a g o n g u n s h i p n a v i g a t o r \" , \" c r e d i t _ i d \" : \" 5 2 f e 4 8 0 0 9 2 5 1 4 1 6 c 7 5 0 a c a 8 3 \" , \" g e n d e r \" : 0 , \" i d \" : 2 1 5 9 1 3 , \" n a m e \" : \" j a c o b t o m u r i \" , \" o r d e r \" : 2 2 } , { \" c a s t _ i d \" : 4 3 , \" c h a r a c t e r \" : \" s u i t # 1 \" , \" c r e d i t _ i d \" : \" 5 2 f e 4 8 0 0 9 2 5 1 4 1 6 c 7 5 0 a c a 8 7 \" , \" g e n d e r \" : 0 , \" i d \" : 1 4 3 2 0 6 , \" n a m e \" : \" m i c h a e l b l a i n - r o z g a y \" , \" o r d e r \" : 2 3 } , { \" c a s t _ i d \" : 4 4 , \" c h a r a c t e r \" : \" s u i t # 2 \" , \" c r e d i t _ i d \" : \" 5 2 f e 4 8 0 0 9 2 5 1 4 1 6 c 7 5 0 a c a 8 b \" , \" g e n d e r \" : 2 , \" i d \" : 1 6 9 6 7 6 , \" n a m e \" : \" j o n c u r r y \" , \" o r d e r \" : 2 4 } , { \" c a s t _ i d \" : 4 6 , \" c h a r a c t e r \" : \" a m b i e n t r o o m t e c h \" , \" c r e d i t _ i d \" : \" 5 2 f e 4 8 0 0 9 2 5 1 4 1 6 c 7 5 0 a c a 8 f \" , \" g e n d e r \" : 0 , \" i d \" : 1 0 4 8 6 1 0 , \" n a m e \" : \" l u k e h a w k e r \" , \" o r d e r \" : 2 5 } , { \" c a s t _ i d \" : 4 7 , \" c h a r a c t e r \" : \" a m b i e n t r o o m t e c h / t r o u p e \" , \" c r e d i t _ i d \" : \" 5 2 f e 4 8 0 0 9 2 5 1 4 1 6 c 7 5 0 a c a 9 3 \" , \" g e n d e r \" : 0 , \" i d \" : 4 2 2 8 8 , \" n a m e \" : \" w o o d y s c h u l t z \" , \" o r d e r \" : 2 6 } , { \" c a s t _ i d \" : 4 8 , \" c h a r a c t e r \" : \" h o r s e c l a n l e a d e r \" , \" c r e d i t _ i d \" : \" 5 2 f e 4 8 0 0 9 2 5 1 4 1 6 c 7 5 0 a c a 9 7 \" , \" g e n d e r \" : 2 , \" i d \" : 6 8 2 7 8 , \" n a m e \" : \" p e t e r m e n s a h \" , \" o r d e r \" : 2 7 } , { \" c a s t _ i d \" : 4 9 , \" c h a r a c t e r \" : \" l i n k r o o m t e c h \" , \" c r e d i t _ i d \" : \" 5 2 f e 4 8 0 0 9 2 5 1 4 1 6 c 7 5 0 a c a 9 b \" , \" g e n d e r \" : 0 , \" i d \" : 1 2 0 7 2 4 7 , \" n a m e \" : \" s o n i a y e e \" , \" o r d e r \" : 2 8 } , { \" c a s t _ i d \" : 5 0 , \" c h a r a c t e r \" : \" b a s k e t b a l l a v a t a r / t r o u p e \" , \" c r e d i t _ i d \" : \" 5 2 f e 4 8 0 0 9 2 5 1 4 1 6 c 7 5 0 a c a 9 f \" , \" g e n d e r \" : 1 , \" i d \" : 1 2 0 7 2 4 8 , \" n a m e \" : \" j a h n e l c u r f m a n \" , \" o r d e r \" : 2 9 } , { \" c a s t _ i d \" : 5 1 , \" c h a r a c t e r \" : \" b a s k e t b a l l a v a t a r \" , \" c r e d i t _ i d \" : \" 5 2 f e 4 8 0 0 9 2 5 1 4 1 6 c 7 5 0 a c a a 3 \" , \" g e n d e r \" : 0 , \" i d \" : 8 9 7 1 4 , \" n a m e \" : \" i l r a m c h o i \" , \" o r d e r \" : 3 0 } , { \" c a s t _ i d \" : 5 2 , \" c h a r a c t e r \" : \" n a \\' v i c h i l d \" , \" c r e d i t _ i d \" : \" 5 2 f e 4 8 0 0 9 2 5 1 4 1 6 c 7 5 0 a c a a 7 \" , \" g e n d e r \" : 0 , \" i d \" : 1 2 0 7 2 4 9 , \" n a m e \" : \" k y l a w a r r e n \" , \" o r d e r \" : 3 1 } , { \" c a s t _ i d \" : 5 3 , \" c h a r a c t e r \" : \" t r o u p e \" , \" c r e d i t _ i d \" : \" 5 2 f e 4 8 0 0 9 2 5 1 4 1 6 c 7 5 0 a c a a b \" , \" g e n d e r \" : 0 , \" i d \" : 1 2 0 7 2 5 0 , \" n a m e \" : \" l i s a r o u m a i n \" , \" o r d e r \" : 3 2 } , { \" c a s t _ i d \" : 5 4 , \" c h a r a c t e r \" : \" t r o u p e \" , \" c r e d i t _ i d \" : \" 5 2 f e 4 8 0 0 9 2 5 1 4 1 6 c 7 5 0 a c a a f \" , \" g e n d e r \" : 1 , \" i d \" : 8 3 1 0 5 , \" n a m e \" : \" d e b r a w i l s o n \" , \" o r d e r \" : 3 3 } , { \" c a s t _ i d \" : 5 7 , \" c h a r a c t e r \" : \" t r o u p e \" , \" c r e d i t _ i d \" : \" 5 2 f e 4 8 0 0 9 2 5 1 4 1 6 c 7 5 0 a c a b b \" , \" g e n d e r \" : 0 , \" i d \" : 1 2 0 7 2 5 3 , \" n a m e \" : \" c h r i s m a l a \" , \" o r d e r \" : 3 4 } , { \" c a s t _ i d \" : 5 5 , \" c h a r a c t e r \" : \" t r o u p e \" , \" c r e d i t _ i d \" : \" 5 2 f e 4 8 0 0 9 2 5 1 4 1 6 c 7 5 0 a c a b 3 \" , \" g e n d e r \" : 0 , \" i d \" : 1 2 0 7 2 5 1 , \" n a m e \" : \" t a y l o r k i b b y \" , \" o r d e r \" : 3 5 } , { \" c a s t _ i d \" : 5 6 , \" c h a r a c t e r \" : \" t r o u p e \" , \" c r e d i t _ i d \" : \" 5 2 f e 4 8 0 0 9 2 5 1 4 1 6 c 7 5 0 a c a b 7 \" , \" g e n d e r \" : 0 , \" i d \" : 1 2 0 7 2 5 2 , \" n a m e \" : \" j o d i e l a n d a u \" , \" o r d e r \" : 3 6 } , { \" c a s t _ i d \" : 5 8 , \" c h a r a c t e r \" : \" t r o u p e \" , \" c r e d i t _ i d \" : \" 5 2 f e 4 8 0 0 9 2 5 1 4 1 6 c 7 5 0 a c a b f \" , \" g e n d e r \" : 0 , \" i d \" : 1 2 0 7 2 5 4 , \" n a m e \" : \" j u l i e l a m m \" , \" o r d e r \" : 3 7 } , { \" c a s t _ i d \" : 5 9 , \" c h a r a c t e r \" : \" t r o u p e \" , \" c r e d i t _ i d \" : \" 5 2 f e 4 8 0 0 9 2 5 1 4 1 6 c 7 5 0 a c a c 3 \" , \" g e n d e r \" : 0 , \" i d \" : 1 2 0 7 2 5 7 , \" n a m e \" : \" c u l l e n b . m a d d e n \" , \" o r d e r \" : 3 8 } , { \" c a s t _ i d \" : 6 0 , \" c h a r a c t e r \" : \" t r o u p e \" , \" c r e d i t _ i d \" : \" 5 2 f e 4 8 0 0 9 2 5 1 4 1 6 c 7 5 0 a c a c 7 \" , \" g e n d e r \" : 0 , \" i d \" : 1 2 0 7 2 5 9 , \" n a m e \" : \" j o s e p h b r a d y m a d d e n \" , \" o r d e r \" : 3 9 } , { \" c a s t _ i d \" : 6 1 , \" c h a r a c t e r \" : \" t r o u p e \" , \" c r e d i t _ i d \" : \" 5 2 f e 4 8 0 0 9 2 5 1 4 1 6 c 7 5 0 a c a c b \" , \" g e n d e r \" : 0 , \" i d \" : 1 2 0 7 2 6 2 , \" n a m e \" : \" f r a n k i e t o r r e s \" , \" o r d e r \" : 4 0 } , { \" c a s t _ i d \" : 6 2 , \" c h a r a c t e r \" : \" t r o u p e \" , \" c r e d i t _ i d \" : \" 5 2 f e 4 8 0 0 9 2 5 1 4 1 6 c 7 5 0 a c a c f \" , \" g e n d e r \" : 1 , \" i d \" : 1 1 5 8 6 0 0 , \" n a m e \" : \" a u s t i n w i l s o n \" , \" o r d e r \" : 4 1 } , { \" c a s t _ i d \" : 6 3 , \" c h a r a c t e r \" : \" t r o u p e \" , \" c r e d i t _ i d \" : \" 5 2 f e 4 8 0 1 9 2 5 1 4 1 6 c 7 5 0 a c a d 3 \" , \" g e n d e r \" : 1 , \" i d \" : 9 8 3 7 0 5 , \" n a m e \" : \" s a r a w i l s o n \" , \" o r d e r \" : 4 2 } , { \" c a s t _ i d \" : 6 4 , \" c h a r a c t e r \" : \" t r o u p e \" , \" c r e d i t _ i d \" : \" 5 2 f e 4 8 0 1 9 2 5 1 4 1 6 c 7 5 0 a c a d 7 \" , \" g e n d e r \" : 0 , \" i d \" : 1 2 0 7 2 6 3 , \" n a m e \" : \" t a m i c a w a s h i n g t o n - m i l l e r \" , \" o r d e r \" : 4 3 } , { \" c a s t _ i d \" : 6 5 , \" c h a r a c t e r \" : \" o p c e n t e r s t a f f \" , \" c r e d i t _ i d \" : \" 5 2 f e 4 8 0 1 9 2 5 1 4 1 6 c 7 5 0 a c a d b \" , \" g e n d e r \" : 1 , \" i d \" : 1 1 4 5 0 9 8 , \" n a m e \" : \" l u c y b r i a n t \" , \" o r d e r \" : 4 4 } , { \" c a s t _ i d \" : 6 6 , \" c h a r a c t e r \" : \" o p c e n t e r s t a f f \" , \" c r e d i t _ i d \" : \" 5 2 f e 4 8 0 1 9 2 5 1 4 1 6 c 7 5 0 a c a d f \" , \" g e n d e r \" : 2 , \" i d \" : 3 3 3 0 5 , \" n a m e \" : \" n a t h a n m e i s t e r \" , \" o r d e r \" : 4 5 } , { \" c a s t _ i d \" : 6 7 , \" c h a r a c t e r \" : \" o p c e n t e r s t a f f \" , \" c r e d i t _ i d \" : \" 5 2 f e 4 8 0 1 9 2 5 1 4 1 6 c 7 5 0 a c a e 3 \" , \" g e n d e r \" : 0 , \" i d \" : 1 2 0 7 2 6 4 , \" n a m e \" : \" g e r r y b l a i r \" , \" o r d e r \" : 4 6 } , { \" c a s t _ i d \" : 6 8 , \" c h a r a c t e r \" : \" o p c e n t e r s t a f f \" , \" c r e d i t _ i d \" : \" 5 2 f e 4 8 0 1 9 2 5 1 4 1 6 c 7 5 0 a c a e 7 \" , \" g e n d e r \" : 2 , \" i d \" : 3 3 3 1 1 , \" n a m e \" : \" m a t t h e w c h a m b e r l a i n \" , \" o r d e r \" : 4 7 } , { \" c a s t _ i d \" : 6 9 , \" c h a r a c t e r \" : \" o p c e n t e r s t a f f \" , \" c r e d i t _ i d \" : \" 5 2 f e 4 8 0 1 9 2 5 1 4 1 6 c 7 5 0 a c a e b \" , \" g e n d e r \" : 0 , \" i d \" : 1 2 0 7 2 6 5 , \" n a m e \" : \" p a u l y a t e s \" , \" o r d e r \" : 4 8 } , { \" c a s t _ i d \" : 7 0 , \" c h a r a c t e r \" : \" o p c e n t e r d u t y o f f i c e r \" , \" c r e d i t _ i d \" : \" 5 2 f e 4 8 0 1 9 2 5 1 4 1 6 c 7 5 0 a c a e f \" , \" g e n d e r \" : 0 , \" i d \" : 1 2 0 7 2 6 6 , \" n a m e \" : \" w r a y w i l s o n \" , \" o r d e r \" : 4 9 } , { \" c a s t _ i d \" : 7 1 , \" c h a r a c t e r \" : \" o p c e n t e r s t a f f \" , \" c r e d i t _ i d \" : \" 5 2 f e 4 8 0 1 9 2 5 1 4 1 6 c 7 5 0 a c a f 3 \" , \" g e n d e r \" : 2 , \" i d \" : 5 4 4 9 2 , \" n a m e \" : \" j a m e s g a y l y n \" , \" o r d e r \" : 5 0 } , { \" c a s t _ i d \" : 7 2 , \" c h a r a c t e r \" : \" d a n c e r \" , \" c r e d i t _ i d \" : \" 5 2 f e 4 8 0 1 9 2 5 1 4 1 6 c 7 5 0 a c a f 7 \" , \" g e n d e r \" : 0 , \" i d \" : 1 2 0 7 2 6 7 , \" n a m e \" : \" m e l v i n l e n o c l a r k i i i \" , \" o r d e r \" : 5 1 } , { \" c a s t _ i d \" : 7 3 , \" c h a r a c t e r \" : \" d a n c e r \" , \" c r e d i t _ i d \" : \" 5 2 f e 4 8 0 1 9 2 5 1 4 1 6 c 7 5 0 a c a f b \" , \" g e n d e r \" : 0 , \" i d \" : 1 2 0 7 2 6 8 , \" n a m e \" : \" c a r v o n f u t r e l l \" , \" o r d e r \" : 5 2 } , { \" c a s t _ i d \" : 7 4 , \" c h a r a c t e r \" : \" d a n c e r \" , \" c r e d i t _ i d \" : \" 5 2 f e 4 8 0 1 9 2 5 1 4 1 6 c 7 5 0 a c a f f \" , \" g e n d e r \" : 0 , \" i d \" : 1 2 0 7 2 6 9 , \" n a m e \" : \" b r a n d o n j e l k e s \" , \" o r d e r \" : 5 3 } , { \" c a s t _ i d \" : 7 5 , \" c h a r a c t e r \" : \" d a n c e r \" , \" c r e d i t _ i d \" : \" 5 2 f e 4 8 0 1 9 2 5 1 4 1 6 c 7 5 0 a c b 0 3 \" , \" g e n d e r \" : 0 , \" i d \" : 1 2 0 7 2 7 0 , \" n a m e \" : \" m i c a h m o c h \" , \" o r d e r \" : 5 4 } , { \" c a s t _ i d \" : 7 6 , \" c h a r a c t e r \" : \" d a n c e r \" , \" c r e d i t _ i d \" : \" 5 2 f e 4 8 0 1 9 2 5 1 4 1 6 c 7 5 0 a c b 0 7 \" , \" g e n d e r \" : 0 , \" i d \" : 1 2 0 7 2 7 1 , \" n a m e \" : \" h a n n i y a h m u h a m m a d \" , \" o r d e r \" : 5 5 } , { \" c a s t _ i d \" : 7 7 , \" c h a r a c t e r \" : \" d a n c e r \" , \" c r e d i t _ i d \" : \" 5 2 f e 4 8 0 1 9 2 5 1 4 1 6 c 7 5 0 a c b 0 b \" , \" g e n d e r \" : 0 , \" i d \" : 1 2 0 7 2 7 2 , \" n a m e \" : \" c h r i s t o p h e r n o l e n \" , \" o r d e r \" : 5 6 } , { \" c a s t _ i d \" : 7 8 , \" c h a r a c t e r \" : \" d a n c e r \" , \" c r e d i t _ i d \" : \" 5 2 f e 4 8 0 1 9 2 5 1 4 1 6 c 7 5 0 a c b 0 f \" , \" g e n d e r \" : 0 , \" i d \" : 1 2 0 7 2 7 3 , \" n a m e \" : \" c h r i s t a o l i v e r \" , \" o r d e r \" : 5 7 } , { \" c a s t _ i d \" : 7 9 , \" c h a r a c t e r \" : \" d a n c e r \" , \" c r e d i t _ i d \" : \" 5 2 f e 4 8 0 1 9 2 5 1 4 1 6 c 7 5 0 a c b 1 3 \" , \" g e n d e r \" : 0 , \" i d \" : 1 2 0 7 2 7 4 , \" n a m e \" : \" a p r i l m a r i e t h o m a s \" , \" o r d e r \" : 5 8 } , { \" c a s t _ i d \" : 8 0 , \" c h a r a c t e r \" : \" d a n c e r \" , \" c r e d i t _ i d \" : \" 5 2 f e 4 8 0 1 9 2 5 1 4 1 6 c 7 5 0 a c b 1 7 \" , \" g e n d e r \" : 0 , \" i d \" : 1 2 0 7 2 7 5 , \" n a m e \" : \" b r a v i t a a . t h r e a t t \" , \" o r d e r \" : 5 9 } , { \" c a s t _ i d \" : 8 1 , \" c h a r a c t e r \" : \" m i n i n g c h i e f ( u n c r e d i t e d ) \" , \" c r e d i t _ i d \" : \" 5 2 f e 4 8 0 1 9 2 5 1 4 1 6 c 7 5 0 a c b 1 b \" , \" g e n d e r \" : 0 , \" i d \" : 1 2 0 7 2 7 6 , \" n a m e \" : \" c o l i n b l e a s d a l e \" , \" o r d e r \" : 6 0 } , { \" c a s t _ i d \" : 8 2 , \" c h a r a c t e r \" : \" v e t e r a n m i n e r ( u n c r e d i t e d ) \" , \" c r e d i t _ i d \" : \" 5 2 f e 4 8 0 1 9 2 5 1 4 1 6 c 7 5 0 a c b 1 f \" , \" g e n d e r \" : 0 , \" i d \" : 1 0 7 9 6 9 , \" n a m e \" : \" m i k e b o d n a r \" , \" o r d e r \" : 6 1 } , { \" c a s t _ i d \" : 8 3 , \" c h a r a c t e r \" : \" r i c h a r d ( u n c r e d i t e d ) \" , \" c r e d i t _ i d \" : \" 5 2 f e 4 8 0 1 9 2 5 1 4 1 6 c 7 5 0 a c b 2 3 \" , \" g e n d e r \" : 0 , \" i d \" : 1 2 0 7 2 7 8 , \" n a m e \" : \" m a t t c l a y t o n \" , \" o r d e r \" : 6 2 } , { \" c a s t _ i d \" : 8 4 , \" c h a r a c t e r \" : \" n a v \\' i ( u n c r e d i t e d ) \" , \" c r e d i t _ i d \" : \" 5 2 f e 4 8 0 1 9 2 5 1 4 1 6 c 7 5 0 a c b 2 7 \" , \" g e n d e r \" : 1 , \" i d \" : 1 4 7 8 9 8 , \" n a m e \" : \" n i c o l e d i o n n e \" , \" o r d e r \" : 6 3 } , { \" c a s t _ i d \" : 8 5 , \" c h a r a c t e r \" : \" t r o o p e r ( u n c r e d i t e d ) \" , \" c r e d i t _ i d \" : \" 5 2 f e 4 8 0 1 9 2 5 1 4 1 6 c 7 5 0 a c b 2 b \" , \" g e n d e r \" : 0 , \" i d \" : 1 2 0 7 2 8 0 , \" n a m e \" : \" j a m i e h a r r i s o n \" , \" o r d e r \" : 6 4 } , { \" c a s t _ i d \" : 8 6 , \" c h a r a c t e r \" : \" t r o o p e r ( u n c r e d i t e d ) \" , \" c r e d i t _ i d \" : \" 5 2 f e 4 8 0 1 9 2 5 1 4 1 6 c 7 5 0 a c b 2 f \" , \" g e n d e r \" : 0 , \" i d \" : 1 2 0 7 2 8 1 , \" n a m e \" : \" a l l a n h e n r y \" , \" o r d e r \" : 6 5 } , { \" c a s t _ i d \" : 8 7 , \" c h a r a c t e r \" : \" g r o u n d t e c h n i c i a n ( u n c r e d i t e d ) \" , \" c r e d i t _ i d \" : \" 5 2 f e 4 8 0 1 9 2 5 1 4 1 6 c 7 5 0 a c b 3 3 \" , \" g e n d e r \" : 2 , \" i d \" : 1 2 0 7 2 8 2 , \" n a m e \" : \" a n t h o n y i n g r u b e r \" , \" o r d e r \" : 6 6 } , { \" c a s t _ i d \" : 8 8 , \" c h a r a c t e r \" : \" f l i g h t c r e w m e c h a n i c ( u n c r e d i t e d ) \" , \" c r e d i t _ i d \" : \" 5 2 f e 4 8 0 1 9 2 5 1 4 1 6 c 7 5 0 a c b 3 7 \" , \" g e n d e r \" : 0 , \" i d \" : 1 2 0 7 2 8 3 , \" n a m e \" : \" a s h l e y j e f f e r y \" , \" o r d e r \" : 6 7 } , { \" c a s t _ i d \" : 1 4 , \" c h a r a c t e r \" : \" s a m s o n p i l o t \" , \" c r e d i t _ i d \" : \" 5 2 f e 4 8 0 0 9 2 5 1 4 1 6 c 7 5 0 a c 9 f 9 \" , \" g e n d e r \" : 0 , \" i d \" : 9 8 2 1 6 , \" n a m e \" : \" d e a n k n o w s l e y \" , \" o r d e r \" : 6 8 } , { \" c a s t _ i d \" : 8 9 , \" c h a r a c t e r \" : \" t r o o p e r ( u n c r e d i t e d ) \" , \" c r e d i t _ i d \" : \" 5 2 f e 4 8 0 1 9 2 5 1 4 1 6 c 7 5 0 a c b 3 b \" , \" g e n d e r \" : 0 , \" i d \" : 1 2 0 1 3 9 9 , \" n a m e \" : \" j o s e p h m i k a - h u n t \" , \" o r d e r \" : 6 9 } , { \" c a s t _ i d \" : 9 0 , \" c h a r a c t e r \" : \" b a n s h e e ( u n c r e d i t e d ) \" , \" c r e d i t _ i d \" : \" 5 2 f e 4 8 0 1 9 2 5 1 4 1 6 c 7 5 0 a c b 3 f \" , \" g e n d e r \" : 0 , \" i d \" : 2 3 6 6 9 6 , \" n a m e \" : \" t e r r y n o t a r y \" , \" o r d e r \" : 7 0 } , { \" c a s t _ i d \" : 9 1 , \" c h a r a c t e r \" : \" s o l d i e r ( u n c r e d i t e d ) \" , \" c r e d i t _ i d \" : \" 5 2 f e 4 8 0 1 9 2 5 1 4 1 6 c 7 5 0 a c b 4 3 \" , \" g e n d e r \" : 0 , \" i d \" : 1 2 0 7 2 8 7 , \" n a m e \" : \" k a i p a n t a n o \" , \" o r d e r \" : 7 1 } , { \" c a s t _ i d \" : 9 2 , \" c h a r a c t e r \" : \" b l a s t t e c h n i c i a n ( u n c r e d i t e d ) \" , \" c r e d i t _ i d \" : \" 5 2 f e 4 8 0 1 9 2 5 1 4 1 6 c 7 5 0 a c b 4 7 \" , \" g e n d e r \" : 0 , \" i d \" : 1 2 0 7 2 8 8 , \" n a m e \" : \" l o g a n p i t h y o u \" , \" o r d e r \" : 7 2 } , { \" c a s t _ i d \" : 9 3 , \" c h a r a c t e r \" : \" v i n d u m r a a h ( u n c r e d i t e d ) \" , \" c r e d i t _ i d \" : \" 5 2 f e 4 8 0 1 9 2 5 1 4 1 6 c 7 5 0 a c b 4 b \" , \" g e n d e r \" : 0 , \" i d \" : 1 2 0 7 2 8 9 , \" n a m e \" : \" s t u a r t p o l l o c k \" , \" o r d e r \" : 7 3 } , { \" c a s t _ i d \" : 9 4 , \" c h a r a c t e r \" : \" h e r o ( u n c r e d i t e d ) \" , \" c r e d i t _ i d \" : \" 5 2 f e 4 8 0 1 9 2 5 1 4 1 6 c 7 5 0 a c b 4 f \" , \" g e n d e r \" : 0 , \" i d \" : 5 8 4 8 6 8 , \" n a m e \" : \" r a j a \" , \" o r d e r \" : 7 4 } , { \" c a s t _ i d \" : 9 5 , \" c h a r a c t e r \" : \" o p s c e n t r e w o r k e r ( u n c r e d i t e d ) \" , \" c r e d i t _ i d \" : \" 5 2 f e 4 8 0 1 9 2 5 1 4 1 6 c 7 5 0 a c b 5 3 \" , \" g e n d e r \" : 0 , \" i d \" : 1 2 0 7 2 9 0 , \" n a m e \" : \" g a r e t h r u c k \" , \" o r d e r \" : 7 5 } , { \" c a s t _ i d \" : 9 6 , \" c h a r a c t e r \" : \" e n g i n e e r ( u n c r e d i t e d ) \" , \" c r e d i t _ i d \" : \" 5 2 f e 4 8 0 1 9 2 5 1 4 1 6 c 7 5 0 a c b 5 7 \" , \" g e n d e r \" : 0 , \" i d \" : 1 0 6 2 4 6 3 , \" n a m e \" : \" r h i a n s h e e h a n \" , \" o r d e r \" : 7 6 } , { \" c a s t _ i d \" : 9 7 , \" c h a r a c t e r \" : \" c o l . q u a r i t c h \\' s m e c h s u i t ( u n c r e d i t e d ) \" , \" c r e d i t _ i d \" : \" 5 2 f e 4 8 0 1 9 2 5 1 4 1 6 c 7 5 0 a c b 5 b \" , \" g e n d e r \" : 0 , \" i d \" : 6 0 6 5 6 , \" n a m e \" : \" t . j . s t o r m \" , \" o r d e r \" : 7 7 } , { \" c a s t _ i d \" : 9 8 , \" c h a r a c t e r \" : \" f e m a l e m a r i n e ( u n c r e d i t e d ) \" , \" c r e d i t _ i d \" : \" 5 2 f e 4 8 0 1 9 2 5 1 4 1 6 c 7 5 0 a c b 5 f \" , \" g e n d e r \" : 0 , \" i d \" : 1 2 0 7 2 9 1 , \" n a m e \" : \" j o d i e t a y l o r \" , \" o r d e r \" : 7 8 } , { \" c a s t _ i d \" : 9 9 , \" c h a r a c t e r \" : \" i k r a n c l a n l e a d e r ( u n c r e d i t e d ) \" , \" c r e d i t _ i d \" : \" 5 2 f e 4 8 0 1 9 2 5 1 4 1 6 c 7 5 0 a c b 6 3 \" , \" g e n d e r \" : 1 , \" i d \" : 1 1 8 6 0 2 7 , \" n a m e \" : \" a l i c i a v e l a - b a i l e y \" , \" o r d e r \" : 7 9 } , { \" c a s t _ i d \" : 1 0 0 , \" c h a r a c t e r \" : \" g e o l o g i s t ( u n c r e d i t e d ) \" , \" c r e d i t _ i d \" : \" 5 2 f e 4 8 0 1 9 2 5 1 4 1 6 c 7 5 0 a c b 6 7 \" , \" g e n d e r \" : 0 , \" i d \" : 1 2 0 7 2 9 2 , \" n a m e \" : \" r i c h a r d w h i t e s i d e \" , \" o r d e r \" : 8 0 } , { \" c a s t _ i d \" : 1 0 1 , \" c h a r a c t e r \" : \" n a \\' v i ( u n c r e d i t e d ) \" , \" c r e d i t _ i d \" : \" 5 2 f e 4 8 0 1 9 2 5 1 4 1 6 c 7 5 0 a c b 6 b \" , \" g e n d e r \" : 0 , \" i d \" : 1 0 3 2 5 9 , \" n a m e \" : \" n i k i e z a m b o \" , \" o r d e r \" : 8 1 } , { \" c a s t _ i d \" : 1 0 2 , \" c h a r a c t e r \" : \" a m b i e n t r o o m t e c h / t r o u p e \" , \" c r e d i t _ i d \" : \" 5 2 f e 4 8 0 1 9 2 5 1 4 1 6 c 7 5 0 a c b 6 f \" , \" g e n d e r \" : 1 , \" i d \" : 4 2 2 8 6 , \" n a m e \" : \" j u l e n e r e n e e \" , \" o r d e r \" : 8 2 } ] [ { \" c r e d i t _ i d \" : \" 5 2 f e 4 8 0 0 9 2 5 1 4 1 6 c 7 5 0 a c a 2 3 \" , \" d e p a r t m e n t \" : \" e d i t i n g \" , \" g e n d e r \" : 0 , \" i d \" : 1 7 2 1 , \" j o b \" : \" e d i t o r \" , \" n a m e \" : \" s t e p h e n e . r i v k i n \" } , { \" c r e d i t _ i d \" : \" 5 3 9 c 4 7 e c c 3 a 3 6 8 1 0 e 3 0 0 1 f 8 7 \" , \" d e p a r t m e n t \" : \" a r t \" , \" g e n d e r \" : 2 , \" i d \" : 4 9 6 , \" j o b \" : \" p r o d u c t i o n d e s i g n \" , \" n a m e \" : \" r i c k c a r t e r \" } , { \" c r e d i t _ i d \" : \" 5 4 4 9 1 c 8 9 c 3 a 3 6 8 0 f b 4 0 0 1 c f 7 \" , \" d e p a r t m e n t \" : \" s o u n d \" , \" g e n d e r \" : 0 , \" i d \" : 9 0 0 , \" j o b \" : \" s o u n d d e s i g n e r \" , \" n a m e \" : \" c h r i s t o p h e r b o y e s \" } , { \" c r e d i t _ i d \" : \" 5 4 4 9 1 c b 7 0 e 0 a 2 6 7 4 8 0 0 0 1 b d 0 \" , \" d e p a r t m e n t \" : \" s o u n d \" , \" g e n d e r \" : 0 , \" i d \" : 9 0 0 , \" j o b \" : \" s u p e r v i s i n g s o u n d e d i t o r \" , \" n a m e \" : \" c h r i s t o p h e r b o y e s \" } , { \" c r e d i t _ i d \" : \" 5 3 9 c 4 a 4 c c 3 a 3 6 8 1 0 c 9 0 0 2 1 0 1 \" , \" d e p a r t m e n t \" : \" p r o d u c t i o n \" , \" g e n d e r \" : 1 , \" i d \" : 1 2 6 2 , \" j o b \" : \" c a s t i n g \" , \" n a m e \" : \" m a l i f i n n \" } , { \" c r e d i t _ i d \" : \" 5 5 4 4 e e 3 b 9 2 5 1 4 1 4 9 9 f 0 0 0 8 f c \" , \" d e p a r t m e n t \" : \" s o u n d \" , \" g e n d e r \" : 2 , \" i d \" : 1 7 2 9 , \" j o b \" : \" o r i g i n a l m u s i c c o m p o s e r \" , \" n a m e \" : \" j a m e s h o r n e r \" } , { \" c r e d i t _ i d \" : \" 5 2 f e 4 8 0 0 9 2 5 1 4 1 6 c 7 5 0 a c 9 c 3 \" , \" d e p a r t m e n t \" : \" d i r e c t i n g \" , \" g e n d e r \" : 2 , \" i d \" : 2 7 1 0 , \" j o b \" : \" d i r e c t o r \" , \" n a m e \" : \" j a m e s c a m e r o n \" } , { \" c r e d i t _ i d \" : \" 5 2 f e 4 8 0 0 9 2 5 1 4 1 6 c 7 5 0 a c 9 d 9 \" , \" d e p a r t m e n t \" : \" w r i t i n g \" , \" g e n d e r \" : 2 , \" i d \" : 2 7 1 0 , \" j o b \" : \" w r i t e r \" , \" n a m e \" : \" j a m e s c a m e r o n \" } , { \" c r e d i t _ i d \" : \" 5 2 f e 4 8 0 0 9 2 5 1 4 1 6 c 7 5 0 a c a 1 7 \" , \" d e p a r t m e n t \" : \" e d i t i n g \" , \" g e n d e r \" : 2 , \" i d \" : 2 7 1 0 , \" j o b \" : \" e d i t o r \" , \" n a m e \" : \" j a m e s c a m e r o n \" } , { \" c r e d i t _ i d \" : \" 5 2 f e 4 8 0 0 9 2 5 1 4 1 6 c 7 5 0 a c a 2 9 \" , \" d e p a r t m e n t \" : \" p r o d u c t i o n \" , \" g e n d e r \" : 2 , \" i d \" : 2 7 1 0 , \" j o b \" : \" p r o d u c e r \" , \" n a m e \" : \" j a m e s c a m e r o n \" } , { \" c r e d i t _ i d \" : \" 5 2 f e 4 8 0 0 9 2 5 1 4 1 6 c 7 5 0 a c a 3 f \" , \" d e p a r t m e n t \" : \" w r i t i n g \" , \" g e n d e r \" : 2 , \" i d \" : 2 7 1 0 , \" j o b \" : \" s c r e e n p l a y \" , \" n a m e \" : \" j a m e s c a m e r o n \" } , { \" c r e d i t _ i d \" : \" 5 3 9 c 4 9 8 7 c 3 a 3 6 8 1 0 b a 0 0 2 1 a 4 \" , \" d e p a r t m e n t \" : \" a r t \" , \" g e n d e r \" : 2 , \" i d \" : 7 2 3 6 , \" j o b \" : \" a r t d i r e c t i o n \" , \" n a m e \" : \" a n d r e w m e n z i e s \" } , { \" c r e d i t _ i d \" : \" 5 4 9 5 9 8 c 3 c 3 a 3 6 8 6 a e 9 0 0 4 3 8 3 \" , \" d e p a r t m e n t \" : \" v i s u a l e f f e c t s \" , \" g e n d e r \" : 0 , \" i d \" : 6 6 9 0 , \" j o b \" : \" v i s u a l e f f e c t s p r o d u c e r \" , \" n a m e \" : \" j i l l b r o o k s \" } , { \" c r e d i t _ i d \" : \" 5 2 f e 4 8 0 0 9 2 5 1 4 1 6 c 7 5 0 a c a 4 b \" , \" d e p a r t m e n t \" : \" p r o d u c t i o n \" , \" g e n d e r \" : 1 , \" i d \" : 6 3 4 7 , \" j o b \" : \" c a s t i n g \" , \" n a m e \" : \" m a r g e r y s i m k i n \" } , { \" c r e d i t _ i d \" : \" 5 7 0 b 6 f 4 1 9 2 5 1 4 1 7 d a 7 0 0 3 2 f e \" , \" d e p a r t m e n t \" : \" a r t \" , \" g e n d e r \" : 2 , \" i d \" : 6 8 7 8 , \" j o b \" : \" s u p e r v i s i n g a r t d i r e c t o r \" , \" n a m e \" : \" k e v i n i s h i o k a \" } , { \" c r e d i t _ i d \" : \" 5 4 9 5 a 0 f a c 3 a 3 6 8 6 a e 9 0 0 4 4 6 8 \" , \" d e p a r t m e n t \" : \" s o u n d \" , \" g e n d e r \" : 0 , \" i d \" : 6 8 8 3 , \" j o b \" : \" m u s i c e d i t o r \" , \" n a m e \" : \" d i c k b e r n s t e i n \" } , { \" c r e d i t _ i d \" : \" 5 4 9 5 9 7 0 6 c 3 a 3 6 8 6 a f 3 0 0 3 e 8 1 \" , \" d e p a r t m e n t \" : \" s o u n d \" , \" g e n d e r \" : 0 , \" i d \" : 8 1 5 9 , \" j o b \" : \" s o u n d e f f e c t s e d i t o r \" , \" n a m e \" : \" s h a n n o n m i l l s \" } , { \" c r e d i t _ i d \" : \" 5 4 4 9 1 d 5 8 c 3 a 3 6 8 0 f b 1 0 0 1 c c b \" , \" d e p a r t m e n t \" : \" s o u n d \" , \" g e n d e r \" : 0 , \" i d \" : 8 1 6 0 , \" j o b \" : \" f o l e y \" , \" n a m e \" : \" d e n n i e t h o r p e \" } , { \" c r e d i t _ i d \" : \" 5 4 4 9 1 d 6 c c 3 a 3 6 8 0 f a 5 0 0 1 b 2 c \" , \" d e p a r t m e n t \" : \" s o u n d \" , \" g e n d e r \" : 0 , \" i d \" : 8 1 6 3 , \" j o b \" : \" f o l e y \" , \" n a m e \" : \" j a n a v a n c e \" } , { \" c r e d i t _ i d \" : \" 5 2 f e 4 8 0 0 9 2 5 1 4 1 6 c 7 5 0 a c a 5 7 \" , \" d e p a r t m e n t \" : \" c o s t u m e & m a k e - u p \" , \" g e n d e r \" : 1 , \" i d \" : 8 5 2 7 , \" j o b \" : \" c o s t u m e d e s i g n \" , \" n a m e \" : \" d e b o r a h l y n n s c o t t \" } , { \" c r e d i t _ i d \" : \" 5 2 f e 4 8 0 0 9 2 5 1 4 1 6 c 7 5 0 a c a 2 f \" , \" d e p a r t m e n t \" : \" p r o d u c t i o n \" , \" g e n d e r \" : 2 , \" i d \" : 8 5 2 9 , \" j o b \" : \" p r o d u c e r \" , \" n a m e \" : \" j o n l a n d a u \" } , { \" c r e d i t _ i d \" : \" 5 3 9 c 4 9 3 7 c 3 a 3 6 8 1 0 b a 0 0 2 1 9 4 \" , \" d e p a r t m e n t \" : \" a r t \" , \" g e n d e r \" : 0 , \" i d \" : 9 6 1 8 , \" j o b \" : \" a r t d i r e c t i o n \" , \" n a m e \" : \" s e a n h a w o r t h \" } , { \" c r e d i t _ i d \" : \" 5 3 9 c 4 9 b 6 c 3 a 3 6 8 1 0 c 1 0 0 2 0 e 6 \" , \" d e p a r t m e n t \" : \" a r t \" , \" g e n d e r \" : 1 , \" i d \" : 1 2 6 5 3 , \" j o b \" : \" s e t d e c o r a t i o n \" , \" n a m e \" : \" k i m s i n c l a i r \" } , { \" c r e d i t _ i d \" : \" 5 7 0 b 6 f 2 f 9 2 5 1 4 1 3 a 0 e 0 0 0 2 0 d \" , \" d e p a r t m e n t \" : \" a r t \" , \" g e n d e r \" : 1 , \" i d \" : 1 2 6 5 3 , \" j o b \" : \" s u p e r v i s i n g a r t d i r e c t o r \" , \" n a m e \" : \" k i m s i n c l a i r \" } , { \" c r e d i t _ i d \" : \" 5 4 4 9 1 a 6 c 0 e 0 a 2 6 7 4 8 c 0 0 1 b 1 9 \" , \" d e p a r t m e n t \" : \" a r t \" , \" g e n d e r \" : 2 , \" i d \" : 1 4 3 5 0 , \" j o b \" : \" s e t d e s i g n e r \" , \" n a m e \" : \" r i c h a r d f . m a y s \" } , { \" c r e d i t _ i d \" : \" 5 6 9 2 8 c f 4 c 3 a 3 6 8 4 c f f 0 0 2 5 c 4 \" , \" d e p a r t m e n t \" : \" p r o d u c t i o n \" , \" g e n d e r \" : 1 , \" i d \" : 2 0 2 9 4 , \" j o b \" : \" e x e c u t i v e p r o d u c e r \" , \" n a m e \" : \" l a e t a k a l o g r i d i s \" } , { \" c r e d i t _ i d \" : \" 5 2 f e 4 8 0 0 9 2 5 1 4 1 6 c 7 5 0 a c a 5 1 \" , \" d e p a r t m e n t \" : \" c o s t u m e & m a k e - u p \" , \" g e n d e r \" : 0 , \" i d \" : 1 7 6 7 5 , \" j o b \" : \" c o s t u m e d e s i g n \" , \" n a m e \" : \" m a y e s c . r u b e o \" } , { \" c r e d i t _ i d \" : \" 5 2 f e 4 8 0 0 9 2 5 1 4 1 6 c 7 5 0 a c a 1 1 \" , \" d e p a r t m e n t \" : \" c a m e r a \" , \" g e n d e r \" : 2 , \" i d \" : 1 8 2 6 5 , \" j o b \" : \" d i r e c t o r o f p h o t o g r a p h y \" , \" n a m e \" : \" m a u r o f i o r e \" } , { \" c r e d i t _ i d \" : \" 5 4 4 9 1 9 4 d 0 e 0 a 2 6 7 4 8 f 0 0 1 b 3 9 \" , \" d e p a r t m e n t \" : \" a r t \" , \" g e n d e r \" : 0 , \" i d \" : 4 2 2 8 1 , \" j o b \" : \" s e t d e s i g n e r \" , \" n a m e \" : \" s c o t t h e r b e r t s o n \" } , { \" c r e d i t _ i d \" : \" 5 2 f e 4 8 0 0 9 2 5 1 4 1 6 c 7 5 0 a c a 0 5 \" , \" d e p a r t m e n t \" : \" c r e w \" , \" g e n d e r \" : 0 , \" i d \" : 4 2 2 8 8 , \" j o b \" : \" s t u n t s \" , \" n a m e \" : \" w o o d y s c h u l t z \" } , { \" c r e d i t _ i d \" : \" 5 5 9 2 a e f b 9 2 5 1 4 1 5 2 d e 0 0 1 0 f 5 \" , \" d e p a r t m e n t \" : \" c o s t u m e & m a k e - u p \" , \" g e n d e r \" : 0 , \" i d \" : 2 9 0 6 7 , \" j o b \" : \" m a k e u p a r t i s t \" , \" n a m e \" : \" l i n d a d e v e t t a \" } , { \" c r e d i t _ i d \" : \" 5 5 9 2 a f a 4 9 2 5 1 4 1 5 2 d e 0 0 1 1 2 c \" , \" d e p a r t m e n t \" : \" c o s t u m e & m a k e - u p \" , \" g e n d e r \" : 0 , \" i d \" : 2 9 0 6 7 , \" j o b \" : \" h a i r s t y l i s t \" , \" n a m e \" : \" l i n d a d e v e t t a \" } , { \" c r e d i t _ i d \" : \" 5 4 9 5 9 e d 5 9 2 5 1 4 1 3 0 f c 0 0 2 e 5 d \" , \" d e p a r t m e n t \" : \" c a m e r a \" , \" g e n d e r \" : 2 , \" i d \" : 3 3 3 0 2 , \" j o b \" : \" c a m e r a o p e r a t o r \" , \" n a m e \" : \" r i c h a r d b l u c k \" } , { \" c r e d i t _ i d \" : \" 5 3 9 c 4 8 9 1 c 3 a 3 6 8 1 0 b a 0 0 2 1 4 7 \" , \" d e p a r t m e n t \" : \" a r t \" , \" g e n d e r \" : 2 , \" i d \" : 3 3 3 0 3 , \" j o b \" : \" a r t d i r e c t i o n \" , \" n a m e \" : \" s i m o n b r i g h t \" } , { \" c r e d i t _ i d \" : \" 5 4 9 5 9 c 0 6 9 2 5 1 4 1 7 a 8 1 0 0 1 f 3 a \" , \" d e p a r t m e n t \" : \" v i s u a l e f f e c t s \" , \" g e n d e r \" : 0 , \" i d \" : 1 1 3 1 4 5 , \" j o b \" : \" v i s u a l e f f e c t s s u p e r v i s o r \" , \" n a m e \" : \" r i c h a r d m a r t i n \" } , { \" c r e d i t _ i d \" : \" 5 4 9 5 9 a 0 d c 3 a 3 6 8 0 f f 5 0 0 2 c 8 d \" , \" d e p a r t m e n t \" : \" c r e w \" , \" g e n d e r \" : 2 , \" i d \" : 5 8 1 8 8 , \" j o b \" : \" v i s u a l e f f e c t s e d i t o r \" , \" n a m e \" : \" s t e v e r . m o o r e \" } , { \" c r e d i t _ i d \" : \" 5 2 f e 4 8 0 0 9 2 5 1 4 1 6 c 7 5 0 a c a 1 d \" , \" d e p a r t m e n t \" : \" e d i t i n g \" , \" g e n d e r \" : 2 , \" i d \" : 5 8 8 7 1 , \" j o b \" : \" e d i t o r \" , \" n a m e \" : \" j o h n r e f o u a \" } , { \" c r e d i t _ i d \" : \" 5 4 4 9 1 a 4 d c 3 a 3 6 8 0 f c 3 0 0 1 8 c a \" , \" d e p a r t m e n t \" : \" a r t \" , \" g e n d e r \" : 0 , \" i d \" : 9 2 3 5 9 , \" j o b \" : \" s e t d e s i g n e r \" , \" n a m e \" : \" k a r l j . m a r t i n \" } , { \" c r e d i t _ i d \" : \" 5 2 f e 4 8 0 0 9 2 5 1 4 1 6 c 7 5 0 a c a 3 5 \" , \" d e p a r t m e n t \" : \" c a m e r a \" , \" g e n d e r \" : 1 , \" i d \" : 7 2 2 0 1 , \" j o b \" : \" d i r e c t o r o f p h o t o g r a p h y \" , \" n a m e \" : \" c h i l i n g l i n \" } , { \" c r e d i t _ i d \" : \" 5 2 f e 4 8 0 0 9 2 5 1 4 1 6 c 7 5 0 a c 9 f f \" , \" d e p a r t m e n t \" : \" c r e w \" , \" g e n d e r \" : 0 , \" i d \" : 8 9 7 1 4 , \" j o b \" : \" s t u n t s \" , \" n a m e \" : \" i l r a m c h o i \" } , { \" c r e d i t _ i d \" : \" 5 4 9 5 9 c 5 2 9 2 5 1 4 1 6 e 2 b 0 0 4 3 9 4 \" , \" d e p a r t m e n t \" : \" v i s u a l e f f e c t s \" , \" g e n d e r \" : 2 , \" i d \" : 9 3 2 1 4 , \" j o b \" : \" v i s u a l e f f e c t s s u p e r v i s o r \" , \" n a m e \" : \" s t e v e n q u a l e \" } , { \" c r e d i t _ i d \" : \" 5 4 4 9 1 e d f 0 e 0 a 2 6 7 4 8 9 0 0 1 c 3 7 \" , \" d e p a r t m e n t \" : \" c r e w \" , \" g e n d e r \" : 1 , \" i d \" : 1 2 2 6 0 7 , \" j o b \" : \" d i a l e c t c o a c h \" , \" n a m e \" : \" c a r l a m e y e r \" } , { \" c r e d i t _ i d \" : \" 5 3 9 c 4 8 5 b c 3 a 3 6 8 6 5 3 d 0 0 1 a 3 a \" , \" d e p a r t m e n t \" : \" a r t \" , \" g e n d e r \" : 2 , \" i d \" : 1 3 2 5 8 5 , \" j o b \" : \" a r t d i r e c t i o n \" , \" n a m e \" : \" n i c k b a s s e t t \" } , { \" c r e d i t _ i d \" : \" 5 3 9 c 4 9 0 3 c 3 a 3 6 8 6 5 3 d 0 0 1 a 7 4 \" , \" d e p a r t m e n t \" : \" a r t \" , \" g e n d e r \" : 0 , \" i d \" : 1 3 2 5 9 6 , \" j o b \" : \" a r t d i r e c t i o n \" , \" n a m e \" : \" j i l l c o r m a c k \" } , { \" c r e d i t _ i d \" : \" 5 3 9 c 4 9 6 7 c 3 a 3 6 8 6 5 3 d 0 0 1 a 9 4 \" , \" d e p a r t m e n t \" : \" a r t \" , \" g e n d e r \" : 0 , \" i d \" : 1 3 2 6 0 4 , \" j o b \" : \" a r t d i r e c t i o n \" , \" n a m e \" : \" a n d y m c l a r e n \" } , { \" c r e d i t _ i d \" : \" 5 2 f e 4 8 0 0 9 2 5 1 4 1 6 c 7 5 0 a c a 4 5 \" , \" d e p a r t m e n t \" : \" c r e w \" , \" g e n d e r \" : 0 , \" i d \" : 2 3 6 6 9 6 , \" j o b \" : \" m o t i o n c a p t u r e a r t i s t \" , \" n a m e \" : \" t e r r y n o t a r y \" } , { \" c r e d i t _ i d \" : \" 5 4 9 5 9 e 0 2 c 3 a 3 6 8 0 f c 6 0 0 2 7 d 2 \" , \" d e p a r t m e n t \" : \" c r e w \" , \" g e n d e r \" : 2 , \" i d \" : 9 5 6 1 9 8 , \" j o b \" : \" s t u n t c o o r d i n a t o r \" , \" n a m e \" : \" g a r r e t t w a r r e n \" } , { \" c r e d i t _ i d \" : \" 5 4 9 5 9 c a 3 c 3 a 3 6 8 6 a e 3 0 0 4 3 8 c \" , \" d e p a r t m e n t \" : \" v i s u a l e f f e c t s \" , \" g e n d e r \" : 2 , \" i d \" : 9 5 7 8 7 4 , \" j o b \" : \" v i s u a l e f f e c t s s u p e r v i s o r \" , \" n a m e \" : \" j o n a t h a n r o t h b a r t \" } , { \" c r e d i t _ i d \" : \" 5 7 0 b 6 f 5 1 9 2 5 1 4 1 2 c 7 4 0 0 1 b 2 f \" , \" d e p a r t m e n t \" : \" a r t \" , \" g e n d e r \" : 0 , \" i d \" : 9 5 7 8 8 9 , \" j o b \" : \" s u p e r v i s i n g a r t d i r e c t o r \" , \" n a m e \" : \" s t e f a n d e c h a n t \" } , { \" c r e d i t _ i d \" : \" 5 7 0 b 6 f 6 2 c 3 a 3 6 8 0 b 7 7 0 0 7 4 6 0 \" , \" d e p a r t m e n t \" : \" a r t \" , \" g e n d e r \" : 2 , \" i d \" : 9 5 9 5 5 5 , \" j o b \" : \" s u p e r v i s i n g a r t d i r e c t o r \" , \" n a m e \" : \" t o d d c h e r n i a w s k y \" } , { \" c r e d i t _ i d \" : \" 5 3 9 c 4 a 3 a c 3 a 3 6 8 1 0 d a 0 0 2 1 c c \" , \" d e p a r t m e n t \" : \" p r o d u c t i o n \" , \" g e n d e r \" : 0 , \" i d \" : 1 0 1 6 1 7 7 , \" j o b \" : \" c a s t i n g \" , \" n a m e \" : \" m i r a n d a r i v e r s \" } , { \" c r e d i t _ i d \" : \" 5 3 9 c 4 8 2 c c 3 a 3 6 8 1 0 c 1 0 0 2 0 6 2 \" , \" d e p a r t m e n t \" : \" a r t \" , \" g e n d e r \" : 0 , \" i d \" : 1 0 3 2 5 3 6 , \" j o b \" : \" p r o d u c t i o n d e s i g n \" , \" n a m e \" : \" r o b e r t s t r o m b e r g \" } , { \" c r e d i t _ i d \" : \" 5 3 9 c 4 b 6 5 c 3 a 3 6 8 1 0 c 9 0 0 2 1 2 5 \" , \" d e p a r t m e n t \" : \" c o s t u m e & m a k e - u p \" , \" g e n d e r \" : 2 , \" i d \" : 1 0 7 1 6 8 0 , \" j o b \" : \" c o s t u m e d e s i g n \" , \" n a m e \" : \" j o h n h a r d i n g \" } , { \" c r e d i t _ i d \" : \" 5 4 9 5 9 e 6 6 9 2 5 1 4 1 3 0 f c 0 0 2 e 4 e \" , \" d e p a r t m e n t \" : \" c a m e r a \" , \" g e n d e r \" : 0 , \" i d \" : 1 1 7 7 3 6 4 , \" j o b \" : \" s t e a d i c a m o p e r a t o r \" , \" n a m e \" : \" r o b e r t o d e a n g e l i s \" } , { \" c r e d i t _ i d \" : \" 5 3 9 c 4 9 f 1 c 3 a 3 6 8 6 5 3 d 0 0 1 a a c \" , \" d e p a r t m e n t \" : \" c o s t u m e & m a k e - u p \" , \" g e n d e r \" : 2 , \" i d \" : 1 2 0 2 8 5 0 , \" j o b \" : \" m a k e u p d e p a r t m e n t h e a d \" , \" n a m e \" : \" m i k e s m i t h s o n \" } , { \" c r e d i t _ i d \" : \" 5 4 9 5 9 9 9 e c 3 a 3 6 8 6 a e 1 0 0 4 6 0 c \" , \" d e p a r t m e n t \" : \" v i s u a l e f f e c t s \" , \" g e n d e r \" : 0 , \" i d \" : 1 2 0 4 6 6 8 , \" j o b \" : \" v i s u a l e f f e c t s p r o d u c e r \" , \" n a m e \" : \" a l a i n l a l a n n e \" } , { \" c r e d i t _ i d \" : \" 5 4 9 5 9 c d f c 3 a 3 6 8 1 1 5 3 0 0 2 7 2 9 \" , \" d e p a r t m e n t \" : \" v i s u a l e f f e c t s \" , \" g e n d e r \" : 0 , \" i d \" : 1 2 0 6 4 1 0 , \" j o b \" : \" v i s u a l e f f e c t s s u p e r v i s o r \" , \" n a m e \" : \" l u c a s s a l t o n \" } , { \" c r e d i t _ i d \" : \" 5 4 9 5 9 6 2 3 9 2 5 1 4 1 7 a 8 1 0 0 1 e a e \" , \" d e p a r t m e n t \" : \" c r e w \" , \" g e n d e r \" : 0 , \" i d \" : 1 2 3 4 2 6 6 , \" j o b \" : \" p o s t p r o d u c t i o n s u p e r v i s o r \" , \" n a m e \" : \" j a n a c e t a s h j i a n \" } , { \" c r e d i t _ i d \" : \" 5 4 9 5 9 c 8 5 9 2 5 1 4 1 6 e 1 e 0 0 3 e f e \" , \" d e p a r t m e n t \" : \" v i s u a l e f f e c t s \" , \" g e n d e r \" : 0 , \" i d \" : 1 2 7 1 9 3 2 , \" j o b \" : \" v i s u a l e f f e c t s s u p e r v i s o r \" , \" n a m e \" : \" s t e p h e n r o s e n b a u m \" } , { \" c r e d i t _ i d \" : \" 5 5 9 2 a f 2 8 c 3 a 3 6 8 7 7 5 a 0 0 1 0 5 f \" , \" d e p a r t m e n t \" : \" c o s t u m e & m a k e - u p \" , \" g e n d e r \" : 0 , \" i d \" : 1 3 1 0 0 6 4 , \" j o b \" : \" m a k e u p a r t i s t \" , \" n a m e \" : \" f r a n k i e k a r e n a \" } , { \" c r e d i t _ i d \" : \" 5 3 9 c 4 a d f c 3 a 3 6 8 1 0 e 3 0 0 2 0 3 b \" , \" d e p a r t m e n t \" : \" c o s t u m e & m a k e - u p \" , \" g e n d e r \" : 1 , \" i d \" : 1 3 1 9 8 4 4 , \" j o b \" : \" c o s t u m e s u p e r v i s o r \" , \" n a m e \" : \" l i s a l o v a a s \" } , { \" c r e d i t _ i d \" : \" 5 4 9 5 9 b 5 7 9 2 5 1 4 1 6 e 2 b 0 0 4 3 7 1 \" , \" d e p a r t m e n t \" : \" v i s u a l e f f e c t s \" , \" g e n d e r \" : 0 , \" i d \" : 1 3 2 7 0 2 8 , \" j o b \" : \" v i s u a l e f f e c t s s u p e r v i s o r \" , \" n a m e \" : \" j o n a t h a n f a w k n e r \" } , { \" c r e d i t _ i d \" : \" 5 3 9 c 4 8 a 7 c 3 a 3 6 8 1 0 b 5 0 0 1 f a 7 \" , \" d e p a r t m e n t \" : \" a r t \" , \" g e n d e r \" : 0 , \" i d \" : 1 3 3 0 5 6 1 , \" j o b \" : \" a r t d i r e c t i o n \" , \" n a m e \" : \" r o b e r t b a v i n \" } , { \" c r e d i t _ i d \" : \" 5 3 9 c 4 a 7 1 c 3 a 3 6 8 1 0 d a 0 0 2 1 e 0 \" , \" d e p a r t m e n t \" : \" c o s t u m e & m a k e - u p \" , \" g e n d e r \" : 0 , \" i d \" : 1 3 3 0 5 6 7 , \" j o b \" : \" c o s t u m e s u p e r v i s o r \" , \" n a m e \" : \" a n t h o n y a l m a r a z \" } , { \" c r e d i t _ i d \" : \" 5 3 9 c 4 a 8 a c 3 a 3 6 8 1 0 b a 0 0 2 1 e 4 \" , \" d e p a r t m e n t \" : \" c o s t u m e & m a k e - u p \" , \" g e n d e r \" : 0 , \" i d \" : 1 3 3 0 5 7 0 , \" j o b \" : \" c o s t u m e s u p e r v i s o r \" , \" n a m e \" : \" c a r o l y n m . f e n t o n \" } , { \" c r e d i t _ i d \" : \" 5 3 9 c 4 a b 6 c 3 a 3 6 8 1 0 d a 0 0 2 1 f 0 \" , \" d e p a r t m e n t \" : \" c o s t u m e & m a k e - u p \" , \" g e n d e r \" : 0 , \" i d \" : 1 3 3 0 5 7 4 , \" j o b \" : \" c o s t u m e s u p e r v i s o r \" , \" n a m e \" : \" b e t h k o e n i g s b e r g \" } , { \" c r e d i t _ i d \" : \" 5 4 4 9 1 a b 7 0 e 0 a 2 6 7 4 8 0 0 0 1 b a 2 \" , \" d e p a r t m e n t \" : \" a r t \" , \" g e n d e r \" : 0 , \" i d \" : 1 3 3 6 1 9 1 , \" j o b \" : \" s e t d e s i g n e r \" , \" n a m e \" : \" s a m p a g e \" } , { \" c r e d i t _ i d \" : \" 5 4 4 9 1 9 d 9 c 3 a 3 6 8 0 f c 3 0 0 1 8 b d \" , \" d e p a r t m e n t \" : \" a r t \" , \" g e n d e r \" : 0 , \" i d \" : 1 3 3 9 4 4 1 , \" j o b \" : \" s e t d e s i g n e r \" , \" n a m e \" : \" t e x k a d o n a g a \" } , { \" c r e d i t _ i d \" : \" 5 4 4 9 1 c f 5 0 e 0 a 2 6 7 4 8 3 0 0 1 b 0 c \" , \" d e p a r t m e n t \" : \" e d i t i n g \" , \" g e n d e r \" : 0 , \" i d \" : 1 3 5 2 4 2 2 , \" j o b \" : \" d i a l o g u e e d i t o r \" , \" n a m e \" : \" k i m f o s c a t o \" } , { \" c r e d i t _ i d \" : \" 5 4 4 9 1 9 f 4 0 e 0 a 2 6 7 4 8 c 0 0 1 b 0 9 \" , \" d e p a r t m e n t \" : \" a r t \" , \" g e n d e r \" : 0 , \" i d \" : 1 3 5 2 9 6 2 , \" j o b \" : \" s e t d e s i g n e r \" , \" n a m e \" : \" t a m m y s . l e e \" } , { \" c r e d i t _ i d \" : \" 5 4 9 5 a 1 1 5 c 3 a 3 6 8 0 f f 5 0 0 2 d 7 1 \" , \" d e p a r t m e n t \" : \" c r e w \" , \" g e n d e r \" : 0 , \" i d \" : 1 3 5 7 0 7 0 , \" j o b \" : \" t r a n s p o r t a t i o n c o o r d i n a t o r \" , \" n a m e \" : \" d e n n y c a i r a \" } , { \" c r e d i t _ i d \" : \" 5 4 9 5 a 1 2 f 9 2 5 1 4 1 3 0 f c 0 0 2 e 9 4 \" , \" d e p a r t m e n t \" : \" c r e w \" , \" g e n d e r \" : 0 , \" i d \" : 1 3 5 7 0 7 1 , \" j o b \" : \" t r a n s p o r t a t i o n c o o r d i n a t o r \" , \" n a m e \" : \" j a m e s w a i t k u s \" } , { \" c r e d i t _ i d \" : \" 5 4 9 5 9 7 6 f c 3 a 3 6 8 1 1 5 3 0 0 2 6 b 0 \" , \" d e p a r t m e n t \" : \" s o u n d \" , \" g e n d e r \" : 0 , \" i d \" : 1 3 6 0 1 0 3 , \" j o b \" : \" s u p e r v i s i n g s o u n d e d i t o r \" , \" n a m e \" : \" a d d i s o n t e a g u e \" } , { \" c r e d i t _ i d \" : \" 5 4 4 9 1 8 3 7 c 3 a 3 6 8 0 f b 1 0 0 1 c 5 a \" , \" d e p a r t m e n t \" : \" a r t \" , \" g e n d e r \" : 2 , \" i d \" : 1 3 7 6 8 8 7 , \" j o b \" : \" s e t d e s i g n e r \" , \" n a m e \" : \" c . s c o t t b a k e r \" } , { \" c r e d i t _ i d \" : \" 5 4 4 9 1 8 7 8 c 3 a 3 6 8 0 f b 4 0 0 1 c 9 d \" , \" d e p a r t m e n t \" : \" a r t \" , \" g e n d e r \" : 0 , \" i d \" : 1 3 7 6 8 8 8 , \" j o b \" : \" s e t d e s i g n e r \" , \" n a m e \" : \" l u k e c a s k a \" } , { \" c r e d i t _ i d \" : \" 5 4 4 9 1 8 d a c 3 a 3 6 8 0 f a 5 0 0 1 a e 0 \" , \" d e p a r t m e n t \" : \" a r t \" , \" g e n d e r \" : 0 , \" i d \" : 1 3 7 6 8 8 9 , \" j o b \" : \" s e t d e s i g n e r \" , \" n a m e \" : \" d a v i d c h o w \" } , { \" c r e d i t _ i d \" : \" 5 4 4 9 1 9 1 1 0 e 0 a 2 6 7 4 8 6 0 0 1 b 6 8 \" , \" d e p a r t m e n t \" : \" a r t \" , \" g e n d e r \" : 0 , \" i d \" : 1 3 7 6 8 9 0 , \" j o b \" : \" s e t d e s i g n e r \" , \" n a m e \" : \" j o n a t h a n d y e r \" } , { \" c r e d i t _ i d \" : \" 5 4 4 9 1 9 6 7 c 3 a 3 6 8 0 f a a 0 0 1 b 5 e \" , \" d e p a r t m e n t \" : \" a r t \" , \" g e n d e r \" : 0 , \" i d \" : 1 3 7 6 8 9 1 , \" j o b \" : \" s e t d e s i g n e r \" , \" n a m e \" : \" j o s e p h h i u r a \" } , { \" c r e d i t _ i d \" : \" 5 4 4 9 1 9 9 7 c 3 a 3 6 8 0 f b 1 0 0 1 c 8 a \" , \" d e p a r t m e n t \" : \" a r t \" , \" g e n d e r \" : 0 , \" i d \" : 1 3 7 6 8 9 2 , \" j o b \" : \" a r t d e p a r t m e n t c o o r d i n a t o r \" , \" n a m e \" : \" r e b e c c a j e l l i e \" } , { \" c r e d i t _ i d \" : \" 5 4 4 9 1 9 b a 0 e 0 a 2 6 7 4 8 f 0 0 1 b 4 2 \" , \" d e p a r t m e n t \" : \" a r t \" , \" g e n d e r \" : 0 , \" i d \" : 1 3 7 6 8 9 3 , \" j o b \" : \" s e t d e s i g n e r \" , \" n a m e \" : \" r o b e r t a n d r e w j o h n s o n \" } , { \" c r e d i t _ i d \" : \" 5 4 4 9 1 b 1 d c 3 a 3 6 8 0 f a a 0 0 1 b 8 c \" , \" d e p a r t m e n t \" : \" a r t \" , \" g e n d e r \" : 0 , \" i d \" : 1 3 7 6 8 9 5 , \" j o b \" : \" a s s i s t a n t a r t d i r e c t o r \" , \" n a m e \" : \" m i k e s t a s s i \" } , { \" c r e d i t _ i d \" : \" 5 4 4 9 1 b 7 9 c 3 a 3 6 8 0 f b b 0 0 1 8 2 6 \" , \" d e p a r t m e n t \" : \" a r t \" , \" g e n d e r \" : 0 , \" i d \" : 1 3 7 6 8 9 7 , \" j o b \" : \" c o n s t r u c t i o n c o o r d i n a t o r \" , \" n a m e \" : \" j o h n v i l l a r i n o \" } , { \" c r e d i t _ i d \" : \" 5 4 4 9 1 b a e c 3 a 3 6 8 0 f b 4 0 0 1 c e 6 \" , \" d e p a r t m e n t \" : \" a r t \" , \" g e n d e r \" : 2 , \" i d \" : 1 3 7 6 8 9 8 , \" j o b \" : \" a s s i s t a n t a r t d i r e c t o r \" , \" n a m e \" : \" j e f f r e y w i s n i e w s k i \" } , { \" c r e d i t _ i d \" : \" 5 4 4 9 1 d 2 f c 3 a 3 6 8 0 f b 4 0 0 1 d 0 7 \" , \" d e p a r t m e n t \" : \" e d i t i n g \" , \" g e n d e r \" : 0 , \" i d \" : 1 3 7 6 8 9 9 , \" j o b \" : \" d i a l o g u e e d i t o r \" , \" n a m e \" : \" c h e r y l n a r d i \" } , { \" c r e d i t _ i d \" : \" 5 4 4 9 1 d 8 6 c 3 a 3 6 8 0 f a 5 0 0 1 b 2 f \" , \" d e p a r t m e n t \" : \" e d i t i n g \" , \" g e n d e r \" : 0 , \" i d \" : 1 3 7 6 9 0 1 , \" j o b \" : \" d i a l o g u e e d i t o r \" , \" n a m e \" : \" m a r s h a l l w i n n \" } , { \" c r e d i t _ i d \" : \" 5 4 4 9 1 d 9 d c 3 a 3 6 8 0 f a a 0 0 1 b b 0 \" , \" d e p a r t m e n t \" : \" s o u n d \" , \" g e n d e r \" : 0 , \" i d \" : 1 3 7 6 9 0 2 , \" j o b \" : \" s u p e r v i s i n g s o u n d e d i t o r \" , \" n a m e \" : \" g w e n d o l y n y a t e s w h i t t l e \" } , { \" c r e d i t _ i d \" : \" 5 4 4 9 1 d c 1 0 e 0 a 2 6 7 4 8 6 0 0 1 b c e \" , \" d e p a r t m e n t \" : \" s o u n d \" , \" g e n d e r \" : 0 , \" i d \" : 1 3 7 6 9 0 3 , \" j o b \" : \" s o u n d r e - r e c o r d i n g m i x e r \" , \" n a m e \" : \" w i l l i a m s t e i n \" } , { \" c r e d i t _ i d \" : \" 5 4 4 9 1 f 5 0 0 e 0 a 2 6 7 4 7 c 0 0 1 c 0 7 \" , \" d e p a r t m e n t \" : \" c r e w \" , \" g e n d e r \" : 0 , \" i d \" : 1 3 7 6 9 0 9 , \" j o b \" : \" c h o r e o g r a p h e r \" , \" n a m e \" : \" l u l a w a s h i n g t o n \" } , { \" c r e d i t _ i d \" : \" 5 4 9 5 9 9 2 3 9 2 5 1 4 1 2 c 4 e 0 0 2 a 2 e \" , \" d e p a r t m e n t \" : \" v i s u a l e f f e c t s \" , \" g e n d e r \" : 0 , \" i d \" : 1 3 9 1 6 9 2 , \" j o b \" : \" v i s u a l e f f e c t s p r o d u c e r \" , \" n a m e \" : \" c h r i s d e l c o n t e \" } , { \" c r e d i t _ i d \" : \" 5 4 9 5 9 d 5 4 c 3 a 3 6 8 3 1 b 8 0 0 1 d 9 a \" , \" d e p a r t m e n t \" : \" v i s u a l e f f e c t s \" , \" g e n d e r \" : 2 , \" i d \" : 1 3 9 1 6 9 5 , \" j o b \" : \" v i s u a l e f f e c t s s u p e r v i s o r \" , \" n a m e \" : \" r . c h r i s t o p h e r w h i t e \" } , { \" c r e d i t _ i d \" : \" 5 4 9 5 9 b d f 9 2 5 1 4 1 2 c 4 e 0 0 2 a 6 6 \" , \" d e p a r t m e n t \" : \" v i s u a l e f f e c t s \" , \" g e n d e r \" : 0 , \" i d \" : 1 3 9 4 0 7 0 , \" j o b \" : \" v i s u a l e f f e c t s s u p e r v i s o r \" , \" n a m e \" : \" d a n l e m m o n \" } , { \" c r e d i t _ i d \" : \" 5 4 9 5 9 7 1 d 9 2 5 1 4 1 3 2 e d 0 0 2 9 2 2 \" , \" d e p a r t m e n t \" : \" s o u n d \" , \" g e n d e r \" : 0 , \" i d \" : 1 3 9 4 1 2 9 , \" j o b \" : \" s o u n d e f f e c t s e d i t o r \" , \" n a m e \" : \" t i m n i e l s e n \" } , { \" c r e d i t _ i d \" : \" 5 5 9 2 b 2 5 7 9 2 5 1 4 1 5 2 c c 0 0 1 1 a a \" , \" d e p a r t m e n t \" : \" c r e w \" , \" g e n d e r \" : 0 , \" i d \" : 1 3 9 4 2 8 6 , \" j o b \" : \" c g s u p e r v i s o r \" , \" n a m e \" : \" m i c h a e l m u l h o l l a n d \" } , { \" c r e d i t _ i d \" : \" 5 4 9 5 9 a 3 2 9 2 5 1 4 1 6 e 2 b 0 0 4 3 5 5 \" , \" d e p a r t m e n t \" : \" c r e w \" , \" g e n d e r \" : 0 , \" i d \" : 1 3 9 4 7 5 0 , \" j o b \" : \" v i s u a l e f f e c t s e d i t o r \" , \" n a m e \" : \" t h o m a s n i t t m a n n \" } , { \" c r e d i t _ i d \" : \" 5 4 9 5 9 d 6 d c 3 a 3 6 8 6 a e 9 0 0 4 4 0 1 \" , \" d e p a r t m e n t \" : \" v i s u a l e f f e c t s \" , \" g e n d e r \" : 0 , \" i d \" : 1 3 9 4 7 5 5 , \" j o b \" : \" v i s u a l e f f e c t s s u p e r v i s o r \" , \" n a m e \" : \" e d s o n w i l l i a m s \" } , { \" c r e d i t _ i d \" : \" 5 4 9 5 a 0 8 f c 3 a 3 6 8 6 a e 3 0 0 4 4 1 c \" , \" d e p a r t m e n t \" : \" e d i t i n g \" , \" g e n d e r \" : 0 , \" i d \" : 1 3 9 4 9 5 3 , \" j o b \" : \" d i g i t a l i n t e r m e d i a t e \" , \" n a m e \" : \" c h r i s t i n e c a r r \" } , { \" c r e d i t _ i d \" : \" 5 5 4 0 2 d 6 5 9 2 5 1 4 1 3 d 6 d 0 0 0 2 4 9 \" , \" d e p a r t m e n t \" : \" v i s u a l e f f e c t s \" , \" g e n d e r \" : 0 , \" i d \" : 1 3 9 5 2 6 9 , \" j o b \" : \" v i s u a l e f f e c t s s u p e r v i s o r \" , \" n a m e \" : \" j o h n b r u n o \" } , { \" c r e d i t _ i d \" : \" 5 4 9 5 9 e 7 b 9 2 5 1 4 1 6 e 1 e 0 0 3 f 3 e \" , \" d e p a r t m e n t \" : \" c a m e r a \" , \" g e n d e r \" : 0 , \" i d \" : 1 3 9 8 9 7 0 , \" j o b \" : \" s t e a d i c a m o p e r a t o r \" , \" n a m e \" : \" d a v i d e m m e r i c h s \" } , { \" c r e d i t _ i d \" : \" 5 4 9 5 9 7 3 4 c 3 a 3 6 8 6 a e 1 0 0 4 5 e 0 \" , \" d e p a r t m e n t \" : \" s o u n d \" , \" g e n d e r \" : 0 , \" i d \" : 1 4 0 0 9 0 6 , \" j o b \" : \" s o u n d e f f e c t s e d i t o r \" , \" n a m e \" : \" c h r i s t o p h e r s c a r a b o s i o \" } , { \" c r e d i t _ i d \" : \" 5 4 9 5 9 5 d d 9 2 5 1 4 1 3 0 f c 0 0 2 d 7 9 \" , \" d e p a r t m e n t \" : \" p r o d u c t i o n \" , \" g e n d e r \" : 0 , \" i d \" : 1 4 0 1 7 8 4 , \" j o b \" : \" p r o d u c t i o n s u p e r v i s o r \" , \" n a m e \" : \" j e n n i f e r t e v e s \" } , { \" c r e d i t _ i d \" : \" 5 4 9 5 9 6 0 0 9 2 5 1 4 1 3 a f 7 0 0 2 8 c c \" , \" d e p a r t m e n t \" : \" p r o d u c t i o n \" , \" g e n d e r \" : 0 , \" i d \" : 1 4 0 1 7 8 5 , \" j o b \" : \" p r o d u c t i o n m a n a g e r \" , \" n a m e \" : \" b r i g i t t e y o r k e \" } , { \" c r e d i t _ i d \" : \" 5 4 9 5 9 6 e 8 9 2 5 1 4 1 3 0 f c 0 0 2 d 9 9 \" , \" d e p a r t m e n t \" : \" s o u n d \" , \" g e n d e r \" : 0 , \" i d \" : 1 4 0 1 7 8 6 , \" j o b \" : \" s o u n d e f f e c t s e d i t o r \" , \" n a m e \" : \" k e n f i s c h e r \" } , { \" c r e d i t _ i d \" : \" 5 4 9 5 9 8 2 2 9 2 5 1 4 1 2 c 4 e 0 0 2 a 1 c \" , \" d e p a r t m e n t \" : \" c r e w \" , \" g e n d e r \" : 0 , \" i d \" : 1 4 0 1 7 8 7 , \" j o b \" : \" s p e c i a l e f f e c t s c o o r d i n a t o r \" , \" n a m e \" : \" i a i n h u t t o n \" } , { \" c r e d i t _ i d \" : \" 5 4 9 5 9 8 3 4 9 2 5 1 4 1 6 e 2 b 0 0 4 3 2 b \" , \" d e p a r t m e n t \" : \" c r e w \" , \" g e n d e r \" : 0 , \" i d \" : 1 4 0 1 7 8 8 , \" j o b \" : \" s p e c i a l e f f e c t s c o o r d i n a t o r \" , \" n a m e \" : \" s t e v e i n g r a m \" } , { \" c r e d i t _ i d \" : \" 5 4 9 5 9 9 0 5 c 3 a 3 6 8 6 a e 3 0 0 4 3 2 4 \" , \" d e p a r t m e n t \" : \" v i s u a l e f f e c t s \" , \" g e n d e r \" : 0 , \" i d \" : 1 4 0 1 7 8 9 , \" j o b \" : \" v i s u a l e f f e c t s p r o d u c e r \" , \" n a m e \" : \" j o y c e c o x \" } , { \" c r e d i t _ i d \" : \" 5 4 9 5 9 9 4 b 9 2 5 1 4 1 3 2 e d 0 0 2 9 5 1 \" , \" d e p a r t m e n t \" : \" v i s u a l e f f e c t s \" , \" g e n d e r \" : 0 , \" i d \" : 1 4 0 1 7 9 0 , \" j o b \" : \" v i s u a l e f f e c t s p r o d u c e r \" , \" n a m e \" : \" j e n n y f o s t e r \" } , { \" c r e d i t _ i d \" : \" 5 4 9 5 9 9 c b c 3 a 3 6 8 6 a e 1 0 0 4 6 1 3 \" , \" d e p a r t m e n t \" : \" c r e w \" , \" g e n d e r \" : 0 , \" i d \" : 1 4 0 1 7 9 1 , \" j o b \" : \" v i s u a l e f f e c t s e d i t o r \" , \" n a m e \" : \" c h r i s t o p h e r m a r i n o \" } , { \" c r e d i t _ i d \" : \" 5 4 9 5 9 9 f 2 c 3 a 3 6 8 6 a e 1 0 0 4 6 1 e \" , \" d e p a r t m e n t \" : \" c r e w \" , \" g e n d e r \" : 0 , \" i d \" : 1 4 0 1 7 9 2 , \" j o b \" : \" v i s u a l e f f e c t s e d i t o r \" , \" n a m e \" : \" j i m m i l t o n \" } , { \" c r e d i t _ i d \" : \" 5 4 9 5 9 a 5 1 c 3 a 3 6 8 6 a f 3 0 0 3 e b 5 \" , \" d e p a r t m e n t \" : \" v i s u a l e f f e c t s \" , \" g e n d e r \" : 0 , \" i d \" : 1 4 0 1 7 9 3 , \" j o b \" : \" v i s u a l e f f e c t s p r o d u c e r \" , \" n a m e \" : \" c y n d i o c h s \" } , { \" c r e d i t _ i d \" : \" 5 4 9 5 9 a 7 c c 3 a 3 6 8 1 1 5 3 0 0 2 6 f 4 \" , \" d e p a r t m e n t \" : \" c r e w \" , \" g e n d e r \" : 0 , \" i d \" : 1 4 0 1 7 9 4 , \" j o b \" : \" v i s u a l e f f e c t s e d i t o r \" , \" n a m e \" : \" l u c a s p u t n a m \" } , { \" c r e d i t _ i d \" : \" 5 4 9 5 9 b 9 1 c 3 a 3 6 8 0 f f 5 0 0 2 c b 4 \" , \" d e p a r t m e n t \" : \" v i s u a l e f f e c t s \" , \" g e n d e r \" : 0 , \" i d \" : 1 4 0 1 7 9 5 , \" j o b \" : \" v i s u a l e f f e c t s s u p e r v i s o r \" , \" n a m e \" : \" a n t h o n y \\' m a x \\' i v i n s \" } , { \" c r e d i t _ i d \" : \" 5 4 9 5 9 b b 6 9 2 5 1 4 1 2 c 4 e 0 0 2 a 5 f \" , \" d e p a r t m e n t \" : \" v i s u a l e f f e c t s \" , \" g e n d e r \" : 0 , \" i d \" : 1 4 0 1 7 9 6 , \" j o b \" : \" v i s u a l e f f e c t s s u p e r v i s o r \" , \" n a m e \" : \" j o h n k n o l l \" } , { \" c r e d i t _ i d \" : \" 5 4 9 5 9 c b b c 3 a 3 6 8 6 a e 3 0 0 4 3 9 1 \" , \" d e p a r t m e n t \" : \" v i s u a l e f f e c t s \" , \" g e n d e r \" : 2 , \" i d \" : 1 4 0 1 7 9 9 , \" j o b \" : \" v i s u a l e f f e c t s s u p e r v i s o r \" , \" n a m e \" : \" e r i c s a i n d o n \" } , { \" c r e d i t _ i d \" : \" 5 4 9 5 9 d 0 6 c 3 a 3 6 8 6 a e 9 0 0 4 3 f 6 \" , \" d e p a r t m e n t \" : \" v i s u a l e f f e c t s \" , \" g e n d e r \" : 0 , \" i d \" : 1 4 0 1 8 0 0 , \" j o b \" : \" v i s u a l e f f e c t s s u p e r v i s o r \" , \" n a m e \" : \" w a y n e s t a b l e s \" } , { \" c r e d i t _ i d \" : \" 5 4 9 5 9 d 2 5 9 2 5 1 4 1 6 e 1 e 0 0 3 f 1 1 \" , \" d e p a r t m e n t \" : \" v i s u a l e f f e c t s \" , \" g e n d e r \" : 0 , \" i d \" : 1 4 0 1 8 0 1 , \" j o b \" : \" v i s u a l e f f e c t s s u p e r v i s o r \" , \" n a m e \" : \" d a v i d s t i n n e t t \" } , { \" c r e d i t _ i d \" : \" 5 4 9 5 9 d b 4 9 2 5 1 4 1 3 a f 7 0 0 2 9 7 5 \" , \" d e p a r t m e n t \" : \" v i s u a l e f f e c t s \" , \" g e n d e r \" : 0 , \" i d \" : 1 4 0 1 8 0 3 , \" j o b \" : \" v i s u a l e f f e c t s s u p e r v i s o r \" , \" n a m e \" : \" g u y w i l l i a m s \" } , { \" c r e d i t _ i d \" : \" 5 4 9 5 9 d e 4 c 3 a 3 6 8 1 1 5 3 0 0 2 7 5 0 \" , \" d e p a r t m e n t \" : \" c r e w \" , \" g e n d e r \" : 0 , \" i d \" : 1 4 0 1 8 0 4 , \" j o b \" : \" s t u n t c o o r d i n a t o r \" , \" n a m e \" : \" s t u a r t t h o r p \" } , { \" c r e d i t _ i d \" : \" 5 4 9 5 9 e f 2 c 3 a 3 6 8 0 f c 6 0 0 2 7 f 2 \" , \" d e p a r t m e n t \" : \" l i g h t i n g \" , \" g e n d e r \" : 0 , \" i d \" : 1 4 0 1 8 0 5 , \" j o b \" : \" b e s t b o y e l e c t r i c \" , \" n a m e \" : \" g i l e s c o b u r n \" } , { \" c r e d i t _ i d \" : \" 5 4 9 5 9 f 0 7 c 3 a 3 6 8 0 f c 6 0 0 2 7 f 9 \" , \" d e p a r t m e n t \" : \" c a m e r a \" , \" g e n d e r \" : 2 , \" i d \" : 1 4 0 1 8 0 6 , \" j o b \" : \" s t i l l p h o t o g r a p h e r \" , \" n a m e \" : \" m a r k f e l l m a n \" } , { \" c r e d i t _ i d \" : \" 5 4 9 5 9 f 4 7 c 3 a 3 6 8 1 1 5 3 0 0 2 7 7 4 \" , \" d e p a r t m e n t \" : \" l i g h t i n g \" , \" g e n d e r \" : 0 , \" i d \" : 1 4 0 1 8 0 7 , \" j o b \" : \" l i g h t i n g t e c h n i c i a n \" , \" n a m e \" : \" s c o t t s p r a g u e \" } , { \" c r e d i t _ i d \" : \" 5 4 9 5 9 f 8 c c 3 a 3 6 8 3 1 b 8 0 0 1 d f 2 \" , \" d e p a r t m e n t \" : \" v i s u a l e f f e c t s \" , \" g e n d e r \" : 0 , \" i d \" : 1 4 0 1 8 0 8 , \" j o b \" : \" a n i m a t i o n d i r e c t o r \" , \" n a m e \" : \" j e r e m y h o l l o b o n \" } , { \" c r e d i t _ i d \" : \" 5 4 9 5 9 f a 0 c 3 a 3 6 8 3 1 b 8 0 0 1 d f b \" , \" d e p a r t m e n t \" : \" v i s u a l e f f e c t s \" , \" g e n d e r \" : 0 , \" i d \" : 1 4 0 1 8 0 9 , \" j o b \" : \" a n i m a t i o n d i r e c t o r \" , \" n a m e \" : \" o r l a n d o m e u n i e r \" } , { \" c r e d i t _ i d \" : \" 5 4 9 5 9 f b 6 c 3 a 3 6 8 6 a f 3 0 0 3 f 5 4 \" , \" d e p a r t m e n t \" : \" v i s u a l e f f e c t s \" , \" g e n d e r \" : 0 , \" i d \" : 1 4 0 1 8 1 0 , \" j o b \" : \" a n i m a t i o n d i r e c t o r \" , \" n a m e \" : \" t a i s u k e t a n i m u r a \" } , { \" c r e d i t _ i d \" : \" 5 4 9 5 9 f d 2 c 3 a 3 6 8 3 1 b 8 0 0 1 e 0 2 \" , \" d e p a r t m e n t \" : \" c o s t u m e & m a k e - u p \" , \" g e n d e r \" : 0 , \" i d \" : 1 4 0 1 8 1 2 , \" j o b \" : \" s e t c o s t u m e r \" , \" n a m e \" : \" l i l i a m i s h e l a c e v e d o \" } , { \" c r e d i t _ i d \" : \" 5 4 9 5 9 f f 9 c 3 a 3 6 8 6 a e 3 0 0 4 4 0 c \" , \" d e p a r t m e n t \" : \" c o s t u m e & m a k e - u p \" , \" g e n d e r \" : 0 , \" i d \" : 1 4 0 1 8 1 4 , \" j o b \" : \" s e t c o s t u m e r \" , \" n a m e \" : \" a l e j a n d r o m . h e r n a n d e z \" } , { \" c r e d i t _ i d \" : \" 5 4 9 5 a 0 d d c 3 a 3 6 8 6 a e 1 0 0 4 6 f e \" , \" d e p a r t m e n t \" : \" e d i t i n g \" , \" g e n d e r \" : 0 , \" i d \" : 1 4 0 1 8 1 5 , \" j o b \" : \" d i g i t a l i n t e r m e d i a t e \" , \" n a m e \" : \" m a r v i n h a l l \" } , { \" c r e d i t _ i d \" : \" 5 4 9 5 a 1 f 7 c 3 a 3 6 8 6 a e 3 0 0 4 4 4 3 \" , \" d e p a r t m e n t \" : \" p r o d u c t i o n \" , \" g e n d e r \" : 0 , \" i d \" : 1 4 0 1 8 1 6 , \" j o b \" : \" p u b l i c i s t \" , \" n a m e \" : \" j u d y a l l e y \" } , { \" c r e d i t _ i d \" : \" 5 5 9 2 b 2 9 f c 3 a 3 6 8 6 9 d 1 0 0 0 0 2 f \" , \" d e p a r t m e n t \" : \" c r e w \" , \" g e n d e r \" : 0 , \" i d \" : 1 4 1 8 3 8 1 , \" j o b \" : \" c g s u p e r v i s o r \" , \" n a m e \" : \" m i k e p e r r y \" } , { \" c r e d i t _ i d \" : \" 5 5 9 2 b 2 3 a 9 2 5 1 4 1 5 d f 8 0 0 1 0 8 1 \" , \" d e p a r t m e n t \" : \" c r e w \" , \" g e n d e r \" : 0 , \" i d \" : 1 4 2 6 8 5 4 , \" j o b \" : \" c g s u p e r v i s o r \" , \" n a m e \" : \" a n d r e w m o r l e y \" } , { \" c r e d i t _ i d \" : \" 5 5 4 9 1 e 1 1 9 2 5 1 4 1 0 4 c 4 0 0 0 2 d 8 \" , \" d e p a r t m e n t \" : \" a r t \" , \" g e n d e r \" : 0 , \" i d \" : 1 4 3 8 9 0 1 , \" j o b \" : \" c o n c e p t u a l d e s i g n \" , \" n a m e \" : \" s e t h e n g s t r o m \" } , { \" c r e d i t _ i d \" : \" 5 5 2 5 d 5 8 0 9 2 5 1 4 1 7 2 7 6 0 0 2 b 0 6 \" , \" d e p a r t m e n t \" : \" c r e w \" , \" g e n d e r \" : 0 , \" i d \" : 1 4 4 7 3 6 2 , \" j o b \" : \" v i s u a l e f f e c t s a r t d i r e c t o r \" , \" n a m e \" : \" e r i c o l i v e r \" } , { \" c r e d i t _ i d \" : \" 5 5 4 4 2 7 c a 9 2 5 1 4 1 5 8 6 5 0 0 3 1 2 a \" , \" d e p a r t m e n t \" : \" v i s u a l e f f e c t s \" , \" g e n d e r \" : 0 , \" i d \" : 1 4 4 7 5 0 3 , \" j o b \" : \" m o d e l i n g \" , \" n a m e \" : \" m a t s u n e s u z u k i \" } , { \" c r e d i t _ i d \" : \" 5 5 1 9 0 6 8 8 9 2 5 1 4 1 5 a a b 0 0 1 c 8 8 \" , \" d e p a r t m e n t \" : \" a r t \" , \" g e n d e r \" : 0 , \" i d \" : 1 4 4 7 5 2 4 , \" j o b \" : \" a r t d e p a r t m e n t m a n a g e r \" , \" n a m e \" : \" p a u l t o b i n \" } , { \" c r e d i t _ i d \" : \" 5 5 9 2 a f 8 4 9 2 5 1 4 1 5 2 c c 0 0 1 0 d e \" , \" d e p a r t m e n t \" : \" c o s t u m e & m a k e - u p \" , \" g e n d e r \" : 0 , \" i d \" : 1 4 5 2 6 4 3 , \" j o b \" : \" h a i r s t y l i s t \" , \" n a m e \" : \" r o x a n e g r i f f i n \" } , { \" c r e d i t _ i d \" : \" 5 5 3 d 3 c 1 0 9 2 5 1 4 1 5 8 5 2 0 0 1 3 1 8 \" , \" d e p a r t m e n t \" : \" l i g h t i n g \" , \" g e n d e r \" : 0 , \" i d \" : 1 4 5 3 9 3 8 , \" j o b \" : \" l i g h t i n g a r t i s t \" , \" n a m e \" : \" a r u n r a m - m o h a n \" } , { \" c r e d i t _ i d \" : \" 5 5 9 2 a f 4 6 9 2 5 1 4 1 5 2 d 5 0 0 1 3 5 5 \" , \" d e p a r t m e n t \" : \" c o s t u m e & m a k e - u p \" , \" g e n d e r \" : 0 , \" i d \" : 1 4 5 7 3 0 5 , \" j o b \" : \" m a k e u p a r t i s t \" , \" n a m e \" : \" g e o r g i a l o c k h a r t - a d a m s \" } , { \" c r e d i t _ i d \" : \" 5 5 9 2 b 2 e a c 3 a 3 6 8 7 7 4 7 0 0 1 2 a 5 \" , \" d e p a r t m e n t \" : \" c r e w \" , \" g e n d e r \" : 0 , \" i d \" : 1 4 6 6 0 3 5 , \" j o b \" : \" c g s u p e r v i s o r \" , \" n a m e \" : \" t h r a i n s h a d b o l t \" } , { \" c r e d i t _ i d \" : \" 5 5 9 2 b 0 3 2 c 3 a 3 6 8 7 7 4 5 0 0 1 5 f 1 \" , \" d e p a r t m e n t \" : \" c r e w \" , \" g e n d e r \" : 0 , \" i d \" : 1 4 8 3 2 2 0 , \" j o b \" : \" c g s u p e r v i s o r \" , \" n a m e \" : \" b r a d a l e x a n d e r \" } , { \" c r e d i t _ i d \" : \" 5 5 9 2 b 0 5 5 9 2 5 1 4 1 5 2 d 8 0 0 1 2 f 6 \" , \" d e p a r t m e n t \" : \" c r e w \" , \" g e n d e r \" : 0 , \" i d \" : 1 4 8 3 2 2 1 , \" j o b \" : \" c g s u p e r v i s o r \" , \" n a m e \" : \" s h a d i a l m a s s i z a d e h \" } , { \" c r e d i t _ i d \" : \" 5 5 9 2 b 0 9 0 c 3 a 3 6 8 7 7 5 7 0 0 1 0 b 5 \" , \" d e p a r t m e n t \" : \" c r e w \" , \" g e n d e r \" : 0 , \" i d \" : 1 4 8 3 2 2 2 , \" j o b \" : \" c g s u p e r v i s o r \" , \" n a m e \" : \" s i m o n c l u t t e r b u c k \" } , { \" c r e d i t _ i d \" : \" 5 5 9 2 b 0 d b c 3 a 3 6 8 7 7 4 b 0 0 1 1 2 c \" , \" d e p a r t m e n t \" : \" c r e w \" , \" g e n d e r \" : 0 , \" i d \" : 1 4 8 3 2 2 3 , \" j o b \" : \" c g s u p e r v i s o r \" , \" n a m e \" : \" g r a e m e d e m m o c k s \" } , { \" c r e d i t _ i d \" : \" 5 5 9 2 b 0 f e 9 2 5 1 4 1 5 2 d b 0 0 1 0 c 1 \" , \" d e p a r t m e n t \" : \" c r e w \" , \" g e n d e r \" : 0 , \" i d \" : 1 4 8 3 2 2 4 , \" j o b \" : \" c g s u p e r v i s o r \" , \" n a m e \" : \" a d r i a n f e r n a n d e s \" } , { \" c r e d i t _ i d \" : \" 5 5 9 2 b 1 1 f 9 2 5 1 4 1 5 d f 8 0 0 1 0 5 9 \" , \" d e p a r t m e n t \" : \" c r e w \" , \" g e n d e r \" : 0 , \" i d \" : 1 4 8 3 2 2 5 , \" j o b \" : \" c g s u p e r v i s o r \" , \" n a m e \" : \" m i t c h g a t e s \" } , { \" c r e d i t _ i d \" : \" 5 5 9 2 b 1 5 d c 3 a 3 6 8 7 7 4 5 0 0 1 6 4 5 \" , \" d e p a r t m e n t \" : \" c r e w \" , \" g e n d e r \" : 0 , \" i d \" : 1 4 8 3 2 2 6 , \" j o b \" : \" c g s u p e r v i s o r \" , \" n a m e \" : \" j e r r y k u n g \" } , { \" c r e d i t _ i d \" : \" 5 5 9 2 b 1 8 e 9 2 5 1 4 1 6 4 5 a 0 0 0 4 a e \" , \" d e p a r t m e n t \" : \" c r e w \" , \" g e n d e r \" : 0 , \" i d \" : 1 4 8 3 2 2 7 , \" j o b \" : \" c g s u p e r v i s o r \" , \" n a m e \" : \" a n d y l o m a s \" } , { \" c r e d i t _ i d \" : \" 5 5 9 2 b 1 b f c 3 a 3 6 8 7 7 5 d 0 0 1 0 e 7 \" , \" d e p a r t m e n t \" : \" c r e w \" , \" g e n d e r \" : 0 , \" i d \" : 1 4 8 3 2 2 8 , \" j o b \" : \" c g s u p e r v i s o r \" , \" n a m e \" : \" s e b a s t i a n m a r i n o \" } , { \" c r e d i t _ i d \" : \" 5 5 9 2 b 2 0 4 9 2 5 1 4 1 5 d f 8 0 0 1 0 7 8 \" , \" d e p a r t m e n t \" : \" c r e w \" , \" g e n d e r \" : 0 , \" i d \" : 1 4 8 3 2 2 9 , \" j o b \" : \" c g s u p e r v i s o r \" , \" n a m e \" : \" m a t t h i a s m e n z \" } , { \" c r e d i t _ i d \" : \" 5 5 9 2 b 2 7 b 9 2 5 1 4 1 5 2 d 8 0 0 1 3 6 a \" , \" d e p a r t m e n t \" : \" c r e w \" , \" g e n d e r \" : 0 , \" i d \" : 1 4 8 3 2 3 0 , \" j o b \" : \" c g s u p e r v i s o r \" , \" n a m e \" : \" s e r g e i n e v s h u p o v \" } , { \" c r e d i t _ i d \" : \" 5 5 9 2 b 2 c 3 c 3 a 3 6 8 6 9 e 8 0 0 0 0 3 c \" , \" d e p a r t m e n t \" : \" c r e w \" , \" g e n d e r \" : 0 , \" i d \" : 1 4 8 3 2 3 1 , \" j o b \" : \" c g s u p e r v i s o r \" , \" n a m e \" : \" p h i l i p p e r e b o u r s \" } , { \" c r e d i t _ i d \" : \" 5 5 9 2 b 3 1 7 c 3 a 3 6 8 7 7 4 7 0 0 1 2 a f \" , \" d e p a r t m e n t \" : \" c r e w \" , \" g e n d e r \" : 0 , \" i d \" : 1 4 8 3 2 3 2 , \" j o b \" : \" c g s u p e r v i s o r \" , \" n a m e \" : \" m i c h a e l t a k a r a n g i \" } , { \" c r e d i t _ i d \" : \" 5 5 9 2 b 3 4 5 c 3 a 3 6 8 7 7 4 7 0 0 1 2 b b \" , \" d e p a r t m e n t \" : \" c r e w \" , \" g e n d e r \" : 0 , \" i d \" : 1 4 8 3 2 3 3 , \" j o b \" : \" c g s u p e r v i s o r \" , \" n a m e \" : \" d a v i d w e i t z b e r g \" } , { \" c r e d i t _ i d \" : \" 5 5 9 2 b 3 7 c c 3 a 3 6 8 7 7 5 1 0 0 1 1 3 b \" , \" d e p a r t m e n t \" : \" c r e w \" , \" g e n d e r \" : 0 , \" i d \" : 1 4 8 3 2 3 4 , \" j o b \" : \" c g s u p e r v i s o r \" , \" n a m e \" : \" b e n w h i t e \" } , { \" c r e d i t _ i d \" : \" 5 7 3 c 8 e 2 f 9 2 5 1 4 1 3 f 5 d 0 0 0 0 9 4 \" , \" d e p a r t m e n t \" : \" c r e w \" , \" g e n d e r \" : 1 , \" i d \" : 1 6 2 1 9 3 2 , \" j o b \" : \" s t u n t s \" , \" n a m e \" : \" m i n w i n d l e \" } ]'"
      ]
     },
     "execution_count": 46,
     "metadata": {},
     "output_type": "execute_result"
    }
   ],
   "source": [
    "new_df['tags'][0]"
   ]
  },
  {
   "cell_type": "code",
   "execution_count": 47,
   "id": "5d40fd9d-cf6d-4829-bdf8-66bb0b8b890f",
   "metadata": {},
   "outputs": [
    {
     "name": "stderr",
     "output_type": "stream",
     "text": [
      "C:\\Users\\Salma Fannich\\AppData\\Local\\Temp\\ipykernel_11164\\3214958533.py:1: SettingWithCopyWarning: \n",
      "A value is trying to be set on a copy of a slice from a DataFrame.\n",
      "Try using .loc[row_indexer,col_indexer] = value instead\n",
      "\n",
      "See the caveats in the documentation: https://pandas.pydata.org/pandas-docs/stable/user_guide/indexing.html#returning-a-view-versus-a-copy\n",
      "  new_df['tags'] = new_df['tags'].apply(lambda x:x.lower())\n"
     ]
    }
   ],
   "source": [
    "new_df['tags'] = new_df['tags'].apply(lambda x:x.lower())"
   ]
  },
  {
   "cell_type": "code",
   "execution_count": 48,
   "id": "db6421ff-430f-41da-903a-2e54f72f448a",
   "metadata": {},
   "outputs": [
    {
     "data": {
      "text/html": [
       "<div>\n",
       "<style scoped>\n",
       "    .dataframe tbody tr th:only-of-type {\n",
       "        vertical-align: middle;\n",
       "    }\n",
       "\n",
       "    .dataframe tbody tr th {\n",
       "        vertical-align: top;\n",
       "    }\n",
       "\n",
       "    .dataframe thead th {\n",
       "        text-align: right;\n",
       "    }\n",
       "</style>\n",
       "<table border=\"1\" class=\"dataframe\">\n",
       "  <thead>\n",
       "    <tr style=\"text-align: right;\">\n",
       "      <th></th>\n",
       "      <th>movie_id</th>\n",
       "      <th>title</th>\n",
       "      <th>tags</th>\n",
       "    </tr>\n",
       "  </thead>\n",
       "  <tbody>\n",
       "    <tr>\n",
       "      <th>0</th>\n",
       "      <td>19995</td>\n",
       "      <td>Avatar</td>\n",
       "      <td>in the 22nd century, a parapleg marin is dispa...</td>\n",
       "    </tr>\n",
       "    <tr>\n",
       "      <th>1</th>\n",
       "      <td>285</td>\n",
       "      <td>Pirates of the Caribbean: At World's End</td>\n",
       "      <td>captain barbossa, long believ to be dead, ha c...</td>\n",
       "    </tr>\n",
       "    <tr>\n",
       "      <th>2</th>\n",
       "      <td>206647</td>\n",
       "      <td>Spectre</td>\n",
       "      <td>a cryptic messag from bond’ past send him on a...</td>\n",
       "    </tr>\n",
       "    <tr>\n",
       "      <th>3</th>\n",
       "      <td>49026</td>\n",
       "      <td>The Dark Knight Rises</td>\n",
       "      <td>follow the death of district attorney harvey d...</td>\n",
       "    </tr>\n",
       "    <tr>\n",
       "      <th>4</th>\n",
       "      <td>49529</td>\n",
       "      <td>John Carter</td>\n",
       "      <td>john carter is a war-weary, former militari ca...</td>\n",
       "    </tr>\n",
       "  </tbody>\n",
       "</table>\n",
       "</div>"
      ],
      "text/plain": [
       "   movie_id                                     title  \\\n",
       "0     19995                                    Avatar   \n",
       "1       285  Pirates of the Caribbean: At World's End   \n",
       "2    206647                                   Spectre   \n",
       "3     49026                     The Dark Knight Rises   \n",
       "4     49529                               John Carter   \n",
       "\n",
       "                                                tags  \n",
       "0  in the 22nd century, a parapleg marin is dispa...  \n",
       "1  captain barbossa, long believ to be dead, ha c...  \n",
       "2  a cryptic messag from bond’ past send him on a...  \n",
       "3  follow the death of district attorney harvey d...  \n",
       "4  john carter is a war-weary, former militari ca...  "
      ]
     },
     "execution_count": 48,
     "metadata": {},
     "output_type": "execute_result"
    }
   ],
   "source": [
    "new_df.head()"
   ]
  },
  {
   "cell_type": "code",
   "execution_count": 49,
   "id": "83b0743d-bb40-42c9-b4ee-f7debb46af0c",
   "metadata": {},
   "outputs": [
    {
     "name": "stderr",
     "output_type": "stream",
     "text": [
      "C:\\Users\\Salma Fannich\\AppData\\Local\\Temp\\ipykernel_11164\\3213734980.py:1: SettingWithCopyWarning: \n",
      "A value is trying to be set on a copy of a slice from a DataFrame.\n",
      "Try using .loc[row_indexer,col_indexer] = value instead\n",
      "\n",
      "See the caveats in the documentation: https://pandas.pydata.org/pandas-docs/stable/user_guide/indexing.html#returning-a-view-versus-a-copy\n",
      "  new_df['tags'] = new_df['tags'].apply(stem)\n"
     ]
    }
   ],
   "source": [
    "new_df['tags'] = new_df['tags'].apply(stem)"
   ]
  },
  {
   "cell_type": "code",
   "execution_count": 50,
   "id": "e66a0b98-04d1-4846-855a-8ad088dd7c6e",
   "metadata": {},
   "outputs": [
    {
     "data": {
      "text/plain": [
       "'in the 22nd century, a parapleg marin is dispatch to the moon pandora on a uniqu mission, but becom torn between follow order and protect an alien civilization. [ { \" i d \" : 2 8 , \" n a m e \" : \" a c t i o n \" } , { \" i d \" : 1 2 , \" n a m e \" : \" a d v e n t u r e \" } , { \" i d \" : 1 4 , \" n a m e \" : \" f a n t a s y \" } , { \" i d \" : 8 7 8 , \" n a m e \" : \" s c i e n c e f i c t i o n \" } ] [ { \" c a s t _ i d \" : 2 4 2 , \" c h a r a c t e r \" : \" j a k e s u l l y \" , \" c r e d i t _ i d \" : \" 5 6 0 2 a 8 a 7 c 3 a 3 6 8 5 5 3 2 0 0 1 c 9 a \" , \" g e n d e r \" : 2 , \" i d \" : 6 5 7 3 1 , \" n a m e \" : \" s a m w o r t h i n g t o n \" , \" o r d e r \" : 0 } , { \" c a s t _ i d \" : 3 , \" c h a r a c t e r \" : \" n e y t i r i \" , \" c r e d i t _ i d \" : \" 5 2 f e 4 8 0 0 9 2 5 1 4 1 6 c 7 5 0 a c 9 c b \" , \" g e n d e r \" : 1 , \" i d \" : 8 6 9 1 , \" n a m e \" : \" z o e s a l d a n a \" , \" o r d e r \" : 1 } , { \" c a s t _ i d \" : 2 5 , \" c h a r a c t e r \" : \" d r . g r a c e a u g u s t i n e \" , \" c r e d i t _ i d \" : \" 5 2 f e 4 8 0 0 9 2 5 1 4 1 6 c 7 5 0 a c a 3 9 \" , \" g e n d e r \" : 1 , \" i d \" : 1 0 2 0 5 , \" n a m e \" : \" s i g o u r n e y w e a v e r \" , \" o r d e r \" : 2 } , { \" c a s t _ i d \" : 4 , \" c h a r a c t e r \" : \" c o l . q u a r i t c h \" , \" c r e d i t _ i d \" : \" 5 2 f e 4 8 0 0 9 2 5 1 4 1 6 c 7 5 0 a c 9 c f \" , \" g e n d e r \" : 2 , \" i d \" : 3 2 7 4 7 , \" n a m e \" : \" s t e p h e n l a n g \" , \" o r d e r \" : 3 } , { \" c a s t _ i d \" : 5 , \" c h a r a c t e r \" : \" t r u d y c h a c o n \" , \" c r e d i t _ i d \" : \" 5 2 f e 4 8 0 0 9 2 5 1 4 1 6 c 7 5 0 a c 9 d 3 \" , \" g e n d e r \" : 1 , \" i d \" : 1 7 6 4 7 , \" n a m e \" : \" m i c h e l l e r o d r i g u e z \" , \" o r d e r \" : 4 } , { \" c a s t _ i d \" : 8 , \" c h a r a c t e r \" : \" s e l f r i d g e \" , \" c r e d i t _ i d \" : \" 5 2 f e 4 8 0 0 9 2 5 1 4 1 6 c 7 5 0 a c 9 e 1 \" , \" g e n d e r \" : 2 , \" i d \" : 1 7 7 1 , \" n a m e \" : \" g i o v a n n i r i b i s i \" , \" o r d e r \" : 5 } , { \" c a s t _ i d \" : 7 , \" c h a r a c t e r \" : \" n o r m s p e l l m a n \" , \" c r e d i t _ i d \" : \" 5 2 f e 4 8 0 0 9 2 5 1 4 1 6 c 7 5 0 a c 9 d d \" , \" g e n d e r \" : 2 , \" i d \" : 5 9 2 3 1 , \" n a m e \" : \" j o e l d a v i d m o o r e \" , \" o r d e r \" : 6 } , { \" c a s t _ i d \" : 9 , \" c h a r a c t e r \" : \" m o a t \" , \" c r e d i t _ i d \" : \" 5 2 f e 4 8 0 0 9 2 5 1 4 1 6 c 7 5 0 a c 9 e 5 \" , \" g e n d e r \" : 1 , \" i d \" : 3 0 4 8 5 , \" n a m e \" : \" c c h p o u n d e r \" , \" o r d e r \" : 7 } , { \" c a s t _ i d \" : 1 1 , \" c h a r a c t e r \" : \" e y t u k a n \" , \" c r e d i t _ i d \" : \" 5 2 f e 4 8 0 0 9 2 5 1 4 1 6 c 7 5 0 a c 9 e d \" , \" g e n d e r \" : 2 , \" i d \" : 1 5 8 5 3 , \" n a m e \" : \" w e s s t u d i \" , \" o r d e r \" : 8 } , { \" c a s t _ i d \" : 1 0 , \" c h a r a c t e r \" : \" t s u \\' t e y \" , \" c r e d i t _ i d \" : \" 5 2 f e 4 8 0 0 9 2 5 1 4 1 6 c 7 5 0 a c 9 e 9 \" , \" g e n d e r \" : 2 , \" i d \" : 1 0 9 6 4 , \" n a m e \" : \" l a z a l o n s o \" , \" o r d e r \" : 9 } , { \" c a s t _ i d \" : 1 2 , \" c h a r a c t e r \" : \" d r . m a x p a t e l \" , \" c r e d i t _ i d \" : \" 5 2 f e 4 8 0 0 9 2 5 1 4 1 6 c 7 5 0 a c 9 f 1 \" , \" g e n d e r \" : 2 , \" i d \" : 9 5 6 9 7 , \" n a m e \" : \" d i l e e p r a o \" , \" o r d e r \" : 1 0 } , { \" c a s t _ i d \" : 1 3 , \" c h a r a c t e r \" : \" l y l e w a i n f l e e t \" , \" c r e d i t _ i d \" : \" 5 2 f e 4 8 0 0 9 2 5 1 4 1 6 c 7 5 0 a c 9 f 5 \" , \" g e n d e r \" : 2 , \" i d \" : 9 8 2 1 5 , \" n a m e \" : \" m a t t g e r a l d \" , \" o r d e r \" : 1 1 } , { \" c a s t _ i d \" : 3 2 , \" c h a r a c t e r \" : \" p r i v a t e f i k e \" , \" c r e d i t _ i d \" : \" 5 2 f e 4 8 0 0 9 2 5 1 4 1 6 c 7 5 0 a c a 5 b \" , \" g e n d e r \" : 2 , \" i d \" : 1 5 4 1 5 3 , \" n a m e \" : \" s e a n a n t h o n y m o r a n \" , \" o r d e r \" : 1 2 } , { \" c a s t _ i d \" : 3 3 , \" c h a r a c t e r \" : \" c r y o v a u l t m e d t e c h \" , \" c r e d i t _ i d \" : \" 5 2 f e 4 8 0 0 9 2 5 1 4 1 6 c 7 5 0 a c a 5 f \" , \" g e n d e r \" : 2 , \" i d \" : 3 9 7 3 1 2 , \" n a m e \" : \" j a s o n w h y t e \" , \" o r d e r \" : 1 3 } , { \" c a s t _ i d \" : 3 4 , \" c h a r a c t e r \" : \" v e n t u r e s t a r c r e w c h i e f \" , \" c r e d i t _ i d \" : \" 5 2 f e 4 8 0 0 9 2 5 1 4 1 6 c 7 5 0 a c a 6 3 \" , \" g e n d e r \" : 2 , \" i d \" : 4 2 3 1 7 , \" n a m e \" : \" s c o t t l a w r e n c e \" , \" o r d e r \" : 1 4 } , { \" c a s t _ i d \" : 3 5 , \" c h a r a c t e r \" : \" l o c k u p t r o o p e r \" , \" c r e d i t _ i d \" : \" 5 2 f e 4 8 0 0 9 2 5 1 4 1 6 c 7 5 0 a c a 6 7 \" , \" g e n d e r \" : 2 , \" i d \" : 9 8 6 7 3 4 , \" n a m e \" : \" k e l l y k i l g o u r \" , \" o r d e r \" : 1 5 } , { \" c a s t _ i d \" : 3 6 , \" c h a r a c t e r \" : \" s h u t t l e p i l o t \" , \" c r e d i t _ i d \" : \" 5 2 f e 4 8 0 0 9 2 5 1 4 1 6 c 7 5 0 a c a 6 b \" , \" g e n d e r \" : 0 , \" i d \" : 1 2 0 7 2 2 7 , \" n a m e \" : \" j a m e s p a t r i c k p i t t \" , \" o r d e r \" : 1 6 } , { \" c a s t _ i d \" : 3 7 , \" c h a r a c t e r \" : \" s h u t t l e c o - p i l o t \" , \" c r e d i t _ i d \" : \" 5 2 f e 4 8 0 0 9 2 5 1 4 1 6 c 7 5 0 a c a 6 f \" , \" g e n d e r \" : 0 , \" i d \" : 1 1 8 0 9 3 6 , \" n a m e \" : \" s e a n p a t r i c k m u r p h y \" , \" o r d e r \" : 1 7 } , { \" c a s t _ i d \" : 3 8 , \" c h a r a c t e r \" : \" s h u t t l e c r e w c h i e f \" , \" c r e d i t _ i d \" : \" 5 2 f e 4 8 0 0 9 2 5 1 4 1 6 c 7 5 0 a c a 7 3 \" , \" g e n d e r \" : 2 , \" i d \" : 1 0 1 9 5 7 8 , \" n a m e \" : \" p e t e r d i l l o n \" , \" o r d e r \" : 1 8 } , { \" c a s t _ i d \" : 3 9 , \" c h a r a c t e r \" : \" t r a c t o r o p e r a t o r / t r o u p e \" , \" c r e d i t _ i d \" : \" 5 2 f e 4 8 0 0 9 2 5 1 4 1 6 c 7 5 0 a c a 7 7 \" , \" g e n d e r \" : 0 , \" i d \" : 9 1 4 4 3 , \" n a m e \" : \" k e v i n d o r m a n \" , \" o r d e r \" : 1 9 } , { \" c a s t _ i d \" : 4 0 , \" c h a r a c t e r \" : \" d r a g o n g u n s h i p p i l o t \" , \" c r e d i t _ i d \" : \" 5 2 f e 4 8 0 0 9 2 5 1 4 1 6 c 7 5 0 a c a 7 b \" , \" g e n d e r \" : 2 , \" i d \" : 1 7 3 3 9 1 , \" n a m e \" : \" k e l s o n h e n d e r s o n \" , \" o r d e r \" : 2 0 } , { \" c a s t _ i d \" : 4 1 , \" c h a r a c t e r \" : \" d r a g o n g u n s h i p g u n n e r \" , \" c r e d i t _ i d \" : \" 5 2 f e 4 8 0 0 9 2 5 1 4 1 6 c 7 5 0 a c a 7 f \" , \" g e n d e r \" : 0 , \" i d \" : 1 2 0 7 2 3 6 , \" n a m e \" : \" d a v i d v a n h o r n \" , \" o r d e r \" : 2 1 } , { \" c a s t _ i d \" : 4 2 , \" c h a r a c t e r \" : \" d r a g o n g u n s h i p n a v i g a t o r \" , \" c r e d i t _ i d \" : \" 5 2 f e 4 8 0 0 9 2 5 1 4 1 6 c 7 5 0 a c a 8 3 \" , \" g e n d e r \" : 0 , \" i d \" : 2 1 5 9 1 3 , \" n a m e \" : \" j a c o b t o m u r i \" , \" o r d e r \" : 2 2 } , { \" c a s t _ i d \" : 4 3 , \" c h a r a c t e r \" : \" s u i t # 1 \" , \" c r e d i t _ i d \" : \" 5 2 f e 4 8 0 0 9 2 5 1 4 1 6 c 7 5 0 a c a 8 7 \" , \" g e n d e r \" : 0 , \" i d \" : 1 4 3 2 0 6 , \" n a m e \" : \" m i c h a e l b l a i n - r o z g a y \" , \" o r d e r \" : 2 3 } , { \" c a s t _ i d \" : 4 4 , \" c h a r a c t e r \" : \" s u i t # 2 \" , \" c r e d i t _ i d \" : \" 5 2 f e 4 8 0 0 9 2 5 1 4 1 6 c 7 5 0 a c a 8 b \" , \" g e n d e r \" : 2 , \" i d \" : 1 6 9 6 7 6 , \" n a m e \" : \" j o n c u r r y \" , \" o r d e r \" : 2 4 } , { \" c a s t _ i d \" : 4 6 , \" c h a r a c t e r \" : \" a m b i e n t r o o m t e c h \" , \" c r e d i t _ i d \" : \" 5 2 f e 4 8 0 0 9 2 5 1 4 1 6 c 7 5 0 a c a 8 f \" , \" g e n d e r \" : 0 , \" i d \" : 1 0 4 8 6 1 0 , \" n a m e \" : \" l u k e h a w k e r \" , \" o r d e r \" : 2 5 } , { \" c a s t _ i d \" : 4 7 , \" c h a r a c t e r \" : \" a m b i e n t r o o m t e c h / t r o u p e \" , \" c r e d i t _ i d \" : \" 5 2 f e 4 8 0 0 9 2 5 1 4 1 6 c 7 5 0 a c a 9 3 \" , \" g e n d e r \" : 0 , \" i d \" : 4 2 2 8 8 , \" n a m e \" : \" w o o d y s c h u l t z \" , \" o r d e r \" : 2 6 } , { \" c a s t _ i d \" : 4 8 , \" c h a r a c t e r \" : \" h o r s e c l a n l e a d e r \" , \" c r e d i t _ i d \" : \" 5 2 f e 4 8 0 0 9 2 5 1 4 1 6 c 7 5 0 a c a 9 7 \" , \" g e n d e r \" : 2 , \" i d \" : 6 8 2 7 8 , \" n a m e \" : \" p e t e r m e n s a h \" , \" o r d e r \" : 2 7 } , { \" c a s t _ i d \" : 4 9 , \" c h a r a c t e r \" : \" l i n k r o o m t e c h \" , \" c r e d i t _ i d \" : \" 5 2 f e 4 8 0 0 9 2 5 1 4 1 6 c 7 5 0 a c a 9 b \" , \" g e n d e r \" : 0 , \" i d \" : 1 2 0 7 2 4 7 , \" n a m e \" : \" s o n i a y e e \" , \" o r d e r \" : 2 8 } , { \" c a s t _ i d \" : 5 0 , \" c h a r a c t e r \" : \" b a s k e t b a l l a v a t a r / t r o u p e \" , \" c r e d i t _ i d \" : \" 5 2 f e 4 8 0 0 9 2 5 1 4 1 6 c 7 5 0 a c a 9 f \" , \" g e n d e r \" : 1 , \" i d \" : 1 2 0 7 2 4 8 , \" n a m e \" : \" j a h n e l c u r f m a n \" , \" o r d e r \" : 2 9 } , { \" c a s t _ i d \" : 5 1 , \" c h a r a c t e r \" : \" b a s k e t b a l l a v a t a r \" , \" c r e d i t _ i d \" : \" 5 2 f e 4 8 0 0 9 2 5 1 4 1 6 c 7 5 0 a c a a 3 \" , \" g e n d e r \" : 0 , \" i d \" : 8 9 7 1 4 , \" n a m e \" : \" i l r a m c h o i \" , \" o r d e r \" : 3 0 } , { \" c a s t _ i d \" : 5 2 , \" c h a r a c t e r \" : \" n a \\' v i c h i l d \" , \" c r e d i t _ i d \" : \" 5 2 f e 4 8 0 0 9 2 5 1 4 1 6 c 7 5 0 a c a a 7 \" , \" g e n d e r \" : 0 , \" i d \" : 1 2 0 7 2 4 9 , \" n a m e \" : \" k y l a w a r r e n \" , \" o r d e r \" : 3 1 } , { \" c a s t _ i d \" : 5 3 , \" c h a r a c t e r \" : \" t r o u p e \" , \" c r e d i t _ i d \" : \" 5 2 f e 4 8 0 0 9 2 5 1 4 1 6 c 7 5 0 a c a a b \" , \" g e n d e r \" : 0 , \" i d \" : 1 2 0 7 2 5 0 , \" n a m e \" : \" l i s a r o u m a i n \" , \" o r d e r \" : 3 2 } , { \" c a s t _ i d \" : 5 4 , \" c h a r a c t e r \" : \" t r o u p e \" , \" c r e d i t _ i d \" : \" 5 2 f e 4 8 0 0 9 2 5 1 4 1 6 c 7 5 0 a c a a f \" , \" g e n d e r \" : 1 , \" i d \" : 8 3 1 0 5 , \" n a m e \" : \" d e b r a w i l s o n \" , \" o r d e r \" : 3 3 } , { \" c a s t _ i d \" : 5 7 , \" c h a r a c t e r \" : \" t r o u p e \" , \" c r e d i t _ i d \" : \" 5 2 f e 4 8 0 0 9 2 5 1 4 1 6 c 7 5 0 a c a b b \" , \" g e n d e r \" : 0 , \" i d \" : 1 2 0 7 2 5 3 , \" n a m e \" : \" c h r i s m a l a \" , \" o r d e r \" : 3 4 } , { \" c a s t _ i d \" : 5 5 , \" c h a r a c t e r \" : \" t r o u p e \" , \" c r e d i t _ i d \" : \" 5 2 f e 4 8 0 0 9 2 5 1 4 1 6 c 7 5 0 a c a b 3 \" , \" g e n d e r \" : 0 , \" i d \" : 1 2 0 7 2 5 1 , \" n a m e \" : \" t a y l o r k i b b y \" , \" o r d e r \" : 3 5 } , { \" c a s t _ i d \" : 5 6 , \" c h a r a c t e r \" : \" t r o u p e \" , \" c r e d i t _ i d \" : \" 5 2 f e 4 8 0 0 9 2 5 1 4 1 6 c 7 5 0 a c a b 7 \" , \" g e n d e r \" : 0 , \" i d \" : 1 2 0 7 2 5 2 , \" n a m e \" : \" j o d i e l a n d a u \" , \" o r d e r \" : 3 6 } , { \" c a s t _ i d \" : 5 8 , \" c h a r a c t e r \" : \" t r o u p e \" , \" c r e d i t _ i d \" : \" 5 2 f e 4 8 0 0 9 2 5 1 4 1 6 c 7 5 0 a c a b f \" , \" g e n d e r \" : 0 , \" i d \" : 1 2 0 7 2 5 4 , \" n a m e \" : \" j u l i e l a m m \" , \" o r d e r \" : 3 7 } , { \" c a s t _ i d \" : 5 9 , \" c h a r a c t e r \" : \" t r o u p e \" , \" c r e d i t _ i d \" : \" 5 2 f e 4 8 0 0 9 2 5 1 4 1 6 c 7 5 0 a c a c 3 \" , \" g e n d e r \" : 0 , \" i d \" : 1 2 0 7 2 5 7 , \" n a m e \" : \" c u l l e n b . m a d d e n \" , \" o r d e r \" : 3 8 } , { \" c a s t _ i d \" : 6 0 , \" c h a r a c t e r \" : \" t r o u p e \" , \" c r e d i t _ i d \" : \" 5 2 f e 4 8 0 0 9 2 5 1 4 1 6 c 7 5 0 a c a c 7 \" , \" g e n d e r \" : 0 , \" i d \" : 1 2 0 7 2 5 9 , \" n a m e \" : \" j o s e p h b r a d y m a d d e n \" , \" o r d e r \" : 3 9 } , { \" c a s t _ i d \" : 6 1 , \" c h a r a c t e r \" : \" t r o u p e \" , \" c r e d i t _ i d \" : \" 5 2 f e 4 8 0 0 9 2 5 1 4 1 6 c 7 5 0 a c a c b \" , \" g e n d e r \" : 0 , \" i d \" : 1 2 0 7 2 6 2 , \" n a m e \" : \" f r a n k i e t o r r e s \" , \" o r d e r \" : 4 0 } , { \" c a s t _ i d \" : 6 2 , \" c h a r a c t e r \" : \" t r o u p e \" , \" c r e d i t _ i d \" : \" 5 2 f e 4 8 0 0 9 2 5 1 4 1 6 c 7 5 0 a c a c f \" , \" g e n d e r \" : 1 , \" i d \" : 1 1 5 8 6 0 0 , \" n a m e \" : \" a u s t i n w i l s o n \" , \" o r d e r \" : 4 1 } , { \" c a s t _ i d \" : 6 3 , \" c h a r a c t e r \" : \" t r o u p e \" , \" c r e d i t _ i d \" : \" 5 2 f e 4 8 0 1 9 2 5 1 4 1 6 c 7 5 0 a c a d 3 \" , \" g e n d e r \" : 1 , \" i d \" : 9 8 3 7 0 5 , \" n a m e \" : \" s a r a w i l s o n \" , \" o r d e r \" : 4 2 } , { \" c a s t _ i d \" : 6 4 , \" c h a r a c t e r \" : \" t r o u p e \" , \" c r e d i t _ i d \" : \" 5 2 f e 4 8 0 1 9 2 5 1 4 1 6 c 7 5 0 a c a d 7 \" , \" g e n d e r \" : 0 , \" i d \" : 1 2 0 7 2 6 3 , \" n a m e \" : \" t a m i c a w a s h i n g t o n - m i l l e r \" , \" o r d e r \" : 4 3 } , { \" c a s t _ i d \" : 6 5 , \" c h a r a c t e r \" : \" o p c e n t e r s t a f f \" , \" c r e d i t _ i d \" : \" 5 2 f e 4 8 0 1 9 2 5 1 4 1 6 c 7 5 0 a c a d b \" , \" g e n d e r \" : 1 , \" i d \" : 1 1 4 5 0 9 8 , \" n a m e \" : \" l u c y b r i a n t \" , \" o r d e r \" : 4 4 } , { \" c a s t _ i d \" : 6 6 , \" c h a r a c t e r \" : \" o p c e n t e r s t a f f \" , \" c r e d i t _ i d \" : \" 5 2 f e 4 8 0 1 9 2 5 1 4 1 6 c 7 5 0 a c a d f \" , \" g e n d e r \" : 2 , \" i d \" : 3 3 3 0 5 , \" n a m e \" : \" n a t h a n m e i s t e r \" , \" o r d e r \" : 4 5 } , { \" c a s t _ i d \" : 6 7 , \" c h a r a c t e r \" : \" o p c e n t e r s t a f f \" , \" c r e d i t _ i d \" : \" 5 2 f e 4 8 0 1 9 2 5 1 4 1 6 c 7 5 0 a c a e 3 \" , \" g e n d e r \" : 0 , \" i d \" : 1 2 0 7 2 6 4 , \" n a m e \" : \" g e r r y b l a i r \" , \" o r d e r \" : 4 6 } , { \" c a s t _ i d \" : 6 8 , \" c h a r a c t e r \" : \" o p c e n t e r s t a f f \" , \" c r e d i t _ i d \" : \" 5 2 f e 4 8 0 1 9 2 5 1 4 1 6 c 7 5 0 a c a e 7 \" , \" g e n d e r \" : 2 , \" i d \" : 3 3 3 1 1 , \" n a m e \" : \" m a t t h e w c h a m b e r l a i n \" , \" o r d e r \" : 4 7 } , { \" c a s t _ i d \" : 6 9 , \" c h a r a c t e r \" : \" o p c e n t e r s t a f f \" , \" c r e d i t _ i d \" : \" 5 2 f e 4 8 0 1 9 2 5 1 4 1 6 c 7 5 0 a c a e b \" , \" g e n d e r \" : 0 , \" i d \" : 1 2 0 7 2 6 5 , \" n a m e \" : \" p a u l y a t e s \" , \" o r d e r \" : 4 8 } , { \" c a s t _ i d \" : 7 0 , \" c h a r a c t e r \" : \" o p c e n t e r d u t y o f f i c e r \" , \" c r e d i t _ i d \" : \" 5 2 f e 4 8 0 1 9 2 5 1 4 1 6 c 7 5 0 a c a e f \" , \" g e n d e r \" : 0 , \" i d \" : 1 2 0 7 2 6 6 , \" n a m e \" : \" w r a y w i l s o n \" , \" o r d e r \" : 4 9 } , { \" c a s t _ i d \" : 7 1 , \" c h a r a c t e r \" : \" o p c e n t e r s t a f f \" , \" c r e d i t _ i d \" : \" 5 2 f e 4 8 0 1 9 2 5 1 4 1 6 c 7 5 0 a c a f 3 \" , \" g e n d e r \" : 2 , \" i d \" : 5 4 4 9 2 , \" n a m e \" : \" j a m e s g a y l y n \" , \" o r d e r \" : 5 0 } , { \" c a s t _ i d \" : 7 2 , \" c h a r a c t e r \" : \" d a n c e r \" , \" c r e d i t _ i d \" : \" 5 2 f e 4 8 0 1 9 2 5 1 4 1 6 c 7 5 0 a c a f 7 \" , \" g e n d e r \" : 0 , \" i d \" : 1 2 0 7 2 6 7 , \" n a m e \" : \" m e l v i n l e n o c l a r k i i i \" , \" o r d e r \" : 5 1 } , { \" c a s t _ i d \" : 7 3 , \" c h a r a c t e r \" : \" d a n c e r \" , \" c r e d i t _ i d \" : \" 5 2 f e 4 8 0 1 9 2 5 1 4 1 6 c 7 5 0 a c a f b \" , \" g e n d e r \" : 0 , \" i d \" : 1 2 0 7 2 6 8 , \" n a m e \" : \" c a r v o n f u t r e l l \" , \" o r d e r \" : 5 2 } , { \" c a s t _ i d \" : 7 4 , \" c h a r a c t e r \" : \" d a n c e r \" , \" c r e d i t _ i d \" : \" 5 2 f e 4 8 0 1 9 2 5 1 4 1 6 c 7 5 0 a c a f f \" , \" g e n d e r \" : 0 , \" i d \" : 1 2 0 7 2 6 9 , \" n a m e \" : \" b r a n d o n j e l k e s \" , \" o r d e r \" : 5 3 } , { \" c a s t _ i d \" : 7 5 , \" c h a r a c t e r \" : \" d a n c e r \" , \" c r e d i t _ i d \" : \" 5 2 f e 4 8 0 1 9 2 5 1 4 1 6 c 7 5 0 a c b 0 3 \" , \" g e n d e r \" : 0 , \" i d \" : 1 2 0 7 2 7 0 , \" n a m e \" : \" m i c a h m o c h \" , \" o r d e r \" : 5 4 } , { \" c a s t _ i d \" : 7 6 , \" c h a r a c t e r \" : \" d a n c e r \" , \" c r e d i t _ i d \" : \" 5 2 f e 4 8 0 1 9 2 5 1 4 1 6 c 7 5 0 a c b 0 7 \" , \" g e n d e r \" : 0 , \" i d \" : 1 2 0 7 2 7 1 , \" n a m e \" : \" h a n n i y a h m u h a m m a d \" , \" o r d e r \" : 5 5 } , { \" c a s t _ i d \" : 7 7 , \" c h a r a c t e r \" : \" d a n c e r \" , \" c r e d i t _ i d \" : \" 5 2 f e 4 8 0 1 9 2 5 1 4 1 6 c 7 5 0 a c b 0 b \" , \" g e n d e r \" : 0 , \" i d \" : 1 2 0 7 2 7 2 , \" n a m e \" : \" c h r i s t o p h e r n o l e n \" , \" o r d e r \" : 5 6 } , { \" c a s t _ i d \" : 7 8 , \" c h a r a c t e r \" : \" d a n c e r \" , \" c r e d i t _ i d \" : \" 5 2 f e 4 8 0 1 9 2 5 1 4 1 6 c 7 5 0 a c b 0 f \" , \" g e n d e r \" : 0 , \" i d \" : 1 2 0 7 2 7 3 , \" n a m e \" : \" c h r i s t a o l i v e r \" , \" o r d e r \" : 5 7 } , { \" c a s t _ i d \" : 7 9 , \" c h a r a c t e r \" : \" d a n c e r \" , \" c r e d i t _ i d \" : \" 5 2 f e 4 8 0 1 9 2 5 1 4 1 6 c 7 5 0 a c b 1 3 \" , \" g e n d e r \" : 0 , \" i d \" : 1 2 0 7 2 7 4 , \" n a m e \" : \" a p r i l m a r i e t h o m a s \" , \" o r d e r \" : 5 8 } , { \" c a s t _ i d \" : 8 0 , \" c h a r a c t e r \" : \" d a n c e r \" , \" c r e d i t _ i d \" : \" 5 2 f e 4 8 0 1 9 2 5 1 4 1 6 c 7 5 0 a c b 1 7 \" , \" g e n d e r \" : 0 , \" i d \" : 1 2 0 7 2 7 5 , \" n a m e \" : \" b r a v i t a a . t h r e a t t \" , \" o r d e r \" : 5 9 } , { \" c a s t _ i d \" : 8 1 , \" c h a r a c t e r \" : \" m i n i n g c h i e f ( u n c r e d i t e d ) \" , \" c r e d i t _ i d \" : \" 5 2 f e 4 8 0 1 9 2 5 1 4 1 6 c 7 5 0 a c b 1 b \" , \" g e n d e r \" : 0 , \" i d \" : 1 2 0 7 2 7 6 , \" n a m e \" : \" c o l i n b l e a s d a l e \" , \" o r d e r \" : 6 0 } , { \" c a s t _ i d \" : 8 2 , \" c h a r a c t e r \" : \" v e t e r a n m i n e r ( u n c r e d i t e d ) \" , \" c r e d i t _ i d \" : \" 5 2 f e 4 8 0 1 9 2 5 1 4 1 6 c 7 5 0 a c b 1 f \" , \" g e n d e r \" : 0 , \" i d \" : 1 0 7 9 6 9 , \" n a m e \" : \" m i k e b o d n a r \" , \" o r d e r \" : 6 1 } , { \" c a s t _ i d \" : 8 3 , \" c h a r a c t e r \" : \" r i c h a r d ( u n c r e d i t e d ) \" , \" c r e d i t _ i d \" : \" 5 2 f e 4 8 0 1 9 2 5 1 4 1 6 c 7 5 0 a c b 2 3 \" , \" g e n d e r \" : 0 , \" i d \" : 1 2 0 7 2 7 8 , \" n a m e \" : \" m a t t c l a y t o n \" , \" o r d e r \" : 6 2 } , { \" c a s t _ i d \" : 8 4 , \" c h a r a c t e r \" : \" n a v \\' i ( u n c r e d i t e d ) \" , \" c r e d i t _ i d \" : \" 5 2 f e 4 8 0 1 9 2 5 1 4 1 6 c 7 5 0 a c b 2 7 \" , \" g e n d e r \" : 1 , \" i d \" : 1 4 7 8 9 8 , \" n a m e \" : \" n i c o l e d i o n n e \" , \" o r d e r \" : 6 3 } , { \" c a s t _ i d \" : 8 5 , \" c h a r a c t e r \" : \" t r o o p e r ( u n c r e d i t e d ) \" , \" c r e d i t _ i d \" : \" 5 2 f e 4 8 0 1 9 2 5 1 4 1 6 c 7 5 0 a c b 2 b \" , \" g e n d e r \" : 0 , \" i d \" : 1 2 0 7 2 8 0 , \" n a m e \" : \" j a m i e h a r r i s o n \" , \" o r d e r \" : 6 4 } , { \" c a s t _ i d \" : 8 6 , \" c h a r a c t e r \" : \" t r o o p e r ( u n c r e d i t e d ) \" , \" c r e d i t _ i d \" : \" 5 2 f e 4 8 0 1 9 2 5 1 4 1 6 c 7 5 0 a c b 2 f \" , \" g e n d e r \" : 0 , \" i d \" : 1 2 0 7 2 8 1 , \" n a m e \" : \" a l l a n h e n r y \" , \" o r d e r \" : 6 5 } , { \" c a s t _ i d \" : 8 7 , \" c h a r a c t e r \" : \" g r o u n d t e c h n i c i a n ( u n c r e d i t e d ) \" , \" c r e d i t _ i d \" : \" 5 2 f e 4 8 0 1 9 2 5 1 4 1 6 c 7 5 0 a c b 3 3 \" , \" g e n d e r \" : 2 , \" i d \" : 1 2 0 7 2 8 2 , \" n a m e \" : \" a n t h o n y i n g r u b e r \" , \" o r d e r \" : 6 6 } , { \" c a s t _ i d \" : 8 8 , \" c h a r a c t e r \" : \" f l i g h t c r e w m e c h a n i c ( u n c r e d i t e d ) \" , \" c r e d i t _ i d \" : \" 5 2 f e 4 8 0 1 9 2 5 1 4 1 6 c 7 5 0 a c b 3 7 \" , \" g e n d e r \" : 0 , \" i d \" : 1 2 0 7 2 8 3 , \" n a m e \" : \" a s h l e y j e f f e r y \" , \" o r d e r \" : 6 7 } , { \" c a s t _ i d \" : 1 4 , \" c h a r a c t e r \" : \" s a m s o n p i l o t \" , \" c r e d i t _ i d \" : \" 5 2 f e 4 8 0 0 9 2 5 1 4 1 6 c 7 5 0 a c 9 f 9 \" , \" g e n d e r \" : 0 , \" i d \" : 9 8 2 1 6 , \" n a m e \" : \" d e a n k n o w s l e y \" , \" o r d e r \" : 6 8 } , { \" c a s t _ i d \" : 8 9 , \" c h a r a c t e r \" : \" t r o o p e r ( u n c r e d i t e d ) \" , \" c r e d i t _ i d \" : \" 5 2 f e 4 8 0 1 9 2 5 1 4 1 6 c 7 5 0 a c b 3 b \" , \" g e n d e r \" : 0 , \" i d \" : 1 2 0 1 3 9 9 , \" n a m e \" : \" j o s e p h m i k a - h u n t \" , \" o r d e r \" : 6 9 } , { \" c a s t _ i d \" : 9 0 , \" c h a r a c t e r \" : \" b a n s h e e ( u n c r e d i t e d ) \" , \" c r e d i t _ i d \" : \" 5 2 f e 4 8 0 1 9 2 5 1 4 1 6 c 7 5 0 a c b 3 f \" , \" g e n d e r \" : 0 , \" i d \" : 2 3 6 6 9 6 , \" n a m e \" : \" t e r r y n o t a r y \" , \" o r d e r \" : 7 0 } , { \" c a s t _ i d \" : 9 1 , \" c h a r a c t e r \" : \" s o l d i e r ( u n c r e d i t e d ) \" , \" c r e d i t _ i d \" : \" 5 2 f e 4 8 0 1 9 2 5 1 4 1 6 c 7 5 0 a c b 4 3 \" , \" g e n d e r \" : 0 , \" i d \" : 1 2 0 7 2 8 7 , \" n a m e \" : \" k a i p a n t a n o \" , \" o r d e r \" : 7 1 } , { \" c a s t _ i d \" : 9 2 , \" c h a r a c t e r \" : \" b l a s t t e c h n i c i a n ( u n c r e d i t e d ) \" , \" c r e d i t _ i d \" : \" 5 2 f e 4 8 0 1 9 2 5 1 4 1 6 c 7 5 0 a c b 4 7 \" , \" g e n d e r \" : 0 , \" i d \" : 1 2 0 7 2 8 8 , \" n a m e \" : \" l o g a n p i t h y o u \" , \" o r d e r \" : 7 2 } , { \" c a s t _ i d \" : 9 3 , \" c h a r a c t e r \" : \" v i n d u m r a a h ( u n c r e d i t e d ) \" , \" c r e d i t _ i d \" : \" 5 2 f e 4 8 0 1 9 2 5 1 4 1 6 c 7 5 0 a c b 4 b \" , \" g e n d e r \" : 0 , \" i d \" : 1 2 0 7 2 8 9 , \" n a m e \" : \" s t u a r t p o l l o c k \" , \" o r d e r \" : 7 3 } , { \" c a s t _ i d \" : 9 4 , \" c h a r a c t e r \" : \" h e r o ( u n c r e d i t e d ) \" , \" c r e d i t _ i d \" : \" 5 2 f e 4 8 0 1 9 2 5 1 4 1 6 c 7 5 0 a c b 4 f \" , \" g e n d e r \" : 0 , \" i d \" : 5 8 4 8 6 8 , \" n a m e \" : \" r a j a \" , \" o r d e r \" : 7 4 } , { \" c a s t _ i d \" : 9 5 , \" c h a r a c t e r \" : \" o p s c e n t r e w o r k e r ( u n c r e d i t e d ) \" , \" c r e d i t _ i d \" : \" 5 2 f e 4 8 0 1 9 2 5 1 4 1 6 c 7 5 0 a c b 5 3 \" , \" g e n d e r \" : 0 , \" i d \" : 1 2 0 7 2 9 0 , \" n a m e \" : \" g a r e t h r u c k \" , \" o r d e r \" : 7 5 } , { \" c a s t _ i d \" : 9 6 , \" c h a r a c t e r \" : \" e n g i n e e r ( u n c r e d i t e d ) \" , \" c r e d i t _ i d \" : \" 5 2 f e 4 8 0 1 9 2 5 1 4 1 6 c 7 5 0 a c b 5 7 \" , \" g e n d e r \" : 0 , \" i d \" : 1 0 6 2 4 6 3 , \" n a m e \" : \" r h i a n s h e e h a n \" , \" o r d e r \" : 7 6 } , { \" c a s t _ i d \" : 9 7 , \" c h a r a c t e r \" : \" c o l . q u a r i t c h \\' s m e c h s u i t ( u n c r e d i t e d ) \" , \" c r e d i t _ i d \" : \" 5 2 f e 4 8 0 1 9 2 5 1 4 1 6 c 7 5 0 a c b 5 b \" , \" g e n d e r \" : 0 , \" i d \" : 6 0 6 5 6 , \" n a m e \" : \" t . j . s t o r m \" , \" o r d e r \" : 7 7 } , { \" c a s t _ i d \" : 9 8 , \" c h a r a c t e r \" : \" f e m a l e m a r i n e ( u n c r e d i t e d ) \" , \" c r e d i t _ i d \" : \" 5 2 f e 4 8 0 1 9 2 5 1 4 1 6 c 7 5 0 a c b 5 f \" , \" g e n d e r \" : 0 , \" i d \" : 1 2 0 7 2 9 1 , \" n a m e \" : \" j o d i e t a y l o r \" , \" o r d e r \" : 7 8 } , { \" c a s t _ i d \" : 9 9 , \" c h a r a c t e r \" : \" i k r a n c l a n l e a d e r ( u n c r e d i t e d ) \" , \" c r e d i t _ i d \" : \" 5 2 f e 4 8 0 1 9 2 5 1 4 1 6 c 7 5 0 a c b 6 3 \" , \" g e n d e r \" : 1 , \" i d \" : 1 1 8 6 0 2 7 , \" n a m e \" : \" a l i c i a v e l a - b a i l e y \" , \" o r d e r \" : 7 9 } , { \" c a s t _ i d \" : 1 0 0 , \" c h a r a c t e r \" : \" g e o l o g i s t ( u n c r e d i t e d ) \" , \" c r e d i t _ i d \" : \" 5 2 f e 4 8 0 1 9 2 5 1 4 1 6 c 7 5 0 a c b 6 7 \" , \" g e n d e r \" : 0 , \" i d \" : 1 2 0 7 2 9 2 , \" n a m e \" : \" r i c h a r d w h i t e s i d e \" , \" o r d e r \" : 8 0 } , { \" c a s t _ i d \" : 1 0 1 , \" c h a r a c t e r \" : \" n a \\' v i ( u n c r e d i t e d ) \" , \" c r e d i t _ i d \" : \" 5 2 f e 4 8 0 1 9 2 5 1 4 1 6 c 7 5 0 a c b 6 b \" , \" g e n d e r \" : 0 , \" i d \" : 1 0 3 2 5 9 , \" n a m e \" : \" n i k i e z a m b o \" , \" o r d e r \" : 8 1 } , { \" c a s t _ i d \" : 1 0 2 , \" c h a r a c t e r \" : \" a m b i e n t r o o m t e c h / t r o u p e \" , \" c r e d i t _ i d \" : \" 5 2 f e 4 8 0 1 9 2 5 1 4 1 6 c 7 5 0 a c b 6 f \" , \" g e n d e r \" : 1 , \" i d \" : 4 2 2 8 6 , \" n a m e \" : \" j u l e n e r e n e e \" , \" o r d e r \" : 8 2 } ] [ { \" c r e d i t _ i d \" : \" 5 2 f e 4 8 0 0 9 2 5 1 4 1 6 c 7 5 0 a c a 2 3 \" , \" d e p a r t m e n t \" : \" e d i t i n g \" , \" g e n d e r \" : 0 , \" i d \" : 1 7 2 1 , \" j o b \" : \" e d i t o r \" , \" n a m e \" : \" s t e p h e n e . r i v k i n \" } , { \" c r e d i t _ i d \" : \" 5 3 9 c 4 7 e c c 3 a 3 6 8 1 0 e 3 0 0 1 f 8 7 \" , \" d e p a r t m e n t \" : \" a r t \" , \" g e n d e r \" : 2 , \" i d \" : 4 9 6 , \" j o b \" : \" p r o d u c t i o n d e s i g n \" , \" n a m e \" : \" r i c k c a r t e r \" } , { \" c r e d i t _ i d \" : \" 5 4 4 9 1 c 8 9 c 3 a 3 6 8 0 f b 4 0 0 1 c f 7 \" , \" d e p a r t m e n t \" : \" s o u n d \" , \" g e n d e r \" : 0 , \" i d \" : 9 0 0 , \" j o b \" : \" s o u n d d e s i g n e r \" , \" n a m e \" : \" c h r i s t o p h e r b o y e s \" } , { \" c r e d i t _ i d \" : \" 5 4 4 9 1 c b 7 0 e 0 a 2 6 7 4 8 0 0 0 1 b d 0 \" , \" d e p a r t m e n t \" : \" s o u n d \" , \" g e n d e r \" : 0 , \" i d \" : 9 0 0 , \" j o b \" : \" s u p e r v i s i n g s o u n d e d i t o r \" , \" n a m e \" : \" c h r i s t o p h e r b o y e s \" } , { \" c r e d i t _ i d \" : \" 5 3 9 c 4 a 4 c c 3 a 3 6 8 1 0 c 9 0 0 2 1 0 1 \" , \" d e p a r t m e n t \" : \" p r o d u c t i o n \" , \" g e n d e r \" : 1 , \" i d \" : 1 2 6 2 , \" j o b \" : \" c a s t i n g \" , \" n a m e \" : \" m a l i f i n n \" } , { \" c r e d i t _ i d \" : \" 5 5 4 4 e e 3 b 9 2 5 1 4 1 4 9 9 f 0 0 0 8 f c \" , \" d e p a r t m e n t \" : \" s o u n d \" , \" g e n d e r \" : 2 , \" i d \" : 1 7 2 9 , \" j o b \" : \" o r i g i n a l m u s i c c o m p o s e r \" , \" n a m e \" : \" j a m e s h o r n e r \" } , { \" c r e d i t _ i d \" : \" 5 2 f e 4 8 0 0 9 2 5 1 4 1 6 c 7 5 0 a c 9 c 3 \" , \" d e p a r t m e n t \" : \" d i r e c t i n g \" , \" g e n d e r \" : 2 , \" i d \" : 2 7 1 0 , \" j o b \" : \" d i r e c t o r \" , \" n a m e \" : \" j a m e s c a m e r o n \" } , { \" c r e d i t _ i d \" : \" 5 2 f e 4 8 0 0 9 2 5 1 4 1 6 c 7 5 0 a c 9 d 9 \" , \" d e p a r t m e n t \" : \" w r i t i n g \" , \" g e n d e r \" : 2 , \" i d \" : 2 7 1 0 , \" j o b \" : \" w r i t e r \" , \" n a m e \" : \" j a m e s c a m e r o n \" } , { \" c r e d i t _ i d \" : \" 5 2 f e 4 8 0 0 9 2 5 1 4 1 6 c 7 5 0 a c a 1 7 \" , \" d e p a r t m e n t \" : \" e d i t i n g \" , \" g e n d e r \" : 2 , \" i d \" : 2 7 1 0 , \" j o b \" : \" e d i t o r \" , \" n a m e \" : \" j a m e s c a m e r o n \" } , { \" c r e d i t _ i d \" : \" 5 2 f e 4 8 0 0 9 2 5 1 4 1 6 c 7 5 0 a c a 2 9 \" , \" d e p a r t m e n t \" : \" p r o d u c t i o n \" , \" g e n d e r \" : 2 , \" i d \" : 2 7 1 0 , \" j o b \" : \" p r o d u c e r \" , \" n a m e \" : \" j a m e s c a m e r o n \" } , { \" c r e d i t _ i d \" : \" 5 2 f e 4 8 0 0 9 2 5 1 4 1 6 c 7 5 0 a c a 3 f \" , \" d e p a r t m e n t \" : \" w r i t i n g \" , \" g e n d e r \" : 2 , \" i d \" : 2 7 1 0 , \" j o b \" : \" s c r e e n p l a y \" , \" n a m e \" : \" j a m e s c a m e r o n \" } , { \" c r e d i t _ i d \" : \" 5 3 9 c 4 9 8 7 c 3 a 3 6 8 1 0 b a 0 0 2 1 a 4 \" , \" d e p a r t m e n t \" : \" a r t \" , \" g e n d e r \" : 2 , \" i d \" : 7 2 3 6 , \" j o b \" : \" a r t d i r e c t i o n \" , \" n a m e \" : \" a n d r e w m e n z i e s \" } , { \" c r e d i t _ i d \" : \" 5 4 9 5 9 8 c 3 c 3 a 3 6 8 6 a e 9 0 0 4 3 8 3 \" , \" d e p a r t m e n t \" : \" v i s u a l e f f e c t s \" , \" g e n d e r \" : 0 , \" i d \" : 6 6 9 0 , \" j o b \" : \" v i s u a l e f f e c t s p r o d u c e r \" , \" n a m e \" : \" j i l l b r o o k s \" } , { \" c r e d i t _ i d \" : \" 5 2 f e 4 8 0 0 9 2 5 1 4 1 6 c 7 5 0 a c a 4 b \" , \" d e p a r t m e n t \" : \" p r o d u c t i o n \" , \" g e n d e r \" : 1 , \" i d \" : 6 3 4 7 , \" j o b \" : \" c a s t i n g \" , \" n a m e \" : \" m a r g e r y s i m k i n \" } , { \" c r e d i t _ i d \" : \" 5 7 0 b 6 f 4 1 9 2 5 1 4 1 7 d a 7 0 0 3 2 f e \" , \" d e p a r t m e n t \" : \" a r t \" , \" g e n d e r \" : 2 , \" i d \" : 6 8 7 8 , \" j o b \" : \" s u p e r v i s i n g a r t d i r e c t o r \" , \" n a m e \" : \" k e v i n i s h i o k a \" } , { \" c r e d i t _ i d \" : \" 5 4 9 5 a 0 f a c 3 a 3 6 8 6 a e 9 0 0 4 4 6 8 \" , \" d e p a r t m e n t \" : \" s o u n d \" , \" g e n d e r \" : 0 , \" i d \" : 6 8 8 3 , \" j o b \" : \" m u s i c e d i t o r \" , \" n a m e \" : \" d i c k b e r n s t e i n \" } , { \" c r e d i t _ i d \" : \" 5 4 9 5 9 7 0 6 c 3 a 3 6 8 6 a f 3 0 0 3 e 8 1 \" , \" d e p a r t m e n t \" : \" s o u n d \" , \" g e n d e r \" : 0 , \" i d \" : 8 1 5 9 , \" j o b \" : \" s o u n d e f f e c t s e d i t o r \" , \" n a m e \" : \" s h a n n o n m i l l s \" } , { \" c r e d i t _ i d \" : \" 5 4 4 9 1 d 5 8 c 3 a 3 6 8 0 f b 1 0 0 1 c c b \" , \" d e p a r t m e n t \" : \" s o u n d \" , \" g e n d e r \" : 0 , \" i d \" : 8 1 6 0 , \" j o b \" : \" f o l e y \" , \" n a m e \" : \" d e n n i e t h o r p e \" } , { \" c r e d i t _ i d \" : \" 5 4 4 9 1 d 6 c c 3 a 3 6 8 0 f a 5 0 0 1 b 2 c \" , \" d e p a r t m e n t \" : \" s o u n d \" , \" g e n d e r \" : 0 , \" i d \" : 8 1 6 3 , \" j o b \" : \" f o l e y \" , \" n a m e \" : \" j a n a v a n c e \" } , { \" c r e d i t _ i d \" : \" 5 2 f e 4 8 0 0 9 2 5 1 4 1 6 c 7 5 0 a c a 5 7 \" , \" d e p a r t m e n t \" : \" c o s t u m e & m a k e - u p \" , \" g e n d e r \" : 1 , \" i d \" : 8 5 2 7 , \" j o b \" : \" c o s t u m e d e s i g n \" , \" n a m e \" : \" d e b o r a h l y n n s c o t t \" } , { \" c r e d i t _ i d \" : \" 5 2 f e 4 8 0 0 9 2 5 1 4 1 6 c 7 5 0 a c a 2 f \" , \" d e p a r t m e n t \" : \" p r o d u c t i o n \" , \" g e n d e r \" : 2 , \" i d \" : 8 5 2 9 , \" j o b \" : \" p r o d u c e r \" , \" n a m e \" : \" j o n l a n d a u \" } , { \" c r e d i t _ i d \" : \" 5 3 9 c 4 9 3 7 c 3 a 3 6 8 1 0 b a 0 0 2 1 9 4 \" , \" d e p a r t m e n t \" : \" a r t \" , \" g e n d e r \" : 0 , \" i d \" : 9 6 1 8 , \" j o b \" : \" a r t d i r e c t i o n \" , \" n a m e \" : \" s e a n h a w o r t h \" } , { \" c r e d i t _ i d \" : \" 5 3 9 c 4 9 b 6 c 3 a 3 6 8 1 0 c 1 0 0 2 0 e 6 \" , \" d e p a r t m e n t \" : \" a r t \" , \" g e n d e r \" : 1 , \" i d \" : 1 2 6 5 3 , \" j o b \" : \" s e t d e c o r a t i o n \" , \" n a m e \" : \" k i m s i n c l a i r \" } , { \" c r e d i t _ i d \" : \" 5 7 0 b 6 f 2 f 9 2 5 1 4 1 3 a 0 e 0 0 0 2 0 d \" , \" d e p a r t m e n t \" : \" a r t \" , \" g e n d e r \" : 1 , \" i d \" : 1 2 6 5 3 , \" j o b \" : \" s u p e r v i s i n g a r t d i r e c t o r \" , \" n a m e \" : \" k i m s i n c l a i r \" } , { \" c r e d i t _ i d \" : \" 5 4 4 9 1 a 6 c 0 e 0 a 2 6 7 4 8 c 0 0 1 b 1 9 \" , \" d e p a r t m e n t \" : \" a r t \" , \" g e n d e r \" : 2 , \" i d \" : 1 4 3 5 0 , \" j o b \" : \" s e t d e s i g n e r \" , \" n a m e \" : \" r i c h a r d f . m a y s \" } , { \" c r e d i t _ i d \" : \" 5 6 9 2 8 c f 4 c 3 a 3 6 8 4 c f f 0 0 2 5 c 4 \" , \" d e p a r t m e n t \" : \" p r o d u c t i o n \" , \" g e n d e r \" : 1 , \" i d \" : 2 0 2 9 4 , \" j o b \" : \" e x e c u t i v e p r o d u c e r \" , \" n a m e \" : \" l a e t a k a l o g r i d i s \" } , { \" c r e d i t _ i d \" : \" 5 2 f e 4 8 0 0 9 2 5 1 4 1 6 c 7 5 0 a c a 5 1 \" , \" d e p a r t m e n t \" : \" c o s t u m e & m a k e - u p \" , \" g e n d e r \" : 0 , \" i d \" : 1 7 6 7 5 , \" j o b \" : \" c o s t u m e d e s i g n \" , \" n a m e \" : \" m a y e s c . r u b e o \" } , { \" c r e d i t _ i d \" : \" 5 2 f e 4 8 0 0 9 2 5 1 4 1 6 c 7 5 0 a c a 1 1 \" , \" d e p a r t m e n t \" : \" c a m e r a \" , \" g e n d e r \" : 2 , \" i d \" : 1 8 2 6 5 , \" j o b \" : \" d i r e c t o r o f p h o t o g r a p h y \" , \" n a m e \" : \" m a u r o f i o r e \" } , { \" c r e d i t _ i d \" : \" 5 4 4 9 1 9 4 d 0 e 0 a 2 6 7 4 8 f 0 0 1 b 3 9 \" , \" d e p a r t m e n t \" : \" a r t \" , \" g e n d e r \" : 0 , \" i d \" : 4 2 2 8 1 , \" j o b \" : \" s e t d e s i g n e r \" , \" n a m e \" : \" s c o t t h e r b e r t s o n \" } , { \" c r e d i t _ i d \" : \" 5 2 f e 4 8 0 0 9 2 5 1 4 1 6 c 7 5 0 a c a 0 5 \" , \" d e p a r t m e n t \" : \" c r e w \" , \" g e n d e r \" : 0 , \" i d \" : 4 2 2 8 8 , \" j o b \" : \" s t u n t s \" , \" n a m e \" : \" w o o d y s c h u l t z \" } , { \" c r e d i t _ i d \" : \" 5 5 9 2 a e f b 9 2 5 1 4 1 5 2 d e 0 0 1 0 f 5 \" , \" d e p a r t m e n t \" : \" c o s t u m e & m a k e - u p \" , \" g e n d e r \" : 0 , \" i d \" : 2 9 0 6 7 , \" j o b \" : \" m a k e u p a r t i s t \" , \" n a m e \" : \" l i n d a d e v e t t a \" } , { \" c r e d i t _ i d \" : \" 5 5 9 2 a f a 4 9 2 5 1 4 1 5 2 d e 0 0 1 1 2 c \" , \" d e p a r t m e n t \" : \" c o s t u m e & m a k e - u p \" , \" g e n d e r \" : 0 , \" i d \" : 2 9 0 6 7 , \" j o b \" : \" h a i r s t y l i s t \" , \" n a m e \" : \" l i n d a d e v e t t a \" } , { \" c r e d i t _ i d \" : \" 5 4 9 5 9 e d 5 9 2 5 1 4 1 3 0 f c 0 0 2 e 5 d \" , \" d e p a r t m e n t \" : \" c a m e r a \" , \" g e n d e r \" : 2 , \" i d \" : 3 3 3 0 2 , \" j o b \" : \" c a m e r a o p e r a t o r \" , \" n a m e \" : \" r i c h a r d b l u c k \" } , { \" c r e d i t _ i d \" : \" 5 3 9 c 4 8 9 1 c 3 a 3 6 8 1 0 b a 0 0 2 1 4 7 \" , \" d e p a r t m e n t \" : \" a r t \" , \" g e n d e r \" : 2 , \" i d \" : 3 3 3 0 3 , \" j o b \" : \" a r t d i r e c t i o n \" , \" n a m e \" : \" s i m o n b r i g h t \" } , { \" c r e d i t _ i d \" : \" 5 4 9 5 9 c 0 6 9 2 5 1 4 1 7 a 8 1 0 0 1 f 3 a \" , \" d e p a r t m e n t \" : \" v i s u a l e f f e c t s \" , \" g e n d e r \" : 0 , \" i d \" : 1 1 3 1 4 5 , \" j o b \" : \" v i s u a l e f f e c t s s u p e r v i s o r \" , \" n a m e \" : \" r i c h a r d m a r t i n \" } , { \" c r e d i t _ i d \" : \" 5 4 9 5 9 a 0 d c 3 a 3 6 8 0 f f 5 0 0 2 c 8 d \" , \" d e p a r t m e n t \" : \" c r e w \" , \" g e n d e r \" : 2 , \" i d \" : 5 8 1 8 8 , \" j o b \" : \" v i s u a l e f f e c t s e d i t o r \" , \" n a m e \" : \" s t e v e r . m o o r e \" } , { \" c r e d i t _ i d \" : \" 5 2 f e 4 8 0 0 9 2 5 1 4 1 6 c 7 5 0 a c a 1 d \" , \" d e p a r t m e n t \" : \" e d i t i n g \" , \" g e n d e r \" : 2 , \" i d \" : 5 8 8 7 1 , \" j o b \" : \" e d i t o r \" , \" n a m e \" : \" j o h n r e f o u a \" } , { \" c r e d i t _ i d \" : \" 5 4 4 9 1 a 4 d c 3 a 3 6 8 0 f c 3 0 0 1 8 c a \" , \" d e p a r t m e n t \" : \" a r t \" , \" g e n d e r \" : 0 , \" i d \" : 9 2 3 5 9 , \" j o b \" : \" s e t d e s i g n e r \" , \" n a m e \" : \" k a r l j . m a r t i n \" } , { \" c r e d i t _ i d \" : \" 5 2 f e 4 8 0 0 9 2 5 1 4 1 6 c 7 5 0 a c a 3 5 \" , \" d e p a r t m e n t \" : \" c a m e r a \" , \" g e n d e r \" : 1 , \" i d \" : 7 2 2 0 1 , \" j o b \" : \" d i r e c t o r o f p h o t o g r a p h y \" , \" n a m e \" : \" c h i l i n g l i n \" } , { \" c r e d i t _ i d \" : \" 5 2 f e 4 8 0 0 9 2 5 1 4 1 6 c 7 5 0 a c 9 f f \" , \" d e p a r t m e n t \" : \" c r e w \" , \" g e n d e r \" : 0 , \" i d \" : 8 9 7 1 4 , \" j o b \" : \" s t u n t s \" , \" n a m e \" : \" i l r a m c h o i \" } , { \" c r e d i t _ i d \" : \" 5 4 9 5 9 c 5 2 9 2 5 1 4 1 6 e 2 b 0 0 4 3 9 4 \" , \" d e p a r t m e n t \" : \" v i s u a l e f f e c t s \" , \" g e n d e r \" : 2 , \" i d \" : 9 3 2 1 4 , \" j o b \" : \" v i s u a l e f f e c t s s u p e r v i s o r \" , \" n a m e \" : \" s t e v e n q u a l e \" } , { \" c r e d i t _ i d \" : \" 5 4 4 9 1 e d f 0 e 0 a 2 6 7 4 8 9 0 0 1 c 3 7 \" , \" d e p a r t m e n t \" : \" c r e w \" , \" g e n d e r \" : 1 , \" i d \" : 1 2 2 6 0 7 , \" j o b \" : \" d i a l e c t c o a c h \" , \" n a m e \" : \" c a r l a m e y e r \" } , { \" c r e d i t _ i d \" : \" 5 3 9 c 4 8 5 b c 3 a 3 6 8 6 5 3 d 0 0 1 a 3 a \" , \" d e p a r t m e n t \" : \" a r t \" , \" g e n d e r \" : 2 , \" i d \" : 1 3 2 5 8 5 , \" j o b \" : \" a r t d i r e c t i o n \" , \" n a m e \" : \" n i c k b a s s e t t \" } , { \" c r e d i t _ i d \" : \" 5 3 9 c 4 9 0 3 c 3 a 3 6 8 6 5 3 d 0 0 1 a 7 4 \" , \" d e p a r t m e n t \" : \" a r t \" , \" g e n d e r \" : 0 , \" i d \" : 1 3 2 5 9 6 , \" j o b \" : \" a r t d i r e c t i o n \" , \" n a m e \" : \" j i l l c o r m a c k \" } , { \" c r e d i t _ i d \" : \" 5 3 9 c 4 9 6 7 c 3 a 3 6 8 6 5 3 d 0 0 1 a 9 4 \" , \" d e p a r t m e n t \" : \" a r t \" , \" g e n d e r \" : 0 , \" i d \" : 1 3 2 6 0 4 , \" j o b \" : \" a r t d i r e c t i o n \" , \" n a m e \" : \" a n d y m c l a r e n \" } , { \" c r e d i t _ i d \" : \" 5 2 f e 4 8 0 0 9 2 5 1 4 1 6 c 7 5 0 a c a 4 5 \" , \" d e p a r t m e n t \" : \" c r e w \" , \" g e n d e r \" : 0 , \" i d \" : 2 3 6 6 9 6 , \" j o b \" : \" m o t i o n c a p t u r e a r t i s t \" , \" n a m e \" : \" t e r r y n o t a r y \" } , { \" c r e d i t _ i d \" : \" 5 4 9 5 9 e 0 2 c 3 a 3 6 8 0 f c 6 0 0 2 7 d 2 \" , \" d e p a r t m e n t \" : \" c r e w \" , \" g e n d e r \" : 2 , \" i d \" : 9 5 6 1 9 8 , \" j o b \" : \" s t u n t c o o r d i n a t o r \" , \" n a m e \" : \" g a r r e t t w a r r e n \" } , { \" c r e d i t _ i d \" : \" 5 4 9 5 9 c a 3 c 3 a 3 6 8 6 a e 3 0 0 4 3 8 c \" , \" d e p a r t m e n t \" : \" v i s u a l e f f e c t s \" , \" g e n d e r \" : 2 , \" i d \" : 9 5 7 8 7 4 , \" j o b \" : \" v i s u a l e f f e c t s s u p e r v i s o r \" , \" n a m e \" : \" j o n a t h a n r o t h b a r t \" } , { \" c r e d i t _ i d \" : \" 5 7 0 b 6 f 5 1 9 2 5 1 4 1 2 c 7 4 0 0 1 b 2 f \" , \" d e p a r t m e n t \" : \" a r t \" , \" g e n d e r \" : 0 , \" i d \" : 9 5 7 8 8 9 , \" j o b \" : \" s u p e r v i s i n g a r t d i r e c t o r \" , \" n a m e \" : \" s t e f a n d e c h a n t \" } , { \" c r e d i t _ i d \" : \" 5 7 0 b 6 f 6 2 c 3 a 3 6 8 0 b 7 7 0 0 7 4 6 0 \" , \" d e p a r t m e n t \" : \" a r t \" , \" g e n d e r \" : 2 , \" i d \" : 9 5 9 5 5 5 , \" j o b \" : \" s u p e r v i s i n g a r t d i r e c t o r \" , \" n a m e \" : \" t o d d c h e r n i a w s k y \" } , { \" c r e d i t _ i d \" : \" 5 3 9 c 4 a 3 a c 3 a 3 6 8 1 0 d a 0 0 2 1 c c \" , \" d e p a r t m e n t \" : \" p r o d u c t i o n \" , \" g e n d e r \" : 0 , \" i d \" : 1 0 1 6 1 7 7 , \" j o b \" : \" c a s t i n g \" , \" n a m e \" : \" m i r a n d a r i v e r s \" } , { \" c r e d i t _ i d \" : \" 5 3 9 c 4 8 2 c c 3 a 3 6 8 1 0 c 1 0 0 2 0 6 2 \" , \" d e p a r t m e n t \" : \" a r t \" , \" g e n d e r \" : 0 , \" i d \" : 1 0 3 2 5 3 6 , \" j o b \" : \" p r o d u c t i o n d e s i g n \" , \" n a m e \" : \" r o b e r t s t r o m b e r g \" } , { \" c r e d i t _ i d \" : \" 5 3 9 c 4 b 6 5 c 3 a 3 6 8 1 0 c 9 0 0 2 1 2 5 \" , \" d e p a r t m e n t \" : \" c o s t u m e & m a k e - u p \" , \" g e n d e r \" : 2 , \" i d \" : 1 0 7 1 6 8 0 , \" j o b \" : \" c o s t u m e d e s i g n \" , \" n a m e \" : \" j o h n h a r d i n g \" } , { \" c r e d i t _ i d \" : \" 5 4 9 5 9 e 6 6 9 2 5 1 4 1 3 0 f c 0 0 2 e 4 e \" , \" d e p a r t m e n t \" : \" c a m e r a \" , \" g e n d e r \" : 0 , \" i d \" : 1 1 7 7 3 6 4 , \" j o b \" : \" s t e a d i c a m o p e r a t o r \" , \" n a m e \" : \" r o b e r t o d e a n g e l i s \" } , { \" c r e d i t _ i d \" : \" 5 3 9 c 4 9 f 1 c 3 a 3 6 8 6 5 3 d 0 0 1 a a c \" , \" d e p a r t m e n t \" : \" c o s t u m e & m a k e - u p \" , \" g e n d e r \" : 2 , \" i d \" : 1 2 0 2 8 5 0 , \" j o b \" : \" m a k e u p d e p a r t m e n t h e a d \" , \" n a m e \" : \" m i k e s m i t h s o n \" } , { \" c r e d i t _ i d \" : \" 5 4 9 5 9 9 9 e c 3 a 3 6 8 6 a e 1 0 0 4 6 0 c \" , \" d e p a r t m e n t \" : \" v i s u a l e f f e c t s \" , \" g e n d e r \" : 0 , \" i d \" : 1 2 0 4 6 6 8 , \" j o b \" : \" v i s u a l e f f e c t s p r o d u c e r \" , \" n a m e \" : \" a l a i n l a l a n n e \" } , { \" c r e d i t _ i d \" : \" 5 4 9 5 9 c d f c 3 a 3 6 8 1 1 5 3 0 0 2 7 2 9 \" , \" d e p a r t m e n t \" : \" v i s u a l e f f e c t s \" , \" g e n d e r \" : 0 , \" i d \" : 1 2 0 6 4 1 0 , \" j o b \" : \" v i s u a l e f f e c t s s u p e r v i s o r \" , \" n a m e \" : \" l u c a s s a l t o n \" } , { \" c r e d i t _ i d \" : \" 5 4 9 5 9 6 2 3 9 2 5 1 4 1 7 a 8 1 0 0 1 e a e \" , \" d e p a r t m e n t \" : \" c r e w \" , \" g e n d e r \" : 0 , \" i d \" : 1 2 3 4 2 6 6 , \" j o b \" : \" p o s t p r o d u c t i o n s u p e r v i s o r \" , \" n a m e \" : \" j a n a c e t a s h j i a n \" } , { \" c r e d i t _ i d \" : \" 5 4 9 5 9 c 8 5 9 2 5 1 4 1 6 e 1 e 0 0 3 e f e \" , \" d e p a r t m e n t \" : \" v i s u a l e f f e c t s \" , \" g e n d e r \" : 0 , \" i d \" : 1 2 7 1 9 3 2 , \" j o b \" : \" v i s u a l e f f e c t s s u p e r v i s o r \" , \" n a m e \" : \" s t e p h e n r o s e n b a u m \" } , { \" c r e d i t _ i d \" : \" 5 5 9 2 a f 2 8 c 3 a 3 6 8 7 7 5 a 0 0 1 0 5 f \" , \" d e p a r t m e n t \" : \" c o s t u m e & m a k e - u p \" , \" g e n d e r \" : 0 , \" i d \" : 1 3 1 0 0 6 4 , \" j o b \" : \" m a k e u p a r t i s t \" , \" n a m e \" : \" f r a n k i e k a r e n a \" } , { \" c r e d i t _ i d \" : \" 5 3 9 c 4 a d f c 3 a 3 6 8 1 0 e 3 0 0 2 0 3 b \" , \" d e p a r t m e n t \" : \" c o s t u m e & m a k e - u p \" , \" g e n d e r \" : 1 , \" i d \" : 1 3 1 9 8 4 4 , \" j o b \" : \" c o s t u m e s u p e r v i s o r \" , \" n a m e \" : \" l i s a l o v a a s \" } , { \" c r e d i t _ i d \" : \" 5 4 9 5 9 b 5 7 9 2 5 1 4 1 6 e 2 b 0 0 4 3 7 1 \" , \" d e p a r t m e n t \" : \" v i s u a l e f f e c t s \" , \" g e n d e r \" : 0 , \" i d \" : 1 3 2 7 0 2 8 , \" j o b \" : \" v i s u a l e f f e c t s s u p e r v i s o r \" , \" n a m e \" : \" j o n a t h a n f a w k n e r \" } , { \" c r e d i t _ i d \" : \" 5 3 9 c 4 8 a 7 c 3 a 3 6 8 1 0 b 5 0 0 1 f a 7 \" , \" d e p a r t m e n t \" : \" a r t \" , \" g e n d e r \" : 0 , \" i d \" : 1 3 3 0 5 6 1 , \" j o b \" : \" a r t d i r e c t i o n \" , \" n a m e \" : \" r o b e r t b a v i n \" } , { \" c r e d i t _ i d \" : \" 5 3 9 c 4 a 7 1 c 3 a 3 6 8 1 0 d a 0 0 2 1 e 0 \" , \" d e p a r t m e n t \" : \" c o s t u m e & m a k e - u p \" , \" g e n d e r \" : 0 , \" i d \" : 1 3 3 0 5 6 7 , \" j o b \" : \" c o s t u m e s u p e r v i s o r \" , \" n a m e \" : \" a n t h o n y a l m a r a z \" } , { \" c r e d i t _ i d \" : \" 5 3 9 c 4 a 8 a c 3 a 3 6 8 1 0 b a 0 0 2 1 e 4 \" , \" d e p a r t m e n t \" : \" c o s t u m e & m a k e - u p \" , \" g e n d e r \" : 0 , \" i d \" : 1 3 3 0 5 7 0 , \" j o b \" : \" c o s t u m e s u p e r v i s o r \" , \" n a m e \" : \" c a r o l y n m . f e n t o n \" } , { \" c r e d i t _ i d \" : \" 5 3 9 c 4 a b 6 c 3 a 3 6 8 1 0 d a 0 0 2 1 f 0 \" , \" d e p a r t m e n t \" : \" c o s t u m e & m a k e - u p \" , \" g e n d e r \" : 0 , \" i d \" : 1 3 3 0 5 7 4 , \" j o b \" : \" c o s t u m e s u p e r v i s o r \" , \" n a m e \" : \" b e t h k o e n i g s b e r g \" } , { \" c r e d i t _ i d \" : \" 5 4 4 9 1 a b 7 0 e 0 a 2 6 7 4 8 0 0 0 1 b a 2 \" , \" d e p a r t m e n t \" : \" a r t \" , \" g e n d e r \" : 0 , \" i d \" : 1 3 3 6 1 9 1 , \" j o b \" : \" s e t d e s i g n e r \" , \" n a m e \" : \" s a m p a g e \" } , { \" c r e d i t _ i d \" : \" 5 4 4 9 1 9 d 9 c 3 a 3 6 8 0 f c 3 0 0 1 8 b d \" , \" d e p a r t m e n t \" : \" a r t \" , \" g e n d e r \" : 0 , \" i d \" : 1 3 3 9 4 4 1 , \" j o b \" : \" s e t d e s i g n e r \" , \" n a m e \" : \" t e x k a d o n a g a \" } , { \" c r e d i t _ i d \" : \" 5 4 4 9 1 c f 5 0 e 0 a 2 6 7 4 8 3 0 0 1 b 0 c \" , \" d e p a r t m e n t \" : \" e d i t i n g \" , \" g e n d e r \" : 0 , \" i d \" : 1 3 5 2 4 2 2 , \" j o b \" : \" d i a l o g u e e d i t o r \" , \" n a m e \" : \" k i m f o s c a t o \" } , { \" c r e d i t _ i d \" : \" 5 4 4 9 1 9 f 4 0 e 0 a 2 6 7 4 8 c 0 0 1 b 0 9 \" , \" d e p a r t m e n t \" : \" a r t \" , \" g e n d e r \" : 0 , \" i d \" : 1 3 5 2 9 6 2 , \" j o b \" : \" s e t d e s i g n e r \" , \" n a m e \" : \" t a m m y s . l e e \" } , { \" c r e d i t _ i d \" : \" 5 4 9 5 a 1 1 5 c 3 a 3 6 8 0 f f 5 0 0 2 d 7 1 \" , \" d e p a r t m e n t \" : \" c r e w \" , \" g e n d e r \" : 0 , \" i d \" : 1 3 5 7 0 7 0 , \" j o b \" : \" t r a n s p o r t a t i o n c o o r d i n a t o r \" , \" n a m e \" : \" d e n n y c a i r a \" } , { \" c r e d i t _ i d \" : \" 5 4 9 5 a 1 2 f 9 2 5 1 4 1 3 0 f c 0 0 2 e 9 4 \" , \" d e p a r t m e n t \" : \" c r e w \" , \" g e n d e r \" : 0 , \" i d \" : 1 3 5 7 0 7 1 , \" j o b \" : \" t r a n s p o r t a t i o n c o o r d i n a t o r \" , \" n a m e \" : \" j a m e s w a i t k u s \" } , { \" c r e d i t _ i d \" : \" 5 4 9 5 9 7 6 f c 3 a 3 6 8 1 1 5 3 0 0 2 6 b 0 \" , \" d e p a r t m e n t \" : \" s o u n d \" , \" g e n d e r \" : 0 , \" i d \" : 1 3 6 0 1 0 3 , \" j o b \" : \" s u p e r v i s i n g s o u n d e d i t o r \" , \" n a m e \" : \" a d d i s o n t e a g u e \" } , { \" c r e d i t _ i d \" : \" 5 4 4 9 1 8 3 7 c 3 a 3 6 8 0 f b 1 0 0 1 c 5 a \" , \" d e p a r t m e n t \" : \" a r t \" , \" g e n d e r \" : 2 , \" i d \" : 1 3 7 6 8 8 7 , \" j o b \" : \" s e t d e s i g n e r \" , \" n a m e \" : \" c . s c o t t b a k e r \" } , { \" c r e d i t _ i d \" : \" 5 4 4 9 1 8 7 8 c 3 a 3 6 8 0 f b 4 0 0 1 c 9 d \" , \" d e p a r t m e n t \" : \" a r t \" , \" g e n d e r \" : 0 , \" i d \" : 1 3 7 6 8 8 8 , \" j o b \" : \" s e t d e s i g n e r \" , \" n a m e \" : \" l u k e c a s k a \" } , { \" c r e d i t _ i d \" : \" 5 4 4 9 1 8 d a c 3 a 3 6 8 0 f a 5 0 0 1 a e 0 \" , \" d e p a r t m e n t \" : \" a r t \" , \" g e n d e r \" : 0 , \" i d \" : 1 3 7 6 8 8 9 , \" j o b \" : \" s e t d e s i g n e r \" , \" n a m e \" : \" d a v i d c h o w \" } , { \" c r e d i t _ i d \" : \" 5 4 4 9 1 9 1 1 0 e 0 a 2 6 7 4 8 6 0 0 1 b 6 8 \" , \" d e p a r t m e n t \" : \" a r t \" , \" g e n d e r \" : 0 , \" i d \" : 1 3 7 6 8 9 0 , \" j o b \" : \" s e t d e s i g n e r \" , \" n a m e \" : \" j o n a t h a n d y e r \" } , { \" c r e d i t _ i d \" : \" 5 4 4 9 1 9 6 7 c 3 a 3 6 8 0 f a a 0 0 1 b 5 e \" , \" d e p a r t m e n t \" : \" a r t \" , \" g e n d e r \" : 0 , \" i d \" : 1 3 7 6 8 9 1 , \" j o b \" : \" s e t d e s i g n e r \" , \" n a m e \" : \" j o s e p h h i u r a \" } , { \" c r e d i t _ i d \" : \" 5 4 4 9 1 9 9 7 c 3 a 3 6 8 0 f b 1 0 0 1 c 8 a \" , \" d e p a r t m e n t \" : \" a r t \" , \" g e n d e r \" : 0 , \" i d \" : 1 3 7 6 8 9 2 , \" j o b \" : \" a r t d e p a r t m e n t c o o r d i n a t o r \" , \" n a m e \" : \" r e b e c c a j e l l i e \" } , { \" c r e d i t _ i d \" : \" 5 4 4 9 1 9 b a 0 e 0 a 2 6 7 4 8 f 0 0 1 b 4 2 \" , \" d e p a r t m e n t \" : \" a r t \" , \" g e n d e r \" : 0 , \" i d \" : 1 3 7 6 8 9 3 , \" j o b \" : \" s e t d e s i g n e r \" , \" n a m e \" : \" r o b e r t a n d r e w j o h n s o n \" } , { \" c r e d i t _ i d \" : \" 5 4 4 9 1 b 1 d c 3 a 3 6 8 0 f a a 0 0 1 b 8 c \" , \" d e p a r t m e n t \" : \" a r t \" , \" g e n d e r \" : 0 , \" i d \" : 1 3 7 6 8 9 5 , \" j o b \" : \" a s s i s t a n t a r t d i r e c t o r \" , \" n a m e \" : \" m i k e s t a s s i \" } , { \" c r e d i t _ i d \" : \" 5 4 4 9 1 b 7 9 c 3 a 3 6 8 0 f b b 0 0 1 8 2 6 \" , \" d e p a r t m e n t \" : \" a r t \" , \" g e n d e r \" : 0 , \" i d \" : 1 3 7 6 8 9 7 , \" j o b \" : \" c o n s t r u c t i o n c o o r d i n a t o r \" , \" n a m e \" : \" j o h n v i l l a r i n o \" } , { \" c r e d i t _ i d \" : \" 5 4 4 9 1 b a e c 3 a 3 6 8 0 f b 4 0 0 1 c e 6 \" , \" d e p a r t m e n t \" : \" a r t \" , \" g e n d e r \" : 2 , \" i d \" : 1 3 7 6 8 9 8 , \" j o b \" : \" a s s i s t a n t a r t d i r e c t o r \" , \" n a m e \" : \" j e f f r e y w i s n i e w s k i \" } , { \" c r e d i t _ i d \" : \" 5 4 4 9 1 d 2 f c 3 a 3 6 8 0 f b 4 0 0 1 d 0 7 \" , \" d e p a r t m e n t \" : \" e d i t i n g \" , \" g e n d e r \" : 0 , \" i d \" : 1 3 7 6 8 9 9 , \" j o b \" : \" d i a l o g u e e d i t o r \" , \" n a m e \" : \" c h e r y l n a r d i \" } , { \" c r e d i t _ i d \" : \" 5 4 4 9 1 d 8 6 c 3 a 3 6 8 0 f a 5 0 0 1 b 2 f \" , \" d e p a r t m e n t \" : \" e d i t i n g \" , \" g e n d e r \" : 0 , \" i d \" : 1 3 7 6 9 0 1 , \" j o b \" : \" d i a l o g u e e d i t o r \" , \" n a m e \" : \" m a r s h a l l w i n n \" } , { \" c r e d i t _ i d \" : \" 5 4 4 9 1 d 9 d c 3 a 3 6 8 0 f a a 0 0 1 b b 0 \" , \" d e p a r t m e n t \" : \" s o u n d \" , \" g e n d e r \" : 0 , \" i d \" : 1 3 7 6 9 0 2 , \" j o b \" : \" s u p e r v i s i n g s o u n d e d i t o r \" , \" n a m e \" : \" g w e n d o l y n y a t e s w h i t t l e \" } , { \" c r e d i t _ i d \" : \" 5 4 4 9 1 d c 1 0 e 0 a 2 6 7 4 8 6 0 0 1 b c e \" , \" d e p a r t m e n t \" : \" s o u n d \" , \" g e n d e r \" : 0 , \" i d \" : 1 3 7 6 9 0 3 , \" j o b \" : \" s o u n d r e - r e c o r d i n g m i x e r \" , \" n a m e \" : \" w i l l i a m s t e i n \" } , { \" c r e d i t _ i d \" : \" 5 4 4 9 1 f 5 0 0 e 0 a 2 6 7 4 7 c 0 0 1 c 0 7 \" , \" d e p a r t m e n t \" : \" c r e w \" , \" g e n d e r \" : 0 , \" i d \" : 1 3 7 6 9 0 9 , \" j o b \" : \" c h o r e o g r a p h e r \" , \" n a m e \" : \" l u l a w a s h i n g t o n \" } , { \" c r e d i t _ i d \" : \" 5 4 9 5 9 9 2 3 9 2 5 1 4 1 2 c 4 e 0 0 2 a 2 e \" , \" d e p a r t m e n t \" : \" v i s u a l e f f e c t s \" , \" g e n d e r \" : 0 , \" i d \" : 1 3 9 1 6 9 2 , \" j o b \" : \" v i s u a l e f f e c t s p r o d u c e r \" , \" n a m e \" : \" c h r i s d e l c o n t e \" } , { \" c r e d i t _ i d \" : \" 5 4 9 5 9 d 5 4 c 3 a 3 6 8 3 1 b 8 0 0 1 d 9 a \" , \" d e p a r t m e n t \" : \" v i s u a l e f f e c t s \" , \" g e n d e r \" : 2 , \" i d \" : 1 3 9 1 6 9 5 , \" j o b \" : \" v i s u a l e f f e c t s s u p e r v i s o r \" , \" n a m e \" : \" r . c h r i s t o p h e r w h i t e \" } , { \" c r e d i t _ i d \" : \" 5 4 9 5 9 b d f 9 2 5 1 4 1 2 c 4 e 0 0 2 a 6 6 \" , \" d e p a r t m e n t \" : \" v i s u a l e f f e c t s \" , \" g e n d e r \" : 0 , \" i d \" : 1 3 9 4 0 7 0 , \" j o b \" : \" v i s u a l e f f e c t s s u p e r v i s o r \" , \" n a m e \" : \" d a n l e m m o n \" } , { \" c r e d i t _ i d \" : \" 5 4 9 5 9 7 1 d 9 2 5 1 4 1 3 2 e d 0 0 2 9 2 2 \" , \" d e p a r t m e n t \" : \" s o u n d \" , \" g e n d e r \" : 0 , \" i d \" : 1 3 9 4 1 2 9 , \" j o b \" : \" s o u n d e f f e c t s e d i t o r \" , \" n a m e \" : \" t i m n i e l s e n \" } , { \" c r e d i t _ i d \" : \" 5 5 9 2 b 2 5 7 9 2 5 1 4 1 5 2 c c 0 0 1 1 a a \" , \" d e p a r t m e n t \" : \" c r e w \" , \" g e n d e r \" : 0 , \" i d \" : 1 3 9 4 2 8 6 , \" j o b \" : \" c g s u p e r v i s o r \" , \" n a m e \" : \" m i c h a e l m u l h o l l a n d \" } , { \" c r e d i t _ i d \" : \" 5 4 9 5 9 a 3 2 9 2 5 1 4 1 6 e 2 b 0 0 4 3 5 5 \" , \" d e p a r t m e n t \" : \" c r e w \" , \" g e n d e r \" : 0 , \" i d \" : 1 3 9 4 7 5 0 , \" j o b \" : \" v i s u a l e f f e c t s e d i t o r \" , \" n a m e \" : \" t h o m a s n i t t m a n n \" } , { \" c r e d i t _ i d \" : \" 5 4 9 5 9 d 6 d c 3 a 3 6 8 6 a e 9 0 0 4 4 0 1 \" , \" d e p a r t m e n t \" : \" v i s u a l e f f e c t s \" , \" g e n d e r \" : 0 , \" i d \" : 1 3 9 4 7 5 5 , \" j o b \" : \" v i s u a l e f f e c t s s u p e r v i s o r \" , \" n a m e \" : \" e d s o n w i l l i a m s \" } , { \" c r e d i t _ i d \" : \" 5 4 9 5 a 0 8 f c 3 a 3 6 8 6 a e 3 0 0 4 4 1 c \" , \" d e p a r t m e n t \" : \" e d i t i n g \" , \" g e n d e r \" : 0 , \" i d \" : 1 3 9 4 9 5 3 , \" j o b \" : \" d i g i t a l i n t e r m e d i a t e \" , \" n a m e \" : \" c h r i s t i n e c a r r \" } , { \" c r e d i t _ i d \" : \" 5 5 4 0 2 d 6 5 9 2 5 1 4 1 3 d 6 d 0 0 0 2 4 9 \" , \" d e p a r t m e n t \" : \" v i s u a l e f f e c t s \" , \" g e n d e r \" : 0 , \" i d \" : 1 3 9 5 2 6 9 , \" j o b \" : \" v i s u a l e f f e c t s s u p e r v i s o r \" , \" n a m e \" : \" j o h n b r u n o \" } , { \" c r e d i t _ i d \" : \" 5 4 9 5 9 e 7 b 9 2 5 1 4 1 6 e 1 e 0 0 3 f 3 e \" , \" d e p a r t m e n t \" : \" c a m e r a \" , \" g e n d e r \" : 0 , \" i d \" : 1 3 9 8 9 7 0 , \" j o b \" : \" s t e a d i c a m o p e r a t o r \" , \" n a m e \" : \" d a v i d e m m e r i c h s \" } , { \" c r e d i t _ i d \" : \" 5 4 9 5 9 7 3 4 c 3 a 3 6 8 6 a e 1 0 0 4 5 e 0 \" , \" d e p a r t m e n t \" : \" s o u n d \" , \" g e n d e r \" : 0 , \" i d \" : 1 4 0 0 9 0 6 , \" j o b \" : \" s o u n d e f f e c t s e d i t o r \" , \" n a m e \" : \" c h r i s t o p h e r s c a r a b o s i o \" } , { \" c r e d i t _ i d \" : \" 5 4 9 5 9 5 d d 9 2 5 1 4 1 3 0 f c 0 0 2 d 7 9 \" , \" d e p a r t m e n t \" : \" p r o d u c t i o n \" , \" g e n d e r \" : 0 , \" i d \" : 1 4 0 1 7 8 4 , \" j o b \" : \" p r o d u c t i o n s u p e r v i s o r \" , \" n a m e \" : \" j e n n i f e r t e v e s \" } , { \" c r e d i t _ i d \" : \" 5 4 9 5 9 6 0 0 9 2 5 1 4 1 3 a f 7 0 0 2 8 c c \" , \" d e p a r t m e n t \" : \" p r o d u c t i o n \" , \" g e n d e r \" : 0 , \" i d \" : 1 4 0 1 7 8 5 , \" j o b \" : \" p r o d u c t i o n m a n a g e r \" , \" n a m e \" : \" b r i g i t t e y o r k e \" } , { \" c r e d i t _ i d \" : \" 5 4 9 5 9 6 e 8 9 2 5 1 4 1 3 0 f c 0 0 2 d 9 9 \" , \" d e p a r t m e n t \" : \" s o u n d \" , \" g e n d e r \" : 0 , \" i d \" : 1 4 0 1 7 8 6 , \" j o b \" : \" s o u n d e f f e c t s e d i t o r \" , \" n a m e \" : \" k e n f i s c h e r \" } , { \" c r e d i t _ i d \" : \" 5 4 9 5 9 8 2 2 9 2 5 1 4 1 2 c 4 e 0 0 2 a 1 c \" , \" d e p a r t m e n t \" : \" c r e w \" , \" g e n d e r \" : 0 , \" i d \" : 1 4 0 1 7 8 7 , \" j o b \" : \" s p e c i a l e f f e c t s c o o r d i n a t o r \" , \" n a m e \" : \" i a i n h u t t o n \" } , { \" c r e d i t _ i d \" : \" 5 4 9 5 9 8 3 4 9 2 5 1 4 1 6 e 2 b 0 0 4 3 2 b \" , \" d e p a r t m e n t \" : \" c r e w \" , \" g e n d e r \" : 0 , \" i d \" : 1 4 0 1 7 8 8 , \" j o b \" : \" s p e c i a l e f f e c t s c o o r d i n a t o r \" , \" n a m e \" : \" s t e v e i n g r a m \" } , { \" c r e d i t _ i d \" : \" 5 4 9 5 9 9 0 5 c 3 a 3 6 8 6 a e 3 0 0 4 3 2 4 \" , \" d e p a r t m e n t \" : \" v i s u a l e f f e c t s \" , \" g e n d e r \" : 0 , \" i d \" : 1 4 0 1 7 8 9 , \" j o b \" : \" v i s u a l e f f e c t s p r o d u c e r \" , \" n a m e \" : \" j o y c e c o x \" } , { \" c r e d i t _ i d \" : \" 5 4 9 5 9 9 4 b 9 2 5 1 4 1 3 2 e d 0 0 2 9 5 1 \" , \" d e p a r t m e n t \" : \" v i s u a l e f f e c t s \" , \" g e n d e r \" : 0 , \" i d \" : 1 4 0 1 7 9 0 , \" j o b \" : \" v i s u a l e f f e c t s p r o d u c e r \" , \" n a m e \" : \" j e n n y f o s t e r \" } , { \" c r e d i t _ i d \" : \" 5 4 9 5 9 9 c b c 3 a 3 6 8 6 a e 1 0 0 4 6 1 3 \" , \" d e p a r t m e n t \" : \" c r e w \" , \" g e n d e r \" : 0 , \" i d \" : 1 4 0 1 7 9 1 , \" j o b \" : \" v i s u a l e f f e c t s e d i t o r \" , \" n a m e \" : \" c h r i s t o p h e r m a r i n o \" } , { \" c r e d i t _ i d \" : \" 5 4 9 5 9 9 f 2 c 3 a 3 6 8 6 a e 1 0 0 4 6 1 e \" , \" d e p a r t m e n t \" : \" c r e w \" , \" g e n d e r \" : 0 , \" i d \" : 1 4 0 1 7 9 2 , \" j o b \" : \" v i s u a l e f f e c t s e d i t o r \" , \" n a m e \" : \" j i m m i l t o n \" } , { \" c r e d i t _ i d \" : \" 5 4 9 5 9 a 5 1 c 3 a 3 6 8 6 a f 3 0 0 3 e b 5 \" , \" d e p a r t m e n t \" : \" v i s u a l e f f e c t s \" , \" g e n d e r \" : 0 , \" i d \" : 1 4 0 1 7 9 3 , \" j o b \" : \" v i s u a l e f f e c t s p r o d u c e r \" , \" n a m e \" : \" c y n d i o c h s \" } , { \" c r e d i t _ i d \" : \" 5 4 9 5 9 a 7 c c 3 a 3 6 8 1 1 5 3 0 0 2 6 f 4 \" , \" d e p a r t m e n t \" : \" c r e w \" , \" g e n d e r \" : 0 , \" i d \" : 1 4 0 1 7 9 4 , \" j o b \" : \" v i s u a l e f f e c t s e d i t o r \" , \" n a m e \" : \" l u c a s p u t n a m \" } , { \" c r e d i t _ i d \" : \" 5 4 9 5 9 b 9 1 c 3 a 3 6 8 0 f f 5 0 0 2 c b 4 \" , \" d e p a r t m e n t \" : \" v i s u a l e f f e c t s \" , \" g e n d e r \" : 0 , \" i d \" : 1 4 0 1 7 9 5 , \" j o b \" : \" v i s u a l e f f e c t s s u p e r v i s o r \" , \" n a m e \" : \" a n t h o n y \\' m a x \\' i v i n s \" } , { \" c r e d i t _ i d \" : \" 5 4 9 5 9 b b 6 9 2 5 1 4 1 2 c 4 e 0 0 2 a 5 f \" , \" d e p a r t m e n t \" : \" v i s u a l e f f e c t s \" , \" g e n d e r \" : 0 , \" i d \" : 1 4 0 1 7 9 6 , \" j o b \" : \" v i s u a l e f f e c t s s u p e r v i s o r \" , \" n a m e \" : \" j o h n k n o l l \" } , { \" c r e d i t _ i d \" : \" 5 4 9 5 9 c b b c 3 a 3 6 8 6 a e 3 0 0 4 3 9 1 \" , \" d e p a r t m e n t \" : \" v i s u a l e f f e c t s \" , \" g e n d e r \" : 2 , \" i d \" : 1 4 0 1 7 9 9 , \" j o b \" : \" v i s u a l e f f e c t s s u p e r v i s o r \" , \" n a m e \" : \" e r i c s a i n d o n \" } , { \" c r e d i t _ i d \" : \" 5 4 9 5 9 d 0 6 c 3 a 3 6 8 6 a e 9 0 0 4 3 f 6 \" , \" d e p a r t m e n t \" : \" v i s u a l e f f e c t s \" , \" g e n d e r \" : 0 , \" i d \" : 1 4 0 1 8 0 0 , \" j o b \" : \" v i s u a l e f f e c t s s u p e r v i s o r \" , \" n a m e \" : \" w a y n e s t a b l e s \" } , { \" c r e d i t _ i d \" : \" 5 4 9 5 9 d 2 5 9 2 5 1 4 1 6 e 1 e 0 0 3 f 1 1 \" , \" d e p a r t m e n t \" : \" v i s u a l e f f e c t s \" , \" g e n d e r \" : 0 , \" i d \" : 1 4 0 1 8 0 1 , \" j o b \" : \" v i s u a l e f f e c t s s u p e r v i s o r \" , \" n a m e \" : \" d a v i d s t i n n e t t \" } , { \" c r e d i t _ i d \" : \" 5 4 9 5 9 d b 4 9 2 5 1 4 1 3 a f 7 0 0 2 9 7 5 \" , \" d e p a r t m e n t \" : \" v i s u a l e f f e c t s \" , \" g e n d e r \" : 0 , \" i d \" : 1 4 0 1 8 0 3 , \" j o b \" : \" v i s u a l e f f e c t s s u p e r v i s o r \" , \" n a m e \" : \" g u y w i l l i a m s \" } , { \" c r e d i t _ i d \" : \" 5 4 9 5 9 d e 4 c 3 a 3 6 8 1 1 5 3 0 0 2 7 5 0 \" , \" d e p a r t m e n t \" : \" c r e w \" , \" g e n d e r \" : 0 , \" i d \" : 1 4 0 1 8 0 4 , \" j o b \" : \" s t u n t c o o r d i n a t o r \" , \" n a m e \" : \" s t u a r t t h o r p \" } , { \" c r e d i t _ i d \" : \" 5 4 9 5 9 e f 2 c 3 a 3 6 8 0 f c 6 0 0 2 7 f 2 \" , \" d e p a r t m e n t \" : \" l i g h t i n g \" , \" g e n d e r \" : 0 , \" i d \" : 1 4 0 1 8 0 5 , \" j o b \" : \" b e s t b o y e l e c t r i c \" , \" n a m e \" : \" g i l e s c o b u r n \" } , { \" c r e d i t _ i d \" : \" 5 4 9 5 9 f 0 7 c 3 a 3 6 8 0 f c 6 0 0 2 7 f 9 \" , \" d e p a r t m e n t \" : \" c a m e r a \" , \" g e n d e r \" : 2 , \" i d \" : 1 4 0 1 8 0 6 , \" j o b \" : \" s t i l l p h o t o g r a p h e r \" , \" n a m e \" : \" m a r k f e l l m a n \" } , { \" c r e d i t _ i d \" : \" 5 4 9 5 9 f 4 7 c 3 a 3 6 8 1 1 5 3 0 0 2 7 7 4 \" , \" d e p a r t m e n t \" : \" l i g h t i n g \" , \" g e n d e r \" : 0 , \" i d \" : 1 4 0 1 8 0 7 , \" j o b \" : \" l i g h t i n g t e c h n i c i a n \" , \" n a m e \" : \" s c o t t s p r a g u e \" } , { \" c r e d i t _ i d \" : \" 5 4 9 5 9 f 8 c c 3 a 3 6 8 3 1 b 8 0 0 1 d f 2 \" , \" d e p a r t m e n t \" : \" v i s u a l e f f e c t s \" , \" g e n d e r \" : 0 , \" i d \" : 1 4 0 1 8 0 8 , \" j o b \" : \" a n i m a t i o n d i r e c t o r \" , \" n a m e \" : \" j e r e m y h o l l o b o n \" } , { \" c r e d i t _ i d \" : \" 5 4 9 5 9 f a 0 c 3 a 3 6 8 3 1 b 8 0 0 1 d f b \" , \" d e p a r t m e n t \" : \" v i s u a l e f f e c t s \" , \" g e n d e r \" : 0 , \" i d \" : 1 4 0 1 8 0 9 , \" j o b \" : \" a n i m a t i o n d i r e c t o r \" , \" n a m e \" : \" o r l a n d o m e u n i e r \" } , { \" c r e d i t _ i d \" : \" 5 4 9 5 9 f b 6 c 3 a 3 6 8 6 a f 3 0 0 3 f 5 4 \" , \" d e p a r t m e n t \" : \" v i s u a l e f f e c t s \" , \" g e n d e r \" : 0 , \" i d \" : 1 4 0 1 8 1 0 , \" j o b \" : \" a n i m a t i o n d i r e c t o r \" , \" n a m e \" : \" t a i s u k e t a n i m u r a \" } , { \" c r e d i t _ i d \" : \" 5 4 9 5 9 f d 2 c 3 a 3 6 8 3 1 b 8 0 0 1 e 0 2 \" , \" d e p a r t m e n t \" : \" c o s t u m e & m a k e - u p \" , \" g e n d e r \" : 0 , \" i d \" : 1 4 0 1 8 1 2 , \" j o b \" : \" s e t c o s t u m e r \" , \" n a m e \" : \" l i l i a m i s h e l a c e v e d o \" } , { \" c r e d i t _ i d \" : \" 5 4 9 5 9 f f 9 c 3 a 3 6 8 6 a e 3 0 0 4 4 0 c \" , \" d e p a r t m e n t \" : \" c o s t u m e & m a k e - u p \" , \" g e n d e r \" : 0 , \" i d \" : 1 4 0 1 8 1 4 , \" j o b \" : \" s e t c o s t u m e r \" , \" n a m e \" : \" a l e j a n d r o m . h e r n a n d e z \" } , { \" c r e d i t _ i d \" : \" 5 4 9 5 a 0 d d c 3 a 3 6 8 6 a e 1 0 0 4 6 f e \" , \" d e p a r t m e n t \" : \" e d i t i n g \" , \" g e n d e r \" : 0 , \" i d \" : 1 4 0 1 8 1 5 , \" j o b \" : \" d i g i t a l i n t e r m e d i a t e \" , \" n a m e \" : \" m a r v i n h a l l \" } , { \" c r e d i t _ i d \" : \" 5 4 9 5 a 1 f 7 c 3 a 3 6 8 6 a e 3 0 0 4 4 4 3 \" , \" d e p a r t m e n t \" : \" p r o d u c t i o n \" , \" g e n d e r \" : 0 , \" i d \" : 1 4 0 1 8 1 6 , \" j o b \" : \" p u b l i c i s t \" , \" n a m e \" : \" j u d y a l l e y \" } , { \" c r e d i t _ i d \" : \" 5 5 9 2 b 2 9 f c 3 a 3 6 8 6 9 d 1 0 0 0 0 2 f \" , \" d e p a r t m e n t \" : \" c r e w \" , \" g e n d e r \" : 0 , \" i d \" : 1 4 1 8 3 8 1 , \" j o b \" : \" c g s u p e r v i s o r \" , \" n a m e \" : \" m i k e p e r r y \" } , { \" c r e d i t _ i d \" : \" 5 5 9 2 b 2 3 a 9 2 5 1 4 1 5 d f 8 0 0 1 0 8 1 \" , \" d e p a r t m e n t \" : \" c r e w \" , \" g e n d e r \" : 0 , \" i d \" : 1 4 2 6 8 5 4 , \" j o b \" : \" c g s u p e r v i s o r \" , \" n a m e \" : \" a n d r e w m o r l e y \" } , { \" c r e d i t _ i d \" : \" 5 5 4 9 1 e 1 1 9 2 5 1 4 1 0 4 c 4 0 0 0 2 d 8 \" , \" d e p a r t m e n t \" : \" a r t \" , \" g e n d e r \" : 0 , \" i d \" : 1 4 3 8 9 0 1 , \" j o b \" : \" c o n c e p t u a l d e s i g n \" , \" n a m e \" : \" s e t h e n g s t r o m \" } , { \" c r e d i t _ i d \" : \" 5 5 2 5 d 5 8 0 9 2 5 1 4 1 7 2 7 6 0 0 2 b 0 6 \" , \" d e p a r t m e n t \" : \" c r e w \" , \" g e n d e r \" : 0 , \" i d \" : 1 4 4 7 3 6 2 , \" j o b \" : \" v i s u a l e f f e c t s a r t d i r e c t o r \" , \" n a m e \" : \" e r i c o l i v e r \" } , { \" c r e d i t _ i d \" : \" 5 5 4 4 2 7 c a 9 2 5 1 4 1 5 8 6 5 0 0 3 1 2 a \" , \" d e p a r t m e n t \" : \" v i s u a l e f f e c t s \" , \" g e n d e r \" : 0 , \" i d \" : 1 4 4 7 5 0 3 , \" j o b \" : \" m o d e l i n g \" , \" n a m e \" : \" m a t s u n e s u z u k i \" } , { \" c r e d i t _ i d \" : \" 5 5 1 9 0 6 8 8 9 2 5 1 4 1 5 a a b 0 0 1 c 8 8 \" , \" d e p a r t m e n t \" : \" a r t \" , \" g e n d e r \" : 0 , \" i d \" : 1 4 4 7 5 2 4 , \" j o b \" : \" a r t d e p a r t m e n t m a n a g e r \" , \" n a m e \" : \" p a u l t o b i n \" } , { \" c r e d i t _ i d \" : \" 5 5 9 2 a f 8 4 9 2 5 1 4 1 5 2 c c 0 0 1 0 d e \" , \" d e p a r t m e n t \" : \" c o s t u m e & m a k e - u p \" , \" g e n d e r \" : 0 , \" i d \" : 1 4 5 2 6 4 3 , \" j o b \" : \" h a i r s t y l i s t \" , \" n a m e \" : \" r o x a n e g r i f f i n \" } , { \" c r e d i t _ i d \" : \" 5 5 3 d 3 c 1 0 9 2 5 1 4 1 5 8 5 2 0 0 1 3 1 8 \" , \" d e p a r t m e n t \" : \" l i g h t i n g \" , \" g e n d e r \" : 0 , \" i d \" : 1 4 5 3 9 3 8 , \" j o b \" : \" l i g h t i n g a r t i s t \" , \" n a m e \" : \" a r u n r a m - m o h a n \" } , { \" c r e d i t _ i d \" : \" 5 5 9 2 a f 4 6 9 2 5 1 4 1 5 2 d 5 0 0 1 3 5 5 \" , \" d e p a r t m e n t \" : \" c o s t u m e & m a k e - u p \" , \" g e n d e r \" : 0 , \" i d \" : 1 4 5 7 3 0 5 , \" j o b \" : \" m a k e u p a r t i s t \" , \" n a m e \" : \" g e o r g i a l o c k h a r t - a d a m s \" } , { \" c r e d i t _ i d \" : \" 5 5 9 2 b 2 e a c 3 a 3 6 8 7 7 4 7 0 0 1 2 a 5 \" , \" d e p a r t m e n t \" : \" c r e w \" , \" g e n d e r \" : 0 , \" i d \" : 1 4 6 6 0 3 5 , \" j o b \" : \" c g s u p e r v i s o r \" , \" n a m e \" : \" t h r a i n s h a d b o l t \" } , { \" c r e d i t _ i d \" : \" 5 5 9 2 b 0 3 2 c 3 a 3 6 8 7 7 4 5 0 0 1 5 f 1 \" , \" d e p a r t m e n t \" : \" c r e w \" , \" g e n d e r \" : 0 , \" i d \" : 1 4 8 3 2 2 0 , \" j o b \" : \" c g s u p e r v i s o r \" , \" n a m e \" : \" b r a d a l e x a n d e r \" } , { \" c r e d i t _ i d \" : \" 5 5 9 2 b 0 5 5 9 2 5 1 4 1 5 2 d 8 0 0 1 2 f 6 \" , \" d e p a r t m e n t \" : \" c r e w \" , \" g e n d e r \" : 0 , \" i d \" : 1 4 8 3 2 2 1 , \" j o b \" : \" c g s u p e r v i s o r \" , \" n a m e \" : \" s h a d i a l m a s s i z a d e h \" } , { \" c r e d i t _ i d \" : \" 5 5 9 2 b 0 9 0 c 3 a 3 6 8 7 7 5 7 0 0 1 0 b 5 \" , \" d e p a r t m e n t \" : \" c r e w \" , \" g e n d e r \" : 0 , \" i d \" : 1 4 8 3 2 2 2 , \" j o b \" : \" c g s u p e r v i s o r \" , \" n a m e \" : \" s i m o n c l u t t e r b u c k \" } , { \" c r e d i t _ i d \" : \" 5 5 9 2 b 0 d b c 3 a 3 6 8 7 7 4 b 0 0 1 1 2 c \" , \" d e p a r t m e n t \" : \" c r e w \" , \" g e n d e r \" : 0 , \" i d \" : 1 4 8 3 2 2 3 , \" j o b \" : \" c g s u p e r v i s o r \" , \" n a m e \" : \" g r a e m e d e m m o c k s \" } , { \" c r e d i t _ i d \" : \" 5 5 9 2 b 0 f e 9 2 5 1 4 1 5 2 d b 0 0 1 0 c 1 \" , \" d e p a r t m e n t \" : \" c r e w \" , \" g e n d e r \" : 0 , \" i d \" : 1 4 8 3 2 2 4 , \" j o b \" : \" c g s u p e r v i s o r \" , \" n a m e \" : \" a d r i a n f e r n a n d e s \" } , { \" c r e d i t _ i d \" : \" 5 5 9 2 b 1 1 f 9 2 5 1 4 1 5 d f 8 0 0 1 0 5 9 \" , \" d e p a r t m e n t \" : \" c r e w \" , \" g e n d e r \" : 0 , \" i d \" : 1 4 8 3 2 2 5 , \" j o b \" : \" c g s u p e r v i s o r \" , \" n a m e \" : \" m i t c h g a t e s \" } , { \" c r e d i t _ i d \" : \" 5 5 9 2 b 1 5 d c 3 a 3 6 8 7 7 4 5 0 0 1 6 4 5 \" , \" d e p a r t m e n t \" : \" c r e w \" , \" g e n d e r \" : 0 , \" i d \" : 1 4 8 3 2 2 6 , \" j o b \" : \" c g s u p e r v i s o r \" , \" n a m e \" : \" j e r r y k u n g \" } , { \" c r e d i t _ i d \" : \" 5 5 9 2 b 1 8 e 9 2 5 1 4 1 6 4 5 a 0 0 0 4 a e \" , \" d e p a r t m e n t \" : \" c r e w \" , \" g e n d e r \" : 0 , \" i d \" : 1 4 8 3 2 2 7 , \" j o b \" : \" c g s u p e r v i s o r \" , \" n a m e \" : \" a n d y l o m a s \" } , { \" c r e d i t _ i d \" : \" 5 5 9 2 b 1 b f c 3 a 3 6 8 7 7 5 d 0 0 1 0 e 7 \" , \" d e p a r t m e n t \" : \" c r e w \" , \" g e n d e r \" : 0 , \" i d \" : 1 4 8 3 2 2 8 , \" j o b \" : \" c g s u p e r v i s o r \" , \" n a m e \" : \" s e b a s t i a n m a r i n o \" } , { \" c r e d i t _ i d \" : \" 5 5 9 2 b 2 0 4 9 2 5 1 4 1 5 d f 8 0 0 1 0 7 8 \" , \" d e p a r t m e n t \" : \" c r e w \" , \" g e n d e r \" : 0 , \" i d \" : 1 4 8 3 2 2 9 , \" j o b \" : \" c g s u p e r v i s o r \" , \" n a m e \" : \" m a t t h i a s m e n z \" } , { \" c r e d i t _ i d \" : \" 5 5 9 2 b 2 7 b 9 2 5 1 4 1 5 2 d 8 0 0 1 3 6 a \" , \" d e p a r t m e n t \" : \" c r e w \" , \" g e n d e r \" : 0 , \" i d \" : 1 4 8 3 2 3 0 , \" j o b \" : \" c g s u p e r v i s o r \" , \" n a m e \" : \" s e r g e i n e v s h u p o v \" } , { \" c r e d i t _ i d \" : \" 5 5 9 2 b 2 c 3 c 3 a 3 6 8 6 9 e 8 0 0 0 0 3 c \" , \" d e p a r t m e n t \" : \" c r e w \" , \" g e n d e r \" : 0 , \" i d \" : 1 4 8 3 2 3 1 , \" j o b \" : \" c g s u p e r v i s o r \" , \" n a m e \" : \" p h i l i p p e r e b o u r s \" } , { \" c r e d i t _ i d \" : \" 5 5 9 2 b 3 1 7 c 3 a 3 6 8 7 7 4 7 0 0 1 2 a f \" , \" d e p a r t m e n t \" : \" c r e w \" , \" g e n d e r \" : 0 , \" i d \" : 1 4 8 3 2 3 2 , \" j o b \" : \" c g s u p e r v i s o r \" , \" n a m e \" : \" m i c h a e l t a k a r a n g i \" } , { \" c r e d i t _ i d \" : \" 5 5 9 2 b 3 4 5 c 3 a 3 6 8 7 7 4 7 0 0 1 2 b b \" , \" d e p a r t m e n t \" : \" c r e w \" , \" g e n d e r \" : 0 , \" i d \" : 1 4 8 3 2 3 3 , \" j o b \" : \" c g s u p e r v i s o r \" , \" n a m e \" : \" d a v i d w e i t z b e r g \" } , { \" c r e d i t _ i d \" : \" 5 5 9 2 b 3 7 c c 3 a 3 6 8 7 7 5 1 0 0 1 1 3 b \" , \" d e p a r t m e n t \" : \" c r e w \" , \" g e n d e r \" : 0 , \" i d \" : 1 4 8 3 2 3 4 , \" j o b \" : \" c g s u p e r v i s o r \" , \" n a m e \" : \" b e n w h i t e \" } , { \" c r e d i t _ i d \" : \" 5 7 3 c 8 e 2 f 9 2 5 1 4 1 3 f 5 d 0 0 0 0 9 4 \" , \" d e p a r t m e n t \" : \" c r e w \" , \" g e n d e r \" : 1 , \" i d \" : 1 6 2 1 9 3 2 , \" j o b \" : \" s t u n t s \" , \" n a m e \" : \" m i n w i n d l e \" } ]'"
      ]
     },
     "execution_count": 50,
     "metadata": {},
     "output_type": "execute_result"
    }
   ],
   "source": [
    "new_df['tags'][0]"
   ]
  },
  {
   "cell_type": "code",
   "execution_count": 51,
   "id": "02b92f36-7111-4c4a-9cab-7c4640872872",
   "metadata": {},
   "outputs": [],
   "source": [
    "from sklearn.feature_extraction.text import CountVectorizer\n",
    "cv = CountVectorizer(max_features=5000,stop_words='english')"
   ]
  },
  {
   "cell_type": "code",
   "execution_count": 52,
   "id": "3819a8b1-8645-4b03-b98e-e500ddb43828",
   "metadata": {},
   "outputs": [],
   "source": [
    "vectors = cv.fit_transform(new_df['tags']).toarray()"
   ]
  },
  {
   "cell_type": "code",
   "execution_count": 53,
   "id": "664a206b-9c09-4164-a76d-f17dced3f01a",
   "metadata": {},
   "outputs": [
    {
     "data": {
      "text/plain": [
       "array([[0, 0, 0, ..., 0, 0, 0],\n",
       "       [0, 0, 0, ..., 0, 0, 0],\n",
       "       [0, 0, 0, ..., 0, 0, 0],\n",
       "       ...,\n",
       "       [0, 0, 0, ..., 0, 0, 0],\n",
       "       [0, 0, 0, ..., 0, 0, 0],\n",
       "       [0, 0, 0, ..., 0, 0, 0]], dtype=int64)"
      ]
     },
     "execution_count": 53,
     "metadata": {},
     "output_type": "execute_result"
    }
   ],
   "source": [
    "vectors"
   ]
  },
  {
   "cell_type": "code",
   "execution_count": 54,
   "id": "73ab9a9b-89f3-4344-82b5-380599dea9e9",
   "metadata": {},
   "outputs": [
    {
     "data": {
      "text/plain": [
       "array([0, 0, 0, ..., 0, 0, 0], dtype=int64)"
      ]
     },
     "execution_count": 54,
     "metadata": {},
     "output_type": "execute_result"
    }
   ],
   "source": [
    "vectors[0]"
   ]
  },
  {
   "cell_type": "code",
   "execution_count": 55,
   "id": "2f29fccf-9e1c-4515-8de4-8782fb5e8fe5",
   "metadata": {},
   "outputs": [
    {
     "data": {
      "text/plain": [
       "5000"
      ]
     },
     "execution_count": 55,
     "metadata": {},
     "output_type": "execute_result"
    }
   ],
   "source": [
    "len(cv.get_feature_names_out())\n"
   ]
  },
  {
   "cell_type": "code",
   "execution_count": 56,
   "id": "7ecb4966-2f21-4057-9317-bff5d53ab7f6",
   "metadata": {},
   "outputs": [
    {
     "data": {
      "text/plain": [
       "['studying', 'studied', 'study']"
      ]
     },
     "execution_count": 56,
     "metadata": {},
     "output_type": "execute_result"
    }
   ],
   "source": [
    "['studying', 'studied' , 'study']"
   ]
  },
  {
   "cell_type": "code",
   "execution_count": 57,
   "id": "abc70cf3-5899-48e7-b9a4-20aee52192f6",
   "metadata": {},
   "outputs": [
    {
     "data": {
      "text/plain": [
       "'student'"
      ]
     },
     "execution_count": 57,
     "metadata": {},
     "output_type": "execute_result"
    }
   ],
   "source": [
    "ps.stem('student')"
   ]
  },
  {
   "cell_type": "code",
   "execution_count": 58,
   "id": "b06e0493-55a0-4c2f-9a8a-4f617bcd4519",
   "metadata": {},
   "outputs": [],
   "source": [
    "from sklearn.metrics.pairwise import cosine_similarity"
   ]
  },
  {
   "cell_type": "code",
   "execution_count": 59,
   "id": "116037c2-a655-43d9-b2e7-6d6bca1de945",
   "metadata": {},
   "outputs": [],
   "source": [
    "similarity = cosine_similarity(vectors)\n"
   ]
  },
  {
   "cell_type": "code",
   "execution_count": 60,
   "id": "fc28e4dd-3d60-4a56-b9de-e414f8018b79",
   "metadata": {},
   "outputs": [
    {
     "data": {
      "text/plain": [
       "array([[1.        , 0.        , 0.        , ..., 0.        , 0.        ,\n",
       "        0.        ],\n",
       "       [0.        , 1.        , 0.        , ..., 0.0412393 , 0.        ,\n",
       "        0.04393748],\n",
       "       [0.        , 0.        , 1.        , ..., 0.03367175, 0.        ,\n",
       "        0.        ],\n",
       "       ...,\n",
       "       [0.        , 0.0412393 , 0.03367175, ..., 1.        , 0.04501491,\n",
       "        0.02536731],\n",
       "       [0.        , 0.        , 0.        , ..., 0.04501491, 1.        ,\n",
       "        0.09592023],\n",
       "       [0.        , 0.04393748, 0.        , ..., 0.02536731, 0.09592023,\n",
       "        1.        ]])"
      ]
     },
     "execution_count": 60,
     "metadata": {},
     "output_type": "execute_result"
    }
   ],
   "source": [
    "similarity"
   ]
  },
  {
   "cell_type": "code",
   "execution_count": 61,
   "id": "c8e406ca-8960-45bc-8f58-0122e86347e5",
   "metadata": {},
   "outputs": [
    {
     "data": {
      "text/plain": [
       "744"
      ]
     },
     "execution_count": 61,
     "metadata": {},
     "output_type": "execute_result"
    }
   ],
   "source": [
    "new_df[new_df['title'] == 'The Lego Movie'].index[0]"
   ]
  },
  {
   "cell_type": "code",
   "execution_count": 62,
   "id": "e5a4411c-9f67-4cb3-ba3e-e99e7be22220",
   "metadata": {},
   "outputs": [],
   "source": [
    "def recommend(movie):\n",
    "    index = new_df[new_df['title'] == movie].index[0]\n",
    "    distances = sorted(list(enumerate(similarity[index])),reverse=True,key = lambda x: x[1])\n",
    "    for i in distances[1:6]:\n",
    "        print(new_df.iloc[i[0]].title)\n",
    "        "
   ]
  },
  {
   "cell_type": "code",
   "execution_count": 63,
   "id": "aa571099-b241-4c93-a58e-4a907af76040",
   "metadata": {},
   "outputs": [
    {
     "name": "stdout",
     "output_type": "stream",
     "text": [
      "Bucky Larson: Born to Be a Star\n",
      "Tears of the Sun\n",
      "Apollo 18\n",
      "Aliens vs Predator: Requiem\n",
      "Meet Dave\n"
     ]
    }
   ],
   "source": [
    "recommend('Avatar')"
   ]
  },
  {
   "cell_type": "code",
   "execution_count": null,
   "id": "1d65a778-b076-41c7-a2f1-e92800848971",
   "metadata": {},
   "outputs": [],
   "source": []
  },
  {
   "cell_type": "code",
   "execution_count": null,
   "id": "5d92dd6c-e93e-4f86-b3d7-4ee50f114511",
   "metadata": {},
   "outputs": [],
   "source": []
  }
 ],
 "metadata": {
  "kernelspec": {
   "display_name": "Python 3 (ipykernel)",
   "language": "python",
   "name": "python3"
  },
  "language_info": {
   "codemirror_mode": {
    "name": "ipython",
    "version": 3
   },
   "file_extension": ".py",
   "mimetype": "text/x-python",
   "name": "python",
   "nbconvert_exporter": "python",
   "pygments_lexer": "ipython3",
   "version": "3.12.0"
  }
 },
 "nbformat": 4,
 "nbformat_minor": 5
}
